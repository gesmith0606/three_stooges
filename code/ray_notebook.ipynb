{
 "cells": [
  {
   "cell_type": "code",
   "execution_count": 152,
   "metadata": {},
   "outputs": [],
   "source": [
    "import plotly.express as px\n",
    "import hvplot.pandas\n",
    "import pandas as pd\n",
    "import json\n",
    "from pathlib import Path\n",
    "import os\n",
    "import plotly.graph_objs as go\n",
    "from plotly.offline import init_notebook_mode, iplot\n",
    "import chart_studio.plotly as py"
   ]
  },
  {
   "cell_type": "code",
   "execution_count": 153,
   "metadata": {},
   "outputs": [],
   "source": [
    "# Extract token\n",
    "mapbox_token = os.getenv(\"MAPBOX_API_KEY\")\n",
    "\n",
    "# Set token using Plotly Express set function\n",
    "px.set_mapbox_access_token(mapbox_token)"
   ]
  },
  {
   "cell_type": "code",
   "execution_count": 2,
   "metadata": {},
   "outputs": [],
   "source": [
    "#brewiers and alochol dataset\n",
    "breweries = pd.read_csv(Path('../data/breweries.csv'))\n",
    "wineries = pd.read_csv(Path('../data/Wineries__Breweries__and_Distilleries.csv'))"
   ]
  },
  {
   "cell_type": "code",
   "execution_count": null,
   "metadata": {},
   "outputs": [],
   "source": [
    "liquor_estasblishments = pd.read_csv(Path('../data/Liquor_Authority_Quarterly_List_of_Active_Licenses.csv')) \n",
    "breweries_geocode = pd.read_csv(Path('../data/breweries_geocode.csv'))"
   ]
  },
  {
   "cell_type": "code",
   "execution_count": null,
   "metadata": {},
   "outputs": [],
   "source": [
    "#dog dataset\n",
    "dog_licenses = pd.read_csv(Path('../data/NYC_Dog_Licensing_Dataset.csv'))\n",
    "dog_runs = pd.read_csv(Path('../data/nyc-parks-dog-runs-1.csv'))"
   ]
  },
  {
   "cell_type": "code",
   "execution_count": 97,
   "metadata": {},
   "outputs": [],
   "source": [
    "#zip_code_data\n",
    "zipcode_data = pd.read_csv(Path('../data/uszips.csv'))\n",
    "\n",
    "#income by zipcode by year\n",
    "income_2011 = pd.read_csv(Path('../data/2011_income_by_zipcode.csv'))\n",
    "income_2012 = pd.read_csv(Path('../data/2012_income_by_zipcode.csv'))\n",
    "income_2013 = pd.read_csv(Path('../data/2013_income_by_zipcode.csv'))\n",
    "income_2014 = pd.read_csv(Path('../data/2014_income_by_zipcode.csv'))\n",
    "income_2015 = pd.read_csv(Path('../data/2015_income_by_zipcode.csv'))\n",
    "income_2016 = pd.read_csv(Path('../data/2016_income_by_zipcode.csv'))"
   ]
  },
  {
   "cell_type": "code",
   "execution_count": 105,
   "metadata": {},
   "outputs": [],
   "source": [
    "#zicode_long_at\n",
    "longlag = pd.read_csv(Path('../data/us-zip-code-latitude-and-longitude.csv'), sep=';')"
   ]
  },
  {
   "cell_type": "code",
   "execution_count": 106,
   "metadata": {},
   "outputs": [
    {
     "data": {
      "text/html": [
       "<div>\n",
       "<style scoped>\n",
       "    .dataframe tbody tr th:only-of-type {\n",
       "        vertical-align: middle;\n",
       "    }\n",
       "\n",
       "    .dataframe tbody tr th {\n",
       "        vertical-align: top;\n",
       "    }\n",
       "\n",
       "    .dataframe thead th {\n",
       "        text-align: right;\n",
       "    }\n",
       "</style>\n",
       "<table border=\"1\" class=\"dataframe\">\n",
       "  <thead>\n",
       "    <tr style=\"text-align: right;\">\n",
       "      <th></th>\n",
       "      <th>ZIP\n",
       "code</th>\n",
       "      <th>Size of adjusted gross income</th>\n",
       "      <th>Number of returns</th>\n",
       "    </tr>\n",
       "  </thead>\n",
       "  <tbody>\n",
       "    <tr>\n",
       "      <th>0</th>\n",
       "      <td>0.0</td>\n",
       "      <td>Total</td>\n",
       "      <td>9,224,775</td>\n",
       "    </tr>\n",
       "    <tr>\n",
       "      <th>1</th>\n",
       "      <td>0.0</td>\n",
       "      <td>$1 under $25,000</td>\n",
       "      <td>3702630</td>\n",
       "    </tr>\n",
       "    <tr>\n",
       "      <th>2</th>\n",
       "      <td>0.0</td>\n",
       "      <td>$25,000 under $50,000</td>\n",
       "      <td>2124251</td>\n",
       "    </tr>\n",
       "    <tr>\n",
       "      <th>3</th>\n",
       "      <td>0.0</td>\n",
       "      <td>$50,000 under $75,000</td>\n",
       "      <td>1219598</td>\n",
       "    </tr>\n",
       "    <tr>\n",
       "      <th>4</th>\n",
       "      <td>0.0</td>\n",
       "      <td>$75,000 under $100,000</td>\n",
       "      <td>766320</td>\n",
       "    </tr>\n",
       "  </tbody>\n",
       "</table>\n",
       "</div>"
      ],
      "text/plain": [
       "   ZIP\\ncode Size of adjusted gross income Number of returns\n",
       "0        0.0                         Total         9,224,775\n",
       "1        0.0              $1 under $25,000           3702630\n",
       "2        0.0         $25,000 under $50,000           2124251\n",
       "3        0.0         $50,000 under $75,000           1219598\n",
       "4        0.0        $75,000 under $100,000            766320"
      ]
     },
     "execution_count": 106,
     "metadata": {},
     "output_type": "execute_result"
    }
   ],
   "source": [
    "income_2011.head()"
   ]
  },
  {
   "cell_type": "code",
   "execution_count": 120,
   "metadata": {},
   "outputs": [
    {
     "data": {
      "text/html": [
       "<div>\n",
       "<style scoped>\n",
       "    .dataframe tbody tr th:only-of-type {\n",
       "        vertical-align: middle;\n",
       "    }\n",
       "\n",
       "    .dataframe tbody tr th {\n",
       "        vertical-align: top;\n",
       "    }\n",
       "\n",
       "    .dataframe thead th {\n",
       "        text-align: right;\n",
       "    }\n",
       "</style>\n",
       "<table border=\"1\" class=\"dataframe\">\n",
       "  <thead>\n",
       "    <tr style=\"text-align: right;\">\n",
       "      <th></th>\n",
       "      <th>Zip code</th>\n",
       "      <th>City</th>\n",
       "      <th>State</th>\n",
       "      <th>Latitude</th>\n",
       "      <th>Longitude</th>\n",
       "      <th>Timezone</th>\n",
       "      <th>Daylight savings time flag</th>\n",
       "      <th>geopoint</th>\n",
       "    </tr>\n",
       "  </thead>\n",
       "  <tbody>\n",
       "    <tr>\n",
       "      <th>0</th>\n",
       "      <td>14043</td>\n",
       "      <td>Depew</td>\n",
       "      <td>NY</td>\n",
       "      <td>42.904958</td>\n",
       "      <td>-78.700600</td>\n",
       "      <td>-5</td>\n",
       "      <td>1</td>\n",
       "      <td>42.904958,-78.7006</td>\n",
       "    </tr>\n",
       "    <tr>\n",
       "      <th>1</th>\n",
       "      <td>13827</td>\n",
       "      <td>Owego</td>\n",
       "      <td>NY</td>\n",
       "      <td>42.120274</td>\n",
       "      <td>-76.258740</td>\n",
       "      <td>-5</td>\n",
       "      <td>1</td>\n",
       "      <td>42.120274,-76.25874</td>\n",
       "    </tr>\n",
       "    <tr>\n",
       "      <th>2</th>\n",
       "      <td>14739</td>\n",
       "      <td>Friendship</td>\n",
       "      <td>NY</td>\n",
       "      <td>42.192384</td>\n",
       "      <td>-78.143080</td>\n",
       "      <td>-5</td>\n",
       "      <td>1</td>\n",
       "      <td>42.192384,-78.14308</td>\n",
       "    </tr>\n",
       "    <tr>\n",
       "      <th>3</th>\n",
       "      <td>11703</td>\n",
       "      <td>North Babylon</td>\n",
       "      <td>NY</td>\n",
       "      <td>40.733398</td>\n",
       "      <td>-73.322570</td>\n",
       "      <td>-5</td>\n",
       "      <td>1</td>\n",
       "      <td>40.733398,-73.32257</td>\n",
       "    </tr>\n",
       "    <tr>\n",
       "      <th>4</th>\n",
       "      <td>11707</td>\n",
       "      <td>West Babylon</td>\n",
       "      <td>NY</td>\n",
       "      <td>40.922326</td>\n",
       "      <td>-72.637078</td>\n",
       "      <td>-5</td>\n",
       "      <td>1</td>\n",
       "      <td>40.922326,-72.637078</td>\n",
       "    </tr>\n",
       "  </tbody>\n",
       "</table>\n",
       "</div>"
      ],
      "text/plain": [
       "   Zip code           City State   Latitude  Longitude  Timezone  \\\n",
       "0     14043          Depew    NY  42.904958 -78.700600        -5   \n",
       "1     13827          Owego    NY  42.120274 -76.258740        -5   \n",
       "2     14739     Friendship    NY  42.192384 -78.143080        -5   \n",
       "3     11703  North Babylon    NY  40.733398 -73.322570        -5   \n",
       "4     11707   West Babylon    NY  40.922326 -72.637078        -5   \n",
       "\n",
       "   Daylight savings time flag              geopoint  \n",
       "0                           1    42.904958,-78.7006  \n",
       "1                           1   42.120274,-76.25874  \n",
       "2                           1   42.192384,-78.14308  \n",
       "3                           1   40.733398,-73.32257  \n",
       "4                           1  40.922326,-72.637078  "
      ]
     },
     "execution_count": 120,
     "metadata": {},
     "output_type": "execute_result"
    }
   ],
   "source": [
    "longlag.head()"
   ]
  },
  {
   "cell_type": "code",
   "execution_count": 119,
   "metadata": {},
   "outputs": [],
   "source": [
    "longlag.rename(columns={'Zip':'Zip code'}, inplace=True)"
   ]
  },
  {
   "cell_type": "code",
   "execution_count": 5,
   "metadata": {},
   "outputs": [
    {
     "data": {
      "text/plain": [
       "['ZIP\\ncode', 'Size of adjusted gross income', 'Number of returns']"
      ]
     },
     "execution_count": 5,
     "metadata": {},
     "output_type": "execute_result"
    }
   ],
   "source": [
    "list(income_2011.columns)"
   ]
  },
  {
   "cell_type": "code",
   "execution_count": 6,
   "metadata": {},
   "outputs": [
    {
     "data": {
      "text/plain": [
       "ZIP\\ncode                        float64\n",
       "Size of adjusted gross income     object\n",
       "Number of returns                 object\n",
       "dtype: object"
      ]
     },
     "execution_count": 6,
     "metadata": {},
     "output_type": "execute_result"
    }
   ],
   "source": [
    "income_2011.dtypes"
   ]
  },
  {
   "cell_type": "code",
   "execution_count": 7,
   "metadata": {},
   "outputs": [
    {
     "data": {
      "text/html": [
       "<div>\n",
       "<style scoped>\n",
       "    .dataframe tbody tr th:only-of-type {\n",
       "        vertical-align: middle;\n",
       "    }\n",
       "\n",
       "    .dataframe tbody tr th {\n",
       "        vertical-align: top;\n",
       "    }\n",
       "\n",
       "    .dataframe thead th {\n",
       "        text-align: right;\n",
       "    }\n",
       "</style>\n",
       "<table border=\"1\" class=\"dataframe\">\n",
       "  <thead>\n",
       "    <tr style=\"text-align: right;\">\n",
       "      <th></th>\n",
       "      <th>ZIP\n",
       "code</th>\n",
       "      <th>Size of adjusted gross income</th>\n",
       "      <th>Number of returns</th>\n",
       "    </tr>\n",
       "  </thead>\n",
       "  <tbody>\n",
       "    <tr>\n",
       "      <th>72</th>\n",
       "      <td>10010.0</td>\n",
       "      <td>NaN</td>\n",
       "      <td>17,488</td>\n",
       "    </tr>\n",
       "    <tr>\n",
       "      <th>73</th>\n",
       "      <td>10010.0</td>\n",
       "      <td>$1 under $25,000</td>\n",
       "      <td>3360</td>\n",
       "    </tr>\n",
       "    <tr>\n",
       "      <th>74</th>\n",
       "      <td>10010.0</td>\n",
       "      <td>$25,000 under $50,000</td>\n",
       "      <td>2970</td>\n",
       "    </tr>\n",
       "    <tr>\n",
       "      <th>75</th>\n",
       "      <td>10010.0</td>\n",
       "      <td>$50,000 under $75,000</td>\n",
       "      <td>2631</td>\n",
       "    </tr>\n",
       "    <tr>\n",
       "      <th>76</th>\n",
       "      <td>10010.0</td>\n",
       "      <td>$75,000 under $100,000</td>\n",
       "      <td>1926</td>\n",
       "    </tr>\n",
       "    <tr>\n",
       "      <th>77</th>\n",
       "      <td>10010.0</td>\n",
       "      <td>$100,000 under $200,000</td>\n",
       "      <td>3475</td>\n",
       "    </tr>\n",
       "    <tr>\n",
       "      <th>78</th>\n",
       "      <td>10010.0</td>\n",
       "      <td>$200,000 or more</td>\n",
       "      <td>3126</td>\n",
       "    </tr>\n",
       "  </tbody>\n",
       "</table>\n",
       "</div>"
      ],
      "text/plain": [
       "    ZIP\\ncode Size of adjusted gross income Number of returns\n",
       "72    10010.0                           NaN            17,488\n",
       "73    10010.0              $1 under $25,000              3360\n",
       "74    10010.0         $25,000 under $50,000              2970\n",
       "75    10010.0         $50,000 under $75,000              2631\n",
       "76    10010.0        $75,000 under $100,000              1926\n",
       "77    10010.0       $100,000 under $200,000              3475\n",
       "78    10010.0              $200,000 or more              3126"
      ]
     },
     "execution_count": 7,
     "metadata": {},
     "output_type": "execute_result"
    }
   ],
   "source": [
    "#income_2011['ZIP code'][50]\n",
    "\n",
    "income_2011.loc[income_2011['ZIP\\ncode'] == 10010]"
   ]
  },
  {
   "cell_type": "code",
   "execution_count": 8,
   "metadata": {},
   "outputs": [],
   "source": [
    "income_2011.columns = ['Zip code', 'Size of adjusted gross income', 'Number of returns']"
   ]
  },
  {
   "cell_type": "code",
   "execution_count": 9,
   "metadata": {},
   "outputs": [
    {
     "data": {
      "text/html": [
       "<div>\n",
       "<style scoped>\n",
       "    .dataframe tbody tr th:only-of-type {\n",
       "        vertical-align: middle;\n",
       "    }\n",
       "\n",
       "    .dataframe tbody tr th {\n",
       "        vertical-align: top;\n",
       "    }\n",
       "\n",
       "    .dataframe thead th {\n",
       "        text-align: right;\n",
       "    }\n",
       "</style>\n",
       "<table border=\"1\" class=\"dataframe\">\n",
       "  <thead>\n",
       "    <tr style=\"text-align: right;\">\n",
       "      <th></th>\n",
       "      <th>Zip code</th>\n",
       "      <th>Size of adjusted gross income</th>\n",
       "      <th>Number of returns</th>\n",
       "    </tr>\n",
       "  </thead>\n",
       "  <tbody>\n",
       "    <tr>\n",
       "      <th>0</th>\n",
       "      <td>0.0</td>\n",
       "      <td>Total</td>\n",
       "      <td>9,224,775</td>\n",
       "    </tr>\n",
       "    <tr>\n",
       "      <th>1</th>\n",
       "      <td>0.0</td>\n",
       "      <td>$1 under $25,000</td>\n",
       "      <td>3702630</td>\n",
       "    </tr>\n",
       "    <tr>\n",
       "      <th>2</th>\n",
       "      <td>0.0</td>\n",
       "      <td>$25,000 under $50,000</td>\n",
       "      <td>2124251</td>\n",
       "    </tr>\n",
       "    <tr>\n",
       "      <th>3</th>\n",
       "      <td>0.0</td>\n",
       "      <td>$50,000 under $75,000</td>\n",
       "      <td>1219598</td>\n",
       "    </tr>\n",
       "    <tr>\n",
       "      <th>4</th>\n",
       "      <td>0.0</td>\n",
       "      <td>$75,000 under $100,000</td>\n",
       "      <td>766320</td>\n",
       "    </tr>\n",
       "  </tbody>\n",
       "</table>\n",
       "</div>"
      ],
      "text/plain": [
       "   Zip code Size of adjusted gross income Number of returns\n",
       "0       0.0                         Total         9,224,775\n",
       "1       0.0              $1 under $25,000           3702630\n",
       "2       0.0         $25,000 under $50,000           2124251\n",
       "3       0.0         $50,000 under $75,000           1219598\n",
       "4       0.0        $75,000 under $100,000            766320"
      ]
     },
     "execution_count": 9,
     "metadata": {},
     "output_type": "execute_result"
    }
   ],
   "source": [
    "income_2011.head()"
   ]
  },
  {
   "cell_type": "code",
   "execution_count": 10,
   "metadata": {},
   "outputs": [
    {
     "data": {
      "text/html": [
       "<div>\n",
       "<style scoped>\n",
       "    .dataframe tbody tr th:only-of-type {\n",
       "        vertical-align: middle;\n",
       "    }\n",
       "\n",
       "    .dataframe tbody tr th {\n",
       "        vertical-align: top;\n",
       "    }\n",
       "\n",
       "    .dataframe thead th {\n",
       "        text-align: right;\n",
       "    }\n",
       "</style>\n",
       "<table border=\"1\" class=\"dataframe\">\n",
       "  <thead>\n",
       "    <tr style=\"text-align: right;\">\n",
       "      <th></th>\n",
       "      <th>Zip code</th>\n",
       "      <th>Size of adjusted gross income</th>\n",
       "      <th>Number of returns</th>\n",
       "    </tr>\n",
       "  </thead>\n",
       "  <tbody>\n",
       "    <tr>\n",
       "      <th>8</th>\n",
       "      <td>10001.0</td>\n",
       "      <td>NaN</td>\n",
       "      <td>13,590</td>\n",
       "    </tr>\n",
       "    <tr>\n",
       "      <th>9</th>\n",
       "      <td>10001.0</td>\n",
       "      <td>$1 under $25,000</td>\n",
       "      <td>4329</td>\n",
       "    </tr>\n",
       "    <tr>\n",
       "      <th>10</th>\n",
       "      <td>10001.0</td>\n",
       "      <td>$25,000 under $50,000</td>\n",
       "      <td>2659</td>\n",
       "    </tr>\n",
       "    <tr>\n",
       "      <th>11</th>\n",
       "      <td>10001.0</td>\n",
       "      <td>$50,000 under $75,000</td>\n",
       "      <td>1875</td>\n",
       "    </tr>\n",
       "    <tr>\n",
       "      <th>12</th>\n",
       "      <td>10001.0</td>\n",
       "      <td>$75,000 under $100,000</td>\n",
       "      <td>1241</td>\n",
       "    </tr>\n",
       "    <tr>\n",
       "      <th>13</th>\n",
       "      <td>10001.0</td>\n",
       "      <td>$100,000 under $200,000</td>\n",
       "      <td>1921</td>\n",
       "    </tr>\n",
       "    <tr>\n",
       "      <th>14</th>\n",
       "      <td>10001.0</td>\n",
       "      <td>$200,000 or more</td>\n",
       "      <td>1565</td>\n",
       "    </tr>\n",
       "  </tbody>\n",
       "</table>\n",
       "</div>"
      ],
      "text/plain": [
       "    Zip code Size of adjusted gross income Number of returns\n",
       "8    10001.0                           NaN            13,590\n",
       "9    10001.0              $1 under $25,000              4329\n",
       "10   10001.0         $25,000 under $50,000              2659\n",
       "11   10001.0         $50,000 under $75,000              1875\n",
       "12   10001.0        $75,000 under $100,000              1241\n",
       "13   10001.0       $100,000 under $200,000              1921\n",
       "14   10001.0              $200,000 or more              1565"
      ]
     },
     "execution_count": 10,
     "metadata": {},
     "output_type": "execute_result"
    }
   ],
   "source": [
    "income_2011.loc[income_2011['Zip code'] == 10001]"
   ]
  },
  {
   "cell_type": "code",
   "execution_count": 11,
   "metadata": {},
   "outputs": [],
   "source": [
    "income_2011 = income_2011.dropna()\n",
    "income_2011 = income_2011.astype({\"Zip code\": int})\n",
    "income_2011 = income_2011.loc[income_2011['Zip code'] != 0]\n",
    "income_2011 = income_2011.loc[income_2011['Zip code'] != 99999]"
   ]
  },
  {
   "cell_type": "code",
   "execution_count": 12,
   "metadata": {},
   "outputs": [],
   "source": [
    "income_2011.loc[income_2011[\"Number of returns\"] == '**', 'Number of returns'] = 0\n",
    "income_2011 = income_2011.astype({\"Number of returns\": int})"
   ]
  },
  {
   "cell_type": "code",
   "execution_count": 13,
   "metadata": {},
   "outputs": [
    {
     "data": {
      "text/html": [
       "<div>\n",
       "<style scoped>\n",
       "    .dataframe tbody tr th:only-of-type {\n",
       "        vertical-align: middle;\n",
       "    }\n",
       "\n",
       "    .dataframe tbody tr th {\n",
       "        vertical-align: top;\n",
       "    }\n",
       "\n",
       "    .dataframe thead th {\n",
       "        text-align: right;\n",
       "    }\n",
       "</style>\n",
       "<table border=\"1\" class=\"dataframe\">\n",
       "  <thead>\n",
       "    <tr style=\"text-align: right;\">\n",
       "      <th></th>\n",
       "      <th>Zip code</th>\n",
       "      <th>Size of adjusted gross income</th>\n",
       "      <th>Number of returns</th>\n",
       "    </tr>\n",
       "  </thead>\n",
       "  <tbody>\n",
       "    <tr>\n",
       "      <th>9</th>\n",
       "      <td>10001</td>\n",
       "      <td>$1 under $25,000</td>\n",
       "      <td>4329</td>\n",
       "    </tr>\n",
       "    <tr>\n",
       "      <th>10</th>\n",
       "      <td>10001</td>\n",
       "      <td>$25,000 under $50,000</td>\n",
       "      <td>2659</td>\n",
       "    </tr>\n",
       "    <tr>\n",
       "      <th>11</th>\n",
       "      <td>10001</td>\n",
       "      <td>$50,000 under $75,000</td>\n",
       "      <td>1875</td>\n",
       "    </tr>\n",
       "    <tr>\n",
       "      <th>12</th>\n",
       "      <td>10001</td>\n",
       "      <td>$75,000 under $100,000</td>\n",
       "      <td>1241</td>\n",
       "    </tr>\n",
       "    <tr>\n",
       "      <th>13</th>\n",
       "      <td>10001</td>\n",
       "      <td>$100,000 under $200,000</td>\n",
       "      <td>1921</td>\n",
       "    </tr>\n",
       "  </tbody>\n",
       "</table>\n",
       "</div>"
      ],
      "text/plain": [
       "    Zip code Size of adjusted gross income  Number of returns\n",
       "9      10001              $1 under $25,000               4329\n",
       "10     10001         $25,000 under $50,000               2659\n",
       "11     10001         $50,000 under $75,000               1875\n",
       "12     10001        $75,000 under $100,000               1241\n",
       "13     10001       $100,000 under $200,000               1921"
      ]
     },
     "execution_count": 13,
     "metadata": {},
     "output_type": "execute_result"
    }
   ],
   "source": [
    "income_2011.head()"
   ]
  },
  {
   "cell_type": "code",
   "execution_count": 14,
   "metadata": {},
   "outputs": [],
   "source": [
    "income_2012.columns = ['Zip code', 'Size of adjusted gross income', 'Number of returns']\n",
    "income_2012 = income_2012.dropna()\n",
    "income_2012 = income_2012.astype({\"Zip code\": int})\n",
    "income_2012 = income_2012.loc[income_2012['Zip code'] != 0]\n",
    "income_2012 = income_2012.loc[income_2012['Zip code'] != 99999]"
   ]
  },
  {
   "cell_type": "code",
   "execution_count": 15,
   "metadata": {},
   "outputs": [],
   "source": [
    "income_2012.loc[income_2012[\"Number of returns\"] == '**', 'Number of returns'] = 0\n",
    "income_2012 = income_2012.astype({\"Number of returns\": int})"
   ]
  },
  {
   "cell_type": "code",
   "execution_count": 16,
   "metadata": {},
   "outputs": [
    {
     "data": {
      "text/html": [
       "<div>\n",
       "<style scoped>\n",
       "    .dataframe tbody tr th:only-of-type {\n",
       "        vertical-align: middle;\n",
       "    }\n",
       "\n",
       "    .dataframe tbody tr th {\n",
       "        vertical-align: top;\n",
       "    }\n",
       "\n",
       "    .dataframe thead th {\n",
       "        text-align: right;\n",
       "    }\n",
       "</style>\n",
       "<table border=\"1\" class=\"dataframe\">\n",
       "  <thead>\n",
       "    <tr style=\"text-align: right;\">\n",
       "      <th></th>\n",
       "      <th>Zip code</th>\n",
       "      <th>Size of adjusted gross income</th>\n",
       "      <th>Number of returns</th>\n",
       "    </tr>\n",
       "  </thead>\n",
       "  <tbody>\n",
       "    <tr>\n",
       "      <th>9</th>\n",
       "      <td>10001</td>\n",
       "      <td>$1 under $25,000</td>\n",
       "      <td>4080</td>\n",
       "    </tr>\n",
       "    <tr>\n",
       "      <th>10</th>\n",
       "      <td>10001</td>\n",
       "      <td>$25,000 under $50,000</td>\n",
       "      <td>2520</td>\n",
       "    </tr>\n",
       "    <tr>\n",
       "      <th>11</th>\n",
       "      <td>10001</td>\n",
       "      <td>$50,000 under $75,000</td>\n",
       "      <td>1790</td>\n",
       "    </tr>\n",
       "    <tr>\n",
       "      <th>12</th>\n",
       "      <td>10001</td>\n",
       "      <td>$75,000 under $100,000</td>\n",
       "      <td>1230</td>\n",
       "    </tr>\n",
       "    <tr>\n",
       "      <th>13</th>\n",
       "      <td>10001</td>\n",
       "      <td>$100,000 under $200,000</td>\n",
       "      <td>2030</td>\n",
       "    </tr>\n",
       "  </tbody>\n",
       "</table>\n",
       "</div>"
      ],
      "text/plain": [
       "    Zip code Size of adjusted gross income  Number of returns\n",
       "9      10001              $1 under $25,000               4080\n",
       "10     10001         $25,000 under $50,000               2520\n",
       "11     10001         $50,000 under $75,000               1790\n",
       "12     10001        $75,000 under $100,000               1230\n",
       "13     10001       $100,000 under $200,000               2030"
      ]
     },
     "execution_count": 16,
     "metadata": {},
     "output_type": "execute_result"
    }
   ],
   "source": [
    "income_2012.head()"
   ]
  },
  {
   "cell_type": "code",
   "execution_count": 17,
   "metadata": {},
   "outputs": [],
   "source": [
    "income_2013.columns = ['Zip code', 'Size of adjusted gross income', 'Number of returns']\n",
    "income_2013 = income_2013.dropna()\n",
    "income_2013 = income_2013.astype({\"Zip code\": int})\n",
    "income_2013 = income_2013.loc[income_2013['Zip code'] != 0]\n",
    "income_2013 = income_2013.loc[income_2013['Zip code'] != 99999]"
   ]
  },
  {
   "cell_type": "code",
   "execution_count": 18,
   "metadata": {},
   "outputs": [],
   "source": [
    "income_2013.loc[income_2013[\"Number of returns\"] == '**', 'Number of returns'] = 0\n",
    "income_2013 = income_2013.astype({\"Number of returns\": int})"
   ]
  },
  {
   "cell_type": "code",
   "execution_count": 19,
   "metadata": {},
   "outputs": [],
   "source": [
    "income_2014.columns = ['Zip code', 'Size of adjusted gross income', 'Number of returns']\n",
    "income_2014 = income_2014.dropna()\n",
    "income_2014 = income_2014.astype({\"Zip code\": int})\n",
    "income_2014 = income_2014.loc[income_2014['Zip code'] != 0]\n",
    "income_2014 = income_2014.loc[income_2014['Zip code'] != 99999]"
   ]
  },
  {
   "cell_type": "code",
   "execution_count": 20,
   "metadata": {},
   "outputs": [],
   "source": [
    "income_2014.loc[income_2014[\"Number of returns\"] == '**', 'Number of returns'] = 0\n",
    "income_2014 = income_2014.astype({\"Number of returns\": int})"
   ]
  },
  {
   "cell_type": "code",
   "execution_count": 21,
   "metadata": {},
   "outputs": [],
   "source": [
    "income_2015.columns = ['Zip code', 'Size of adjusted gross income', 'Number of returns']\n",
    "income_2015 = income_2015.dropna()\n",
    "income_2015 = income_2015.astype({\"Zip code\": int})\n",
    "income_2015 = income_2015.loc[income_2015['Zip code'] != 0]\n",
    "income_2015 = income_2015.loc[income_2015['Zip code'] != 99999]"
   ]
  },
  {
   "cell_type": "code",
   "execution_count": 22,
   "metadata": {},
   "outputs": [],
   "source": [
    "income_2015.loc[income_2015[\"Number of returns\"] == '**', 'Number of returns'] = 0\n",
    "income_2015 = income_2015.astype({\"Number of returns\": int})"
   ]
  },
  {
   "cell_type": "code",
   "execution_count": 23,
   "metadata": {},
   "outputs": [],
   "source": [
    "income_2016.columns = ['Zip code', 'Size of adjusted gross income', 'Number of returns']\n",
    "income_2016 = income_2016.dropna()\n",
    "income_2016 = income_2016.astype({\"Zip code\": int})\n",
    "income_2016 = income_2016.loc[income_2016['Zip code'] != 0]\n",
    "income_2016 = income_2016.loc[income_2016['Zip code'] != 99999]"
   ]
  },
  {
   "cell_type": "code",
   "execution_count": 24,
   "metadata": {},
   "outputs": [],
   "source": [
    "income_2016.loc[income_2016[\"Number of returns\"] == '**', 'Number of returns'] = 0\n",
    "income_2016 = income_2016.astype({\"Number of returns\": int})"
   ]
  },
  {
   "cell_type": "code",
   "execution_count": null,
   "metadata": {},
   "outputs": [],
   "source": [
    "dog_licenses.head()"
   ]
  },
  {
   "cell_type": "code",
   "execution_count": null,
   "metadata": {},
   "outputs": [],
   "source": [
    "dog_runs.head()"
   ]
  },
  {
   "cell_type": "raw",
   "metadata": {},
   "source": [
    "px.scatter_mapbox(\n",
    "    income_2011,\n",
    "    size=\"Number of returns\",\n",
    "    color=\"Size of adjusted gross income\",\n",
    ")"
   ]
  },
  {
   "cell_type": "code",
   "execution_count": null,
   "metadata": {},
   "outputs": [],
   "source": [
    "#px.parallel_coordinates(dog_licenses, color='ZipCode')"
   ]
  },
  {
   "cell_type": "code",
   "execution_count": null,
   "metadata": {},
   "outputs": [],
   "source": [
    "dog_licenses.columns"
   ]
  },
  {
   "cell_type": "code",
   "execution_count": null,
   "metadata": {},
   "outputs": [],
   "source": [
    "dogs = pd.DataFrame(dog_licenses, columns = ['AnimalName', 'AnimalGender', 'BreedName','ZipCode'])\n",
    "dogs = dogs.astype({\"ZipCode\": str})\n",
    "dogs.sort_values(by=['ZipCode'])"
   ]
  },
  {
   "cell_type": "code",
   "execution_count": null,
   "metadata": {},
   "outputs": [],
   "source": [
    "dogs.head()"
   ]
  },
  {
   "cell_type": "code",
   "execution_count": null,
   "metadata": {},
   "outputs": [],
   "source": [
    "dog_runs.columns"
   ]
  },
  {
   "cell_type": "code",
   "execution_count": null,
   "metadata": {},
   "outputs": [],
   "source": [
    "dogruns = pd.DataFrame(dog_runs, columns = ['NAME', 'DOG_AREA_T', 'ZIPCODE'])"
   ]
  },
  {
   "cell_type": "code",
   "execution_count": null,
   "metadata": {},
   "outputs": [],
   "source": [
    "dogruns.head()"
   ]
  },
  {
   "cell_type": "code",
   "execution_count": null,
   "metadata": {},
   "outputs": [],
   "source": [
    "breweries.head()"
   ]
  },
  {
   "cell_type": "code",
   "execution_count": null,
   "metadata": {},
   "outputs": [],
   "source": [
    "breweries = breweries.loc[breweries['state'] == 'New York']"
   ]
  },
  {
   "cell_type": "code",
   "execution_count": null,
   "metadata": {},
   "outputs": [],
   "source": [
    "breweries"
   ]
  },
  {
   "cell_type": "code",
   "execution_count": null,
   "metadata": {},
   "outputs": [],
   "source": [
    "ny_breweries = pd.DataFrame(breweries, columns=['name', 'code'])\n",
    "ny_breweries.head()"
   ]
  },
  {
   "cell_type": "code",
   "execution_count": null,
   "metadata": {},
   "outputs": [],
   "source": [
    "liquor_estasblishments.head()"
   ]
  },
  {
   "cell_type": "code",
   "execution_count": null,
   "metadata": {},
   "outputs": [],
   "source": [
    "liquor_estasblishments.columns"
   ]
  },
  {
   "cell_type": "code",
   "execution_count": null,
   "metadata": {},
   "outputs": [],
   "source": [
    "ny_liquor = pd.DataFrame(liquor_estasblishments, columns=['Premises Name', 'License Type Name', 'Zip'])\n",
    "ny_liquor.head()"
   ]
  },
  {
   "cell_type": "code",
   "execution_count": null,
   "metadata": {},
   "outputs": [],
   "source": [
    "wineries.tail()"
   ]
  },
  {
   "cell_type": "code",
   "execution_count": null,
   "metadata": {},
   "outputs": [],
   "source": [
    "wineries.columns"
   ]
  },
  {
   "cell_type": "code",
   "execution_count": null,
   "metadata": {},
   "outputs": [],
   "source": [
    "ny_wineries = pd.DataFrame(wineries, columns=['Premises Name', 'License Type Name', 'Zip'])\n",
    "ny_wineries.head()"
   ]
  },
  {
   "cell_type": "code",
   "execution_count": null,
   "metadata": {},
   "outputs": [],
   "source": [
    "#ic_2011 = px.scatter(income_2011, x=\"Zip code\", y=\"Number of returns\", color=\"Size of adjusted gross income\")\n",
    "#layout = go.Layout(xaxis={'type': 'category'})\n",
    "#fig = go.Figure(ic_2011, layout)\n",
    "\n",
    "#py.iplot(ic_2011, filename='pandas-multiple-scatter')\n",
    "\n",
    "#py.iplot(fig)\n",
    "\n",
    "\n",
    "#data = [trace]\n",
    "#layout = go.Layout(xaxis={'type': 'category'})\n",
    "#fig = go.Figure(data, layout)\n",
    "\n",
    "#layout = go.Layout(xaxis=dict(type='category'))\n",
    "#fig = go.Figure(data=ic_2011, layout=layout)\n",
    "#iplot(fig)\n",
    "#ic_2011\n",
    "\n",
    "#layout = go.Layout(xaxis={'type': 'category'})\n",
    "#fig = go.Figure(data, layout)"
   ]
  },
  {
   "cell_type": "code",
   "execution_count": null,
   "metadata": {},
   "outputs": [],
   "source": [
    "px.scatter(income_2011, x=\"Zip code\", y=\"Number of returns\", color=\"Size of adjusted gross income\")"
   ]
  },
  {
   "cell_type": "code",
   "execution_count": null,
   "metadata": {},
   "outputs": [],
   "source": [
    "dg = dogruns.groupby('ZIPCODE').count()"
   ]
  },
  {
   "cell_type": "code",
   "execution_count": null,
   "metadata": {},
   "outputs": [],
   "source": [
    "dg.head()"
   ]
  },
  {
   "cell_type": "code",
   "execution_count": null,
   "metadata": {},
   "outputs": [],
   "source": [
    "dogs.groupby('ZipCode').count()"
   ]
  },
  {
   "cell_type": "code",
   "execution_count": 25,
   "metadata": {},
   "outputs": [
    {
     "data": {
      "text/plain": [
       "Zip code                          int32\n",
       "Size of adjusted gross income    object\n",
       "Number of returns                 int32\n",
       "dtype: object"
      ]
     },
     "execution_count": 25,
     "metadata": {},
     "output_type": "execute_result"
    }
   ],
   "source": [
    "income_2011.dtypes"
   ]
  },
  {
   "cell_type": "code",
   "execution_count": 26,
   "metadata": {},
   "outputs": [
    {
     "data": {
      "text/html": [
       "<div>\n",
       "<style scoped>\n",
       "    .dataframe tbody tr th:only-of-type {\n",
       "        vertical-align: middle;\n",
       "    }\n",
       "\n",
       "    .dataframe tbody tr th {\n",
       "        vertical-align: top;\n",
       "    }\n",
       "\n",
       "    .dataframe thead th {\n",
       "        text-align: right;\n",
       "    }\n",
       "</style>\n",
       "<table border=\"1\" class=\"dataframe\">\n",
       "  <thead>\n",
       "    <tr style=\"text-align: right;\">\n",
       "      <th></th>\n",
       "      <th>Zip code</th>\n",
       "      <th>Size of adjusted gross income</th>\n",
       "      <th>Number of returns</th>\n",
       "      <th>Number of returns</th>\n",
       "      <th>Number of returns</th>\n",
       "      <th>Number of returns</th>\n",
       "      <th>Number of returns</th>\n",
       "      <th>Number of returns</th>\n",
       "    </tr>\n",
       "  </thead>\n",
       "  <tbody>\n",
       "    <tr>\n",
       "      <th>9</th>\n",
       "      <td>10001</td>\n",
       "      <td>$1 under $25,000</td>\n",
       "      <td>4329</td>\n",
       "      <td>4080</td>\n",
       "      <td>4140</td>\n",
       "      <td>3880</td>\n",
       "      <td>3760</td>\n",
       "      <td>3740</td>\n",
       "    </tr>\n",
       "    <tr>\n",
       "      <th>10</th>\n",
       "      <td>10001</td>\n",
       "      <td>$25,000 under $50,000</td>\n",
       "      <td>2659</td>\n",
       "      <td>2520</td>\n",
       "      <td>2480</td>\n",
       "      <td>2530</td>\n",
       "      <td>2430</td>\n",
       "      <td>2500</td>\n",
       "    </tr>\n",
       "    <tr>\n",
       "      <th>11</th>\n",
       "      <td>10001</td>\n",
       "      <td>$50,000 under $75,000</td>\n",
       "      <td>1875</td>\n",
       "      <td>1790</td>\n",
       "      <td>1820</td>\n",
       "      <td>1850</td>\n",
       "      <td>1930</td>\n",
       "      <td>1950</td>\n",
       "    </tr>\n",
       "    <tr>\n",
       "      <th>12</th>\n",
       "      <td>10001</td>\n",
       "      <td>$75,000 under $100,000</td>\n",
       "      <td>1241</td>\n",
       "      <td>1230</td>\n",
       "      <td>1300</td>\n",
       "      <td>1300</td>\n",
       "      <td>1340</td>\n",
       "      <td>1410</td>\n",
       "    </tr>\n",
       "    <tr>\n",
       "      <th>13</th>\n",
       "      <td>10001</td>\n",
       "      <td>$100,000 under $200,000</td>\n",
       "      <td>1921</td>\n",
       "      <td>2030</td>\n",
       "      <td>2080</td>\n",
       "      <td>2350</td>\n",
       "      <td>2480</td>\n",
       "      <td>2580</td>\n",
       "    </tr>\n",
       "  </tbody>\n",
       "</table>\n",
       "</div>"
      ],
      "text/plain": [
       "    Zip code Size of adjusted gross income  Number of returns  \\\n",
       "9      10001              $1 under $25,000               4329   \n",
       "10     10001         $25,000 under $50,000               2659   \n",
       "11     10001         $50,000 under $75,000               1875   \n",
       "12     10001        $75,000 under $100,000               1241   \n",
       "13     10001       $100,000 under $200,000               1921   \n",
       "\n",
       "    Number of returns  Number of returns  Number of returns  \\\n",
       "9                4080               4140               3880   \n",
       "10               2520               2480               2530   \n",
       "11               1790               1820               1850   \n",
       "12               1230               1300               1300   \n",
       "13               2030               2080               2350   \n",
       "\n",
       "    Number of returns  Number of returns  \n",
       "9                3760               3740  \n",
       "10               2430               2500  \n",
       "11               1930               1950  \n",
       "12               1340               1410  \n",
       "13               2480               2580  "
      ]
     },
     "execution_count": 26,
     "metadata": {},
     "output_type": "execute_result"
    }
   ],
   "source": [
    "column_appended_data = pd.concat([income_2011, income_2012['Number of returns'], income_2013['Number of returns'], income_2014['Number of returns'], income_2015['Number of returns'], income_2016['Number of returns']], axis=\"columns\", join=\"inner\")\n",
    "column_appended_data.head()"
   ]
  },
  {
   "cell_type": "code",
   "execution_count": 27,
   "metadata": {},
   "outputs": [],
   "source": [
    "column_appended_data.columns = ['Zip code', 'Size of adjusted gross income', '2011', '2012', '2013', '2014', '2015', '2016']"
   ]
  },
  {
   "cell_type": "code",
   "execution_count": 56,
   "metadata": {},
   "outputs": [
    {
     "data": {
      "text/html": [
       "<div>\n",
       "<style scoped>\n",
       "    .dataframe tbody tr th:only-of-type {\n",
       "        vertical-align: middle;\n",
       "    }\n",
       "\n",
       "    .dataframe tbody tr th {\n",
       "        vertical-align: top;\n",
       "    }\n",
       "\n",
       "    .dataframe thead th {\n",
       "        text-align: right;\n",
       "    }\n",
       "</style>\n",
       "<table border=\"1\" class=\"dataframe\">\n",
       "  <thead>\n",
       "    <tr style=\"text-align: right;\">\n",
       "      <th></th>\n",
       "      <th>Zip code</th>\n",
       "      <th>Size of adjusted gross income</th>\n",
       "      <th>2011</th>\n",
       "      <th>2012</th>\n",
       "      <th>2013</th>\n",
       "      <th>2014</th>\n",
       "      <th>2015</th>\n",
       "      <th>2016</th>\n",
       "    </tr>\n",
       "  </thead>\n",
       "  <tbody>\n",
       "    <tr>\n",
       "      <th>9</th>\n",
       "      <td>10001</td>\n",
       "      <td>$1 under $25,000</td>\n",
       "      <td>4329</td>\n",
       "      <td>4080</td>\n",
       "      <td>4140</td>\n",
       "      <td>3880</td>\n",
       "      <td>3760</td>\n",
       "      <td>3740</td>\n",
       "    </tr>\n",
       "    <tr>\n",
       "      <th>10</th>\n",
       "      <td>10001</td>\n",
       "      <td>$25,000 under $50,000</td>\n",
       "      <td>2659</td>\n",
       "      <td>2520</td>\n",
       "      <td>2480</td>\n",
       "      <td>2530</td>\n",
       "      <td>2430</td>\n",
       "      <td>2500</td>\n",
       "    </tr>\n",
       "    <tr>\n",
       "      <th>11</th>\n",
       "      <td>10001</td>\n",
       "      <td>$50,000 under $75,000</td>\n",
       "      <td>1875</td>\n",
       "      <td>1790</td>\n",
       "      <td>1820</td>\n",
       "      <td>1850</td>\n",
       "      <td>1930</td>\n",
       "      <td>1950</td>\n",
       "    </tr>\n",
       "    <tr>\n",
       "      <th>12</th>\n",
       "      <td>10001</td>\n",
       "      <td>$75,000 under $100,000</td>\n",
       "      <td>1241</td>\n",
       "      <td>1230</td>\n",
       "      <td>1300</td>\n",
       "      <td>1300</td>\n",
       "      <td>1340</td>\n",
       "      <td>1410</td>\n",
       "    </tr>\n",
       "    <tr>\n",
       "      <th>13</th>\n",
       "      <td>10001</td>\n",
       "      <td>$100,000 under $200,000</td>\n",
       "      <td>1921</td>\n",
       "      <td>2030</td>\n",
       "      <td>2080</td>\n",
       "      <td>2350</td>\n",
       "      <td>2480</td>\n",
       "      <td>2580</td>\n",
       "    </tr>\n",
       "    <tr>\n",
       "      <th>14</th>\n",
       "      <td>10001</td>\n",
       "      <td>$200,000 or more</td>\n",
       "      <td>1565</td>\n",
       "      <td>1650</td>\n",
       "      <td>1900</td>\n",
       "      <td>2170</td>\n",
       "      <td>2370</td>\n",
       "      <td>2340</td>\n",
       "    </tr>\n",
       "    <tr>\n",
       "      <th>17</th>\n",
       "      <td>10002</td>\n",
       "      <td>$1 under $25,000</td>\n",
       "      <td>25950</td>\n",
       "      <td>24980</td>\n",
       "      <td>24180</td>\n",
       "      <td>23350</td>\n",
       "      <td>22380</td>\n",
       "      <td>21180</td>\n",
       "    </tr>\n",
       "    <tr>\n",
       "      <th>18</th>\n",
       "      <td>10002</td>\n",
       "      <td>$25,000 under $50,000</td>\n",
       "      <td>8925</td>\n",
       "      <td>8280</td>\n",
       "      <td>8440</td>\n",
       "      <td>8270</td>\n",
       "      <td>8260</td>\n",
       "      <td>8210</td>\n",
       "    </tr>\n",
       "    <tr>\n",
       "      <th>19</th>\n",
       "      <td>10002</td>\n",
       "      <td>$50,000 under $75,000</td>\n",
       "      <td>4008</td>\n",
       "      <td>4160</td>\n",
       "      <td>4360</td>\n",
       "      <td>4500</td>\n",
       "      <td>4690</td>\n",
       "      <td>4810</td>\n",
       "    </tr>\n",
       "    <tr>\n",
       "      <th>20</th>\n",
       "      <td>10002</td>\n",
       "      <td>$75,000 under $100,000</td>\n",
       "      <td>2126</td>\n",
       "      <td>2260</td>\n",
       "      <td>2330</td>\n",
       "      <td>2510</td>\n",
       "      <td>2690</td>\n",
       "      <td>2710</td>\n",
       "    </tr>\n",
       "  </tbody>\n",
       "</table>\n",
       "</div>"
      ],
      "text/plain": [
       "    Zip code Size of adjusted gross income   2011   2012   2013   2014   2015  \\\n",
       "9      10001              $1 under $25,000   4329   4080   4140   3880   3760   \n",
       "10     10001         $25,000 under $50,000   2659   2520   2480   2530   2430   \n",
       "11     10001         $50,000 under $75,000   1875   1790   1820   1850   1930   \n",
       "12     10001        $75,000 under $100,000   1241   1230   1300   1300   1340   \n",
       "13     10001       $100,000 under $200,000   1921   2030   2080   2350   2480   \n",
       "14     10001              $200,000 or more   1565   1650   1900   2170   2370   \n",
       "17     10002              $1 under $25,000  25950  24980  24180  23350  22380   \n",
       "18     10002         $25,000 under $50,000   8925   8280   8440   8270   8260   \n",
       "19     10002         $50,000 under $75,000   4008   4160   4360   4500   4690   \n",
       "20     10002        $75,000 under $100,000   2126   2260   2330   2510   2690   \n",
       "\n",
       "     2016  \n",
       "9    3740  \n",
       "10   2500  \n",
       "11   1950  \n",
       "12   1410  \n",
       "13   2580  \n",
       "14   2340  \n",
       "17  21180  \n",
       "18   8210  \n",
       "19   4810  \n",
       "20   2710  "
      ]
     },
     "execution_count": 56,
     "metadata": {},
     "output_type": "execute_result"
    }
   ],
   "source": [
    "column_appended_data.head(10)"
   ]
  },
  {
   "cell_type": "code",
   "execution_count": 85,
   "metadata": {},
   "outputs": [
    {
     "data": {
      "text/plain": [
       "9            $1 under $25,000\n",
       "10      $25,000 under $50,000\n",
       "11      $50,000 under $75,000\n",
       "12     $75,000 under $100,000\n",
       "13    $100,000 under $200,000\n",
       "Name: Size of adjusted gross income, dtype: object"
      ]
     },
     "execution_count": 85,
     "metadata": {},
     "output_type": "execute_result"
    }
   ],
   "source": [
    "column_appended_data['Size of adjusted gross income'].head()"
   ]
  },
  {
   "cell_type": "code",
   "execution_count": 65,
   "metadata": {},
   "outputs": [
    {
     "data": {
      "text/html": [
       "<div>\n",
       "<style scoped>\n",
       "    .dataframe tbody tr th:only-of-type {\n",
       "        vertical-align: middle;\n",
       "    }\n",
       "\n",
       "    .dataframe tbody tr th {\n",
       "        vertical-align: top;\n",
       "    }\n",
       "\n",
       "    .dataframe thead th {\n",
       "        text-align: right;\n",
       "    }\n",
       "</style>\n",
       "<table border=\"1\" class=\"dataframe\">\n",
       "  <thead>\n",
       "    <tr style=\"text-align: right;\">\n",
       "      <th></th>\n",
       "      <th>Zip code</th>\n",
       "      <th>Size of adjusted gross income</th>\n",
       "      <th>2011</th>\n",
       "      <th>2012</th>\n",
       "      <th>2013</th>\n",
       "      <th>2014</th>\n",
       "      <th>2015</th>\n",
       "      <th>2016</th>\n",
       "    </tr>\n",
       "  </thead>\n",
       "  <tbody>\n",
       "    <tr>\n",
       "      <th>14</th>\n",
       "      <td>10001</td>\n",
       "      <td>$200,000 or more</td>\n",
       "      <td>1565</td>\n",
       "      <td>1650</td>\n",
       "      <td>1900</td>\n",
       "      <td>2170</td>\n",
       "      <td>2370</td>\n",
       "      <td>2340</td>\n",
       "    </tr>\n",
       "    <tr>\n",
       "      <th>22</th>\n",
       "      <td>10002</td>\n",
       "      <td>$200,000 or more</td>\n",
       "      <td>1087</td>\n",
       "      <td>1190</td>\n",
       "      <td>1310</td>\n",
       "      <td>1540</td>\n",
       "      <td>1640</td>\n",
       "      <td>1650</td>\n",
       "    </tr>\n",
       "    <tr>\n",
       "      <th>30</th>\n",
       "      <td>10003</td>\n",
       "      <td>$200,000 or more</td>\n",
       "      <td>5005</td>\n",
       "      <td>5140</td>\n",
       "      <td>5530</td>\n",
       "      <td>6150</td>\n",
       "      <td>6450</td>\n",
       "      <td>6280</td>\n",
       "    </tr>\n",
       "    <tr>\n",
       "      <th>38</th>\n",
       "      <td>10004</td>\n",
       "      <td>$200,000 or more</td>\n",
       "      <td>698</td>\n",
       "      <td>780</td>\n",
       "      <td>830</td>\n",
       "      <td>870</td>\n",
       "      <td>880</td>\n",
       "      <td>850</td>\n",
       "    </tr>\n",
       "    <tr>\n",
       "      <th>46</th>\n",
       "      <td>10005</td>\n",
       "      <td>$200,000 or more</td>\n",
       "      <td>1359</td>\n",
       "      <td>1460</td>\n",
       "      <td>1530</td>\n",
       "      <td>1620</td>\n",
       "      <td>1730</td>\n",
       "      <td>1620</td>\n",
       "    </tr>\n",
       "  </tbody>\n",
       "</table>\n",
       "</div>"
      ],
      "text/plain": [
       "    Zip code Size of adjusted gross income  2011  2012  2013  2014  2015  2016\n",
       "14     10001              $200,000 or more  1565  1650  1900  2170  2370  2340\n",
       "22     10002              $200,000 or more  1087  1190  1310  1540  1640  1650\n",
       "30     10003              $200,000 or more  5005  5140  5530  6150  6450  6280\n",
       "38     10004              $200,000 or more   698   780   830   870   880   850\n",
       "46     10005              $200,000 or more  1359  1460  1530  1620  1730  1620"
      ]
     },
     "execution_count": 65,
     "metadata": {},
     "output_type": "execute_result"
    }
   ],
   "source": [
    "rich = column_appended_data.loc[column_appended_data['Size of adjusted gross income'] == '$200,000 or more']\n",
    "rich.head()"
   ]
  },
  {
   "cell_type": "code",
   "execution_count": 121,
   "metadata": {},
   "outputs": [],
   "source": [
    "rich = pd.merge(rich, longlag, on=['Zip code'])"
   ]
  },
  {
   "cell_type": "code",
   "execution_count": 122,
   "metadata": {},
   "outputs": [
    {
     "data": {
      "text/html": [
       "<div>\n",
       "<style scoped>\n",
       "    .dataframe tbody tr th:only-of-type {\n",
       "        vertical-align: middle;\n",
       "    }\n",
       "\n",
       "    .dataframe tbody tr th {\n",
       "        vertical-align: top;\n",
       "    }\n",
       "\n",
       "    .dataframe thead th {\n",
       "        text-align: right;\n",
       "    }\n",
       "</style>\n",
       "<table border=\"1\" class=\"dataframe\">\n",
       "  <thead>\n",
       "    <tr style=\"text-align: right;\">\n",
       "      <th></th>\n",
       "      <th>Zip code</th>\n",
       "      <th>Size of adjusted gross income</th>\n",
       "      <th>2011</th>\n",
       "      <th>2012</th>\n",
       "      <th>2013</th>\n",
       "      <th>2014</th>\n",
       "      <th>2015</th>\n",
       "      <th>2016</th>\n",
       "      <th>City</th>\n",
       "      <th>State</th>\n",
       "      <th>Latitude</th>\n",
       "      <th>Longitude</th>\n",
       "      <th>Timezone</th>\n",
       "      <th>Daylight savings time flag</th>\n",
       "      <th>geopoint</th>\n",
       "    </tr>\n",
       "  </thead>\n",
       "  <tbody>\n",
       "    <tr>\n",
       "      <th>0</th>\n",
       "      <td>10023</td>\n",
       "      <td>$200,000 or more</td>\n",
       "      <td>8115</td>\n",
       "      <td>8460</td>\n",
       "      <td>8690</td>\n",
       "      <td>9410</td>\n",
       "      <td>9820</td>\n",
       "      <td>9620</td>\n",
       "      <td>New York</td>\n",
       "      <td>NY</td>\n",
       "      <td>40.776099</td>\n",
       "      <td>-73.98285</td>\n",
       "      <td>-5</td>\n",
       "      <td>1</td>\n",
       "      <td>40.776099,-73.98285</td>\n",
       "    </tr>\n",
       "    <tr>\n",
       "      <th>1</th>\n",
       "      <td>10024</td>\n",
       "      <td>$200,000 or more</td>\n",
       "      <td>7026</td>\n",
       "      <td>7380</td>\n",
       "      <td>7750</td>\n",
       "      <td>8400</td>\n",
       "      <td>8590</td>\n",
       "      <td>8570</td>\n",
       "      <td>New York</td>\n",
       "      <td>NY</td>\n",
       "      <td>40.786387</td>\n",
       "      <td>-73.97709</td>\n",
       "      <td>-5</td>\n",
       "      <td>1</td>\n",
       "      <td>40.786387,-73.97709</td>\n",
       "    </tr>\n",
       "    <tr>\n",
       "      <th>2</th>\n",
       "      <td>10128</td>\n",
       "      <td>$200,000 or more</td>\n",
       "      <td>6299</td>\n",
       "      <td>6570</td>\n",
       "      <td>6770</td>\n",
       "      <td>7350</td>\n",
       "      <td>7740</td>\n",
       "      <td>7740</td>\n",
       "      <td>New York</td>\n",
       "      <td>NY</td>\n",
       "      <td>40.781894</td>\n",
       "      <td>-73.95039</td>\n",
       "      <td>-5</td>\n",
       "      <td>1</td>\n",
       "      <td>40.781894,-73.95039</td>\n",
       "    </tr>\n",
       "    <tr>\n",
       "      <th>3</th>\n",
       "      <td>10021</td>\n",
       "      <td>$200,000 or more</td>\n",
       "      <td>5935</td>\n",
       "      <td>6260</td>\n",
       "      <td>6410</td>\n",
       "      <td>6810</td>\n",
       "      <td>7000</td>\n",
       "      <td>6910</td>\n",
       "      <td>New York</td>\n",
       "      <td>NY</td>\n",
       "      <td>40.768420</td>\n",
       "      <td>-73.96045</td>\n",
       "      <td>-5</td>\n",
       "      <td>1</td>\n",
       "      <td>40.76842,-73.96045</td>\n",
       "    </tr>\n",
       "    <tr>\n",
       "      <th>4</th>\n",
       "      <td>10025</td>\n",
       "      <td>$200,000 or more</td>\n",
       "      <td>5841</td>\n",
       "      <td>6140</td>\n",
       "      <td>6450</td>\n",
       "      <td>7090</td>\n",
       "      <td>7460</td>\n",
       "      <td>7470</td>\n",
       "      <td>New York</td>\n",
       "      <td>NY</td>\n",
       "      <td>40.798502</td>\n",
       "      <td>-73.96811</td>\n",
       "      <td>-5</td>\n",
       "      <td>1</td>\n",
       "      <td>40.798502,-73.96811</td>\n",
       "    </tr>\n",
       "  </tbody>\n",
       "</table>\n",
       "</div>"
      ],
      "text/plain": [
       "   Zip code Size of adjusted gross income  2011  2012  2013  2014  2015  2016  \\\n",
       "0     10023              $200,000 or more  8115  8460  8690  9410  9820  9620   \n",
       "1     10024              $200,000 or more  7026  7380  7750  8400  8590  8570   \n",
       "2     10128              $200,000 or more  6299  6570  6770  7350  7740  7740   \n",
       "3     10021              $200,000 or more  5935  6260  6410  6810  7000  6910   \n",
       "4     10025              $200,000 or more  5841  6140  6450  7090  7460  7470   \n",
       "\n",
       "       City State   Latitude  Longitude  Timezone  Daylight savings time flag  \\\n",
       "0  New York    NY  40.776099  -73.98285        -5                           1   \n",
       "1  New York    NY  40.786387  -73.97709        -5                           1   \n",
       "2  New York    NY  40.781894  -73.95039        -5                           1   \n",
       "3  New York    NY  40.768420  -73.96045        -5                           1   \n",
       "4  New York    NY  40.798502  -73.96811        -5                           1   \n",
       "\n",
       "              geopoint  \n",
       "0  40.776099,-73.98285  \n",
       "1  40.786387,-73.97709  \n",
       "2  40.781894,-73.95039  \n",
       "3   40.76842,-73.96045  \n",
       "4  40.798502,-73.96811  "
      ]
     },
     "execution_count": 122,
     "metadata": {},
     "output_type": "execute_result"
    }
   ],
   "source": [
    "rich2011 = rich.sort_values([\"2011\"], ascending=False) \n",
    "rich2011.head()"
   ]
  },
  {
   "cell_type": "code",
   "execution_count": 123,
   "metadata": {},
   "outputs": [
    {
     "data": {
      "text/html": [
       "<div>\n",
       "<style scoped>\n",
       "    .dataframe tbody tr th:only-of-type {\n",
       "        vertical-align: middle;\n",
       "    }\n",
       "\n",
       "    .dataframe tbody tr th {\n",
       "        vertical-align: top;\n",
       "    }\n",
       "\n",
       "    .dataframe thead th {\n",
       "        text-align: right;\n",
       "    }\n",
       "</style>\n",
       "<table border=\"1\" class=\"dataframe\">\n",
       "  <thead>\n",
       "    <tr style=\"text-align: right;\">\n",
       "      <th></th>\n",
       "      <th>Zip code</th>\n",
       "      <th>Size of adjusted gross income</th>\n",
       "      <th>2011</th>\n",
       "      <th>2012</th>\n",
       "      <th>2013</th>\n",
       "      <th>2014</th>\n",
       "      <th>2015</th>\n",
       "      <th>2016</th>\n",
       "      <th>City</th>\n",
       "      <th>State</th>\n",
       "      <th>Latitude</th>\n",
       "      <th>Longitude</th>\n",
       "      <th>Timezone</th>\n",
       "      <th>Daylight savings time flag</th>\n",
       "      <th>geopoint</th>\n",
       "    </tr>\n",
       "  </thead>\n",
       "  <tbody>\n",
       "    <tr>\n",
       "      <th>0</th>\n",
       "      <td>10023</td>\n",
       "      <td>$200,000 or more</td>\n",
       "      <td>8115</td>\n",
       "      <td>8460</td>\n",
       "      <td>8690</td>\n",
       "      <td>9410</td>\n",
       "      <td>9820</td>\n",
       "      <td>9620</td>\n",
       "      <td>New York</td>\n",
       "      <td>NY</td>\n",
       "      <td>40.776099</td>\n",
       "      <td>-73.98285</td>\n",
       "      <td>-5</td>\n",
       "      <td>1</td>\n",
       "      <td>40.776099,-73.98285</td>\n",
       "    </tr>\n",
       "    <tr>\n",
       "      <th>1</th>\n",
       "      <td>10024</td>\n",
       "      <td>$200,000 or more</td>\n",
       "      <td>7026</td>\n",
       "      <td>7380</td>\n",
       "      <td>7750</td>\n",
       "      <td>8400</td>\n",
       "      <td>8590</td>\n",
       "      <td>8570</td>\n",
       "      <td>New York</td>\n",
       "      <td>NY</td>\n",
       "      <td>40.786387</td>\n",
       "      <td>-73.97709</td>\n",
       "      <td>-5</td>\n",
       "      <td>1</td>\n",
       "      <td>40.786387,-73.97709</td>\n",
       "    </tr>\n",
       "    <tr>\n",
       "      <th>2</th>\n",
       "      <td>10128</td>\n",
       "      <td>$200,000 or more</td>\n",
       "      <td>6299</td>\n",
       "      <td>6570</td>\n",
       "      <td>6770</td>\n",
       "      <td>7350</td>\n",
       "      <td>7740</td>\n",
       "      <td>7740</td>\n",
       "      <td>New York</td>\n",
       "      <td>NY</td>\n",
       "      <td>40.781894</td>\n",
       "      <td>-73.95039</td>\n",
       "      <td>-5</td>\n",
       "      <td>1</td>\n",
       "      <td>40.781894,-73.95039</td>\n",
       "    </tr>\n",
       "    <tr>\n",
       "      <th>3</th>\n",
       "      <td>10021</td>\n",
       "      <td>$200,000 or more</td>\n",
       "      <td>5935</td>\n",
       "      <td>6260</td>\n",
       "      <td>6410</td>\n",
       "      <td>6810</td>\n",
       "      <td>7000</td>\n",
       "      <td>6910</td>\n",
       "      <td>New York</td>\n",
       "      <td>NY</td>\n",
       "      <td>40.768420</td>\n",
       "      <td>-73.96045</td>\n",
       "      <td>-5</td>\n",
       "      <td>1</td>\n",
       "      <td>40.76842,-73.96045</td>\n",
       "    </tr>\n",
       "    <tr>\n",
       "      <th>5</th>\n",
       "      <td>10011</td>\n",
       "      <td>$200,000 or more</td>\n",
       "      <td>5801</td>\n",
       "      <td>6150</td>\n",
       "      <td>6580</td>\n",
       "      <td>7140</td>\n",
       "      <td>7540</td>\n",
       "      <td>7470</td>\n",
       "      <td>New York</td>\n",
       "      <td>NY</td>\n",
       "      <td>40.741012</td>\n",
       "      <td>-74.00012</td>\n",
       "      <td>-5</td>\n",
       "      <td>1</td>\n",
       "      <td>40.741012,-74.00012</td>\n",
       "    </tr>\n",
       "  </tbody>\n",
       "</table>\n",
       "</div>"
      ],
      "text/plain": [
       "   Zip code Size of adjusted gross income  2011  2012  2013  2014  2015  2016  \\\n",
       "0     10023              $200,000 or more  8115  8460  8690  9410  9820  9620   \n",
       "1     10024              $200,000 or more  7026  7380  7750  8400  8590  8570   \n",
       "2     10128              $200,000 or more  6299  6570  6770  7350  7740  7740   \n",
       "3     10021              $200,000 or more  5935  6260  6410  6810  7000  6910   \n",
       "5     10011              $200,000 or more  5801  6150  6580  7140  7540  7470   \n",
       "\n",
       "       City State   Latitude  Longitude  Timezone  Daylight savings time flag  \\\n",
       "0  New York    NY  40.776099  -73.98285        -5                           1   \n",
       "1  New York    NY  40.786387  -73.97709        -5                           1   \n",
       "2  New York    NY  40.781894  -73.95039        -5                           1   \n",
       "3  New York    NY  40.768420  -73.96045        -5                           1   \n",
       "5  New York    NY  40.741012  -74.00012        -5                           1   \n",
       "\n",
       "              geopoint  \n",
       "0  40.776099,-73.98285  \n",
       "1  40.786387,-73.97709  \n",
       "2  40.781894,-73.95039  \n",
       "3   40.76842,-73.96045  \n",
       "5  40.741012,-74.00012  "
      ]
     },
     "execution_count": 123,
     "metadata": {},
     "output_type": "execute_result"
    }
   ],
   "source": [
    "rich2012 = rich.sort_values([\"2012\"], ascending=False) \n",
    "rich2012.head()"
   ]
  },
  {
   "cell_type": "code",
   "execution_count": 124,
   "metadata": {},
   "outputs": [
    {
     "data": {
      "text/html": [
       "<div>\n",
       "<style scoped>\n",
       "    .dataframe tbody tr th:only-of-type {\n",
       "        vertical-align: middle;\n",
       "    }\n",
       "\n",
       "    .dataframe tbody tr th {\n",
       "        vertical-align: top;\n",
       "    }\n",
       "\n",
       "    .dataframe thead th {\n",
       "        text-align: right;\n",
       "    }\n",
       "</style>\n",
       "<table border=\"1\" class=\"dataframe\">\n",
       "  <thead>\n",
       "    <tr style=\"text-align: right;\">\n",
       "      <th></th>\n",
       "      <th>Zip code</th>\n",
       "      <th>Size of adjusted gross income</th>\n",
       "      <th>2011</th>\n",
       "      <th>2012</th>\n",
       "      <th>2013</th>\n",
       "      <th>2014</th>\n",
       "      <th>2015</th>\n",
       "      <th>2016</th>\n",
       "      <th>City</th>\n",
       "      <th>State</th>\n",
       "      <th>Latitude</th>\n",
       "      <th>Longitude</th>\n",
       "      <th>Timezone</th>\n",
       "      <th>Daylight savings time flag</th>\n",
       "      <th>geopoint</th>\n",
       "    </tr>\n",
       "  </thead>\n",
       "  <tbody>\n",
       "    <tr>\n",
       "      <th>0</th>\n",
       "      <td>10023</td>\n",
       "      <td>$200,000 or more</td>\n",
       "      <td>8115</td>\n",
       "      <td>8460</td>\n",
       "      <td>8690</td>\n",
       "      <td>9410</td>\n",
       "      <td>9820</td>\n",
       "      <td>9620</td>\n",
       "      <td>New York</td>\n",
       "      <td>NY</td>\n",
       "      <td>40.776099</td>\n",
       "      <td>-73.98285</td>\n",
       "      <td>-5</td>\n",
       "      <td>1</td>\n",
       "      <td>40.776099,-73.98285</td>\n",
       "    </tr>\n",
       "    <tr>\n",
       "      <th>1</th>\n",
       "      <td>10024</td>\n",
       "      <td>$200,000 or more</td>\n",
       "      <td>7026</td>\n",
       "      <td>7380</td>\n",
       "      <td>7750</td>\n",
       "      <td>8400</td>\n",
       "      <td>8590</td>\n",
       "      <td>8570</td>\n",
       "      <td>New York</td>\n",
       "      <td>NY</td>\n",
       "      <td>40.786387</td>\n",
       "      <td>-73.97709</td>\n",
       "      <td>-5</td>\n",
       "      <td>1</td>\n",
       "      <td>40.786387,-73.97709</td>\n",
       "    </tr>\n",
       "    <tr>\n",
       "      <th>2</th>\n",
       "      <td>10128</td>\n",
       "      <td>$200,000 or more</td>\n",
       "      <td>6299</td>\n",
       "      <td>6570</td>\n",
       "      <td>6770</td>\n",
       "      <td>7350</td>\n",
       "      <td>7740</td>\n",
       "      <td>7740</td>\n",
       "      <td>New York</td>\n",
       "      <td>NY</td>\n",
       "      <td>40.781894</td>\n",
       "      <td>-73.95039</td>\n",
       "      <td>-5</td>\n",
       "      <td>1</td>\n",
       "      <td>40.781894,-73.95039</td>\n",
       "    </tr>\n",
       "    <tr>\n",
       "      <th>5</th>\n",
       "      <td>10011</td>\n",
       "      <td>$200,000 or more</td>\n",
       "      <td>5801</td>\n",
       "      <td>6150</td>\n",
       "      <td>6580</td>\n",
       "      <td>7140</td>\n",
       "      <td>7540</td>\n",
       "      <td>7470</td>\n",
       "      <td>New York</td>\n",
       "      <td>NY</td>\n",
       "      <td>40.741012</td>\n",
       "      <td>-74.00012</td>\n",
       "      <td>-5</td>\n",
       "      <td>1</td>\n",
       "      <td>40.741012,-74.00012</td>\n",
       "    </tr>\n",
       "    <tr>\n",
       "      <th>4</th>\n",
       "      <td>10025</td>\n",
       "      <td>$200,000 or more</td>\n",
       "      <td>5841</td>\n",
       "      <td>6140</td>\n",
       "      <td>6450</td>\n",
       "      <td>7090</td>\n",
       "      <td>7460</td>\n",
       "      <td>7470</td>\n",
       "      <td>New York</td>\n",
       "      <td>NY</td>\n",
       "      <td>40.798502</td>\n",
       "      <td>-73.96811</td>\n",
       "      <td>-5</td>\n",
       "      <td>1</td>\n",
       "      <td>40.798502,-73.96811</td>\n",
       "    </tr>\n",
       "  </tbody>\n",
       "</table>\n",
       "</div>"
      ],
      "text/plain": [
       "   Zip code Size of adjusted gross income  2011  2012  2013  2014  2015  2016  \\\n",
       "0     10023              $200,000 or more  8115  8460  8690  9410  9820  9620   \n",
       "1     10024              $200,000 or more  7026  7380  7750  8400  8590  8570   \n",
       "2     10128              $200,000 or more  6299  6570  6770  7350  7740  7740   \n",
       "5     10011              $200,000 or more  5801  6150  6580  7140  7540  7470   \n",
       "4     10025              $200,000 or more  5841  6140  6450  7090  7460  7470   \n",
       "\n",
       "       City State   Latitude  Longitude  Timezone  Daylight savings time flag  \\\n",
       "0  New York    NY  40.776099  -73.98285        -5                           1   \n",
       "1  New York    NY  40.786387  -73.97709        -5                           1   \n",
       "2  New York    NY  40.781894  -73.95039        -5                           1   \n",
       "5  New York    NY  40.741012  -74.00012        -5                           1   \n",
       "4  New York    NY  40.798502  -73.96811        -5                           1   \n",
       "\n",
       "              geopoint  \n",
       "0  40.776099,-73.98285  \n",
       "1  40.786387,-73.97709  \n",
       "2  40.781894,-73.95039  \n",
       "5  40.741012,-74.00012  \n",
       "4  40.798502,-73.96811  "
      ]
     },
     "execution_count": 124,
     "metadata": {},
     "output_type": "execute_result"
    }
   ],
   "source": [
    "rich2013 = rich.sort_values([\"2013\"], ascending=False) \n",
    "rich2013.head()"
   ]
  },
  {
   "cell_type": "code",
   "execution_count": 125,
   "metadata": {},
   "outputs": [
    {
     "data": {
      "text/html": [
       "<div>\n",
       "<style scoped>\n",
       "    .dataframe tbody tr th:only-of-type {\n",
       "        vertical-align: middle;\n",
       "    }\n",
       "\n",
       "    .dataframe tbody tr th {\n",
       "        vertical-align: top;\n",
       "    }\n",
       "\n",
       "    .dataframe thead th {\n",
       "        text-align: right;\n",
       "    }\n",
       "</style>\n",
       "<table border=\"1\" class=\"dataframe\">\n",
       "  <thead>\n",
       "    <tr style=\"text-align: right;\">\n",
       "      <th></th>\n",
       "      <th>Zip code</th>\n",
       "      <th>Size of adjusted gross income</th>\n",
       "      <th>2011</th>\n",
       "      <th>2012</th>\n",
       "      <th>2013</th>\n",
       "      <th>2014</th>\n",
       "      <th>2015</th>\n",
       "      <th>2016</th>\n",
       "      <th>City</th>\n",
       "      <th>State</th>\n",
       "      <th>Latitude</th>\n",
       "      <th>Longitude</th>\n",
       "      <th>Timezone</th>\n",
       "      <th>Daylight savings time flag</th>\n",
       "      <th>geopoint</th>\n",
       "    </tr>\n",
       "  </thead>\n",
       "  <tbody>\n",
       "    <tr>\n",
       "      <th>0</th>\n",
       "      <td>10023</td>\n",
       "      <td>$200,000 or more</td>\n",
       "      <td>8115</td>\n",
       "      <td>8460</td>\n",
       "      <td>8690</td>\n",
       "      <td>9410</td>\n",
       "      <td>9820</td>\n",
       "      <td>9620</td>\n",
       "      <td>New York</td>\n",
       "      <td>NY</td>\n",
       "      <td>40.776099</td>\n",
       "      <td>-73.98285</td>\n",
       "      <td>-5</td>\n",
       "      <td>1</td>\n",
       "      <td>40.776099,-73.98285</td>\n",
       "    </tr>\n",
       "    <tr>\n",
       "      <th>1</th>\n",
       "      <td>10024</td>\n",
       "      <td>$200,000 or more</td>\n",
       "      <td>7026</td>\n",
       "      <td>7380</td>\n",
       "      <td>7750</td>\n",
       "      <td>8400</td>\n",
       "      <td>8590</td>\n",
       "      <td>8570</td>\n",
       "      <td>New York</td>\n",
       "      <td>NY</td>\n",
       "      <td>40.786387</td>\n",
       "      <td>-73.97709</td>\n",
       "      <td>-5</td>\n",
       "      <td>1</td>\n",
       "      <td>40.786387,-73.97709</td>\n",
       "    </tr>\n",
       "    <tr>\n",
       "      <th>2</th>\n",
       "      <td>10128</td>\n",
       "      <td>$200,000 or more</td>\n",
       "      <td>6299</td>\n",
       "      <td>6570</td>\n",
       "      <td>6770</td>\n",
       "      <td>7350</td>\n",
       "      <td>7740</td>\n",
       "      <td>7740</td>\n",
       "      <td>New York</td>\n",
       "      <td>NY</td>\n",
       "      <td>40.781894</td>\n",
       "      <td>-73.95039</td>\n",
       "      <td>-5</td>\n",
       "      <td>1</td>\n",
       "      <td>40.781894,-73.95039</td>\n",
       "    </tr>\n",
       "    <tr>\n",
       "      <th>5</th>\n",
       "      <td>10011</td>\n",
       "      <td>$200,000 or more</td>\n",
       "      <td>5801</td>\n",
       "      <td>6150</td>\n",
       "      <td>6580</td>\n",
       "      <td>7140</td>\n",
       "      <td>7540</td>\n",
       "      <td>7470</td>\n",
       "      <td>New York</td>\n",
       "      <td>NY</td>\n",
       "      <td>40.741012</td>\n",
       "      <td>-74.00012</td>\n",
       "      <td>-5</td>\n",
       "      <td>1</td>\n",
       "      <td>40.741012,-74.00012</td>\n",
       "    </tr>\n",
       "    <tr>\n",
       "      <th>4</th>\n",
       "      <td>10025</td>\n",
       "      <td>$200,000 or more</td>\n",
       "      <td>5841</td>\n",
       "      <td>6140</td>\n",
       "      <td>6450</td>\n",
       "      <td>7090</td>\n",
       "      <td>7460</td>\n",
       "      <td>7470</td>\n",
       "      <td>New York</td>\n",
       "      <td>NY</td>\n",
       "      <td>40.798502</td>\n",
       "      <td>-73.96811</td>\n",
       "      <td>-5</td>\n",
       "      <td>1</td>\n",
       "      <td>40.798502,-73.96811</td>\n",
       "    </tr>\n",
       "  </tbody>\n",
       "</table>\n",
       "</div>"
      ],
      "text/plain": [
       "   Zip code Size of adjusted gross income  2011  2012  2013  2014  2015  2016  \\\n",
       "0     10023              $200,000 or more  8115  8460  8690  9410  9820  9620   \n",
       "1     10024              $200,000 or more  7026  7380  7750  8400  8590  8570   \n",
       "2     10128              $200,000 or more  6299  6570  6770  7350  7740  7740   \n",
       "5     10011              $200,000 or more  5801  6150  6580  7140  7540  7470   \n",
       "4     10025              $200,000 or more  5841  6140  6450  7090  7460  7470   \n",
       "\n",
       "       City State   Latitude  Longitude  Timezone  Daylight savings time flag  \\\n",
       "0  New York    NY  40.776099  -73.98285        -5                           1   \n",
       "1  New York    NY  40.786387  -73.97709        -5                           1   \n",
       "2  New York    NY  40.781894  -73.95039        -5                           1   \n",
       "5  New York    NY  40.741012  -74.00012        -5                           1   \n",
       "4  New York    NY  40.798502  -73.96811        -5                           1   \n",
       "\n",
       "              geopoint  \n",
       "0  40.776099,-73.98285  \n",
       "1  40.786387,-73.97709  \n",
       "2  40.781894,-73.95039  \n",
       "5  40.741012,-74.00012  \n",
       "4  40.798502,-73.96811  "
      ]
     },
     "execution_count": 125,
     "metadata": {},
     "output_type": "execute_result"
    }
   ],
   "source": [
    "rich2014 = rich.sort_values([\"2014\"], ascending=False) \n",
    "rich2014.head()"
   ]
  },
  {
   "cell_type": "code",
   "execution_count": 126,
   "metadata": {},
   "outputs": [
    {
     "data": {
      "text/html": [
       "<div>\n",
       "<style scoped>\n",
       "    .dataframe tbody tr th:only-of-type {\n",
       "        vertical-align: middle;\n",
       "    }\n",
       "\n",
       "    .dataframe tbody tr th {\n",
       "        vertical-align: top;\n",
       "    }\n",
       "\n",
       "    .dataframe thead th {\n",
       "        text-align: right;\n",
       "    }\n",
       "</style>\n",
       "<table border=\"1\" class=\"dataframe\">\n",
       "  <thead>\n",
       "    <tr style=\"text-align: right;\">\n",
       "      <th></th>\n",
       "      <th>Zip code</th>\n",
       "      <th>Size of adjusted gross income</th>\n",
       "      <th>2011</th>\n",
       "      <th>2012</th>\n",
       "      <th>2013</th>\n",
       "      <th>2014</th>\n",
       "      <th>2015</th>\n",
       "      <th>2016</th>\n",
       "      <th>City</th>\n",
       "      <th>State</th>\n",
       "      <th>Latitude</th>\n",
       "      <th>Longitude</th>\n",
       "      <th>Timezone</th>\n",
       "      <th>Daylight savings time flag</th>\n",
       "      <th>geopoint</th>\n",
       "    </tr>\n",
       "  </thead>\n",
       "  <tbody>\n",
       "    <tr>\n",
       "      <th>0</th>\n",
       "      <td>10023</td>\n",
       "      <td>$200,000 or more</td>\n",
       "      <td>8115</td>\n",
       "      <td>8460</td>\n",
       "      <td>8690</td>\n",
       "      <td>9410</td>\n",
       "      <td>9820</td>\n",
       "      <td>9620</td>\n",
       "      <td>New York</td>\n",
       "      <td>NY</td>\n",
       "      <td>40.776099</td>\n",
       "      <td>-73.98285</td>\n",
       "      <td>-5</td>\n",
       "      <td>1</td>\n",
       "      <td>40.776099,-73.98285</td>\n",
       "    </tr>\n",
       "    <tr>\n",
       "      <th>1</th>\n",
       "      <td>10024</td>\n",
       "      <td>$200,000 or more</td>\n",
       "      <td>7026</td>\n",
       "      <td>7380</td>\n",
       "      <td>7750</td>\n",
       "      <td>8400</td>\n",
       "      <td>8590</td>\n",
       "      <td>8570</td>\n",
       "      <td>New York</td>\n",
       "      <td>NY</td>\n",
       "      <td>40.786387</td>\n",
       "      <td>-73.97709</td>\n",
       "      <td>-5</td>\n",
       "      <td>1</td>\n",
       "      <td>40.786387,-73.97709</td>\n",
       "    </tr>\n",
       "    <tr>\n",
       "      <th>2</th>\n",
       "      <td>10128</td>\n",
       "      <td>$200,000 or more</td>\n",
       "      <td>6299</td>\n",
       "      <td>6570</td>\n",
       "      <td>6770</td>\n",
       "      <td>7350</td>\n",
       "      <td>7740</td>\n",
       "      <td>7740</td>\n",
       "      <td>New York</td>\n",
       "      <td>NY</td>\n",
       "      <td>40.781894</td>\n",
       "      <td>-73.95039</td>\n",
       "      <td>-5</td>\n",
       "      <td>1</td>\n",
       "      <td>40.781894,-73.95039</td>\n",
       "    </tr>\n",
       "    <tr>\n",
       "      <th>5</th>\n",
       "      <td>10011</td>\n",
       "      <td>$200,000 or more</td>\n",
       "      <td>5801</td>\n",
       "      <td>6150</td>\n",
       "      <td>6580</td>\n",
       "      <td>7140</td>\n",
       "      <td>7540</td>\n",
       "      <td>7470</td>\n",
       "      <td>New York</td>\n",
       "      <td>NY</td>\n",
       "      <td>40.741012</td>\n",
       "      <td>-74.00012</td>\n",
       "      <td>-5</td>\n",
       "      <td>1</td>\n",
       "      <td>40.741012,-74.00012</td>\n",
       "    </tr>\n",
       "    <tr>\n",
       "      <th>4</th>\n",
       "      <td>10025</td>\n",
       "      <td>$200,000 or more</td>\n",
       "      <td>5841</td>\n",
       "      <td>6140</td>\n",
       "      <td>6450</td>\n",
       "      <td>7090</td>\n",
       "      <td>7460</td>\n",
       "      <td>7470</td>\n",
       "      <td>New York</td>\n",
       "      <td>NY</td>\n",
       "      <td>40.798502</td>\n",
       "      <td>-73.96811</td>\n",
       "      <td>-5</td>\n",
       "      <td>1</td>\n",
       "      <td>40.798502,-73.96811</td>\n",
       "    </tr>\n",
       "  </tbody>\n",
       "</table>\n",
       "</div>"
      ],
      "text/plain": [
       "   Zip code Size of adjusted gross income  2011  2012  2013  2014  2015  2016  \\\n",
       "0     10023              $200,000 or more  8115  8460  8690  9410  9820  9620   \n",
       "1     10024              $200,000 or more  7026  7380  7750  8400  8590  8570   \n",
       "2     10128              $200,000 or more  6299  6570  6770  7350  7740  7740   \n",
       "5     10011              $200,000 or more  5801  6150  6580  7140  7540  7470   \n",
       "4     10025              $200,000 or more  5841  6140  6450  7090  7460  7470   \n",
       "\n",
       "       City State   Latitude  Longitude  Timezone  Daylight savings time flag  \\\n",
       "0  New York    NY  40.776099  -73.98285        -5                           1   \n",
       "1  New York    NY  40.786387  -73.97709        -5                           1   \n",
       "2  New York    NY  40.781894  -73.95039        -5                           1   \n",
       "5  New York    NY  40.741012  -74.00012        -5                           1   \n",
       "4  New York    NY  40.798502  -73.96811        -5                           1   \n",
       "\n",
       "              geopoint  \n",
       "0  40.776099,-73.98285  \n",
       "1  40.786387,-73.97709  \n",
       "2  40.781894,-73.95039  \n",
       "5  40.741012,-74.00012  \n",
       "4  40.798502,-73.96811  "
      ]
     },
     "execution_count": 126,
     "metadata": {},
     "output_type": "execute_result"
    }
   ],
   "source": [
    "rich2015 = rich.sort_values([\"2015\"], ascending=False) \n",
    "rich2015.head()"
   ]
  },
  {
   "cell_type": "code",
   "execution_count": 127,
   "metadata": {},
   "outputs": [
    {
     "data": {
      "text/html": [
       "<div>\n",
       "<style scoped>\n",
       "    .dataframe tbody tr th:only-of-type {\n",
       "        vertical-align: middle;\n",
       "    }\n",
       "\n",
       "    .dataframe tbody tr th {\n",
       "        vertical-align: top;\n",
       "    }\n",
       "\n",
       "    .dataframe thead th {\n",
       "        text-align: right;\n",
       "    }\n",
       "</style>\n",
       "<table border=\"1\" class=\"dataframe\">\n",
       "  <thead>\n",
       "    <tr style=\"text-align: right;\">\n",
       "      <th></th>\n",
       "      <th>Zip code</th>\n",
       "      <th>Size of adjusted gross income</th>\n",
       "      <th>2011</th>\n",
       "      <th>2012</th>\n",
       "      <th>2013</th>\n",
       "      <th>2014</th>\n",
       "      <th>2015</th>\n",
       "      <th>2016</th>\n",
       "      <th>City</th>\n",
       "      <th>State</th>\n",
       "      <th>Latitude</th>\n",
       "      <th>Longitude</th>\n",
       "      <th>Timezone</th>\n",
       "      <th>Daylight savings time flag</th>\n",
       "      <th>geopoint</th>\n",
       "    </tr>\n",
       "  </thead>\n",
       "  <tbody>\n",
       "    <tr>\n",
       "      <th>0</th>\n",
       "      <td>10023</td>\n",
       "      <td>$200,000 or more</td>\n",
       "      <td>8115</td>\n",
       "      <td>8460</td>\n",
       "      <td>8690</td>\n",
       "      <td>9410</td>\n",
       "      <td>9820</td>\n",
       "      <td>9620</td>\n",
       "      <td>New York</td>\n",
       "      <td>NY</td>\n",
       "      <td>40.776099</td>\n",
       "      <td>-73.98285</td>\n",
       "      <td>-5</td>\n",
       "      <td>1</td>\n",
       "      <td>40.776099,-73.98285</td>\n",
       "    </tr>\n",
       "    <tr>\n",
       "      <th>1</th>\n",
       "      <td>10024</td>\n",
       "      <td>$200,000 or more</td>\n",
       "      <td>7026</td>\n",
       "      <td>7380</td>\n",
       "      <td>7750</td>\n",
       "      <td>8400</td>\n",
       "      <td>8590</td>\n",
       "      <td>8570</td>\n",
       "      <td>New York</td>\n",
       "      <td>NY</td>\n",
       "      <td>40.786387</td>\n",
       "      <td>-73.97709</td>\n",
       "      <td>-5</td>\n",
       "      <td>1</td>\n",
       "      <td>40.786387,-73.97709</td>\n",
       "    </tr>\n",
       "    <tr>\n",
       "      <th>2</th>\n",
       "      <td>10128</td>\n",
       "      <td>$200,000 or more</td>\n",
       "      <td>6299</td>\n",
       "      <td>6570</td>\n",
       "      <td>6770</td>\n",
       "      <td>7350</td>\n",
       "      <td>7740</td>\n",
       "      <td>7740</td>\n",
       "      <td>New York</td>\n",
       "      <td>NY</td>\n",
       "      <td>40.781894</td>\n",
       "      <td>-73.95039</td>\n",
       "      <td>-5</td>\n",
       "      <td>1</td>\n",
       "      <td>40.781894,-73.95039</td>\n",
       "    </tr>\n",
       "    <tr>\n",
       "      <th>4</th>\n",
       "      <td>10025</td>\n",
       "      <td>$200,000 or more</td>\n",
       "      <td>5841</td>\n",
       "      <td>6140</td>\n",
       "      <td>6450</td>\n",
       "      <td>7090</td>\n",
       "      <td>7460</td>\n",
       "      <td>7470</td>\n",
       "      <td>New York</td>\n",
       "      <td>NY</td>\n",
       "      <td>40.798502</td>\n",
       "      <td>-73.96811</td>\n",
       "      <td>-5</td>\n",
       "      <td>1</td>\n",
       "      <td>40.798502,-73.96811</td>\n",
       "    </tr>\n",
       "    <tr>\n",
       "      <th>5</th>\n",
       "      <td>10011</td>\n",
       "      <td>$200,000 or more</td>\n",
       "      <td>5801</td>\n",
       "      <td>6150</td>\n",
       "      <td>6580</td>\n",
       "      <td>7140</td>\n",
       "      <td>7540</td>\n",
       "      <td>7470</td>\n",
       "      <td>New York</td>\n",
       "      <td>NY</td>\n",
       "      <td>40.741012</td>\n",
       "      <td>-74.00012</td>\n",
       "      <td>-5</td>\n",
       "      <td>1</td>\n",
       "      <td>40.741012,-74.00012</td>\n",
       "    </tr>\n",
       "  </tbody>\n",
       "</table>\n",
       "</div>"
      ],
      "text/plain": [
       "   Zip code Size of adjusted gross income  2011  2012  2013  2014  2015  2016  \\\n",
       "0     10023              $200,000 or more  8115  8460  8690  9410  9820  9620   \n",
       "1     10024              $200,000 or more  7026  7380  7750  8400  8590  8570   \n",
       "2     10128              $200,000 or more  6299  6570  6770  7350  7740  7740   \n",
       "4     10025              $200,000 or more  5841  6140  6450  7090  7460  7470   \n",
       "5     10011              $200,000 or more  5801  6150  6580  7140  7540  7470   \n",
       "\n",
       "       City State   Latitude  Longitude  Timezone  Daylight savings time flag  \\\n",
       "0  New York    NY  40.776099  -73.98285        -5                           1   \n",
       "1  New York    NY  40.786387  -73.97709        -5                           1   \n",
       "2  New York    NY  40.781894  -73.95039        -5                           1   \n",
       "4  New York    NY  40.798502  -73.96811        -5                           1   \n",
       "5  New York    NY  40.741012  -74.00012        -5                           1   \n",
       "\n",
       "              geopoint  \n",
       "0  40.776099,-73.98285  \n",
       "1  40.786387,-73.97709  \n",
       "2  40.781894,-73.95039  \n",
       "4  40.798502,-73.96811  \n",
       "5  40.741012,-74.00012  "
      ]
     },
     "execution_count": 127,
     "metadata": {},
     "output_type": "execute_result"
    }
   ],
   "source": [
    "rich2016 = rich.sort_values([\"2016\"], ascending=False) \n",
    "rich2016.head()"
   ]
  },
  {
   "cell_type": "code",
   "execution_count": 137,
   "metadata": {},
   "outputs": [
    {
     "data": {
      "text/html": [
       "<div>\n",
       "<style scoped>\n",
       "    .dataframe tbody tr th:only-of-type {\n",
       "        vertical-align: middle;\n",
       "    }\n",
       "\n",
       "    .dataframe tbody tr th {\n",
       "        vertical-align: top;\n",
       "    }\n",
       "\n",
       "    .dataframe thead th {\n",
       "        text-align: right;\n",
       "    }\n",
       "</style>\n",
       "<table border=\"1\" class=\"dataframe\">\n",
       "  <thead>\n",
       "    <tr style=\"text-align: right;\">\n",
       "      <th></th>\n",
       "      <th>Zip code</th>\n",
       "      <th>Size of adjusted gross income</th>\n",
       "      <th>2011</th>\n",
       "      <th>2012</th>\n",
       "      <th>2013</th>\n",
       "      <th>2014</th>\n",
       "      <th>2015</th>\n",
       "      <th>2016</th>\n",
       "      <th>City</th>\n",
       "      <th>State</th>\n",
       "      <th>Latitude</th>\n",
       "      <th>Longitude</th>\n",
       "      <th>Timezone</th>\n",
       "      <th>Daylight savings time flag</th>\n",
       "      <th>geopoint</th>\n",
       "    </tr>\n",
       "  </thead>\n",
       "  <tbody>\n",
       "    <tr>\n",
       "      <th>0</th>\n",
       "      <td>10001</td>\n",
       "      <td>$1 under $25,000</td>\n",
       "      <td>4329</td>\n",
       "      <td>4080</td>\n",
       "      <td>4140</td>\n",
       "      <td>3880</td>\n",
       "      <td>3760</td>\n",
       "      <td>3740</td>\n",
       "      <td>New York</td>\n",
       "      <td>NY</td>\n",
       "      <td>40.750742</td>\n",
       "      <td>-73.99653</td>\n",
       "      <td>-5</td>\n",
       "      <td>1</td>\n",
       "      <td>40.750742,-73.99653</td>\n",
       "    </tr>\n",
       "    <tr>\n",
       "      <th>1</th>\n",
       "      <td>10002</td>\n",
       "      <td>$1 under $25,000</td>\n",
       "      <td>25950</td>\n",
       "      <td>24980</td>\n",
       "      <td>24180</td>\n",
       "      <td>23350</td>\n",
       "      <td>22380</td>\n",
       "      <td>21180</td>\n",
       "      <td>New York</td>\n",
       "      <td>NY</td>\n",
       "      <td>40.717040</td>\n",
       "      <td>-73.98700</td>\n",
       "      <td>-5</td>\n",
       "      <td>1</td>\n",
       "      <td>40.71704,-73.987</td>\n",
       "    </tr>\n",
       "    <tr>\n",
       "      <th>2</th>\n",
       "      <td>10003</td>\n",
       "      <td>$1 under $25,000</td>\n",
       "      <td>6733</td>\n",
       "      <td>6080</td>\n",
       "      <td>5740</td>\n",
       "      <td>5380</td>\n",
       "      <td>5320</td>\n",
       "      <td>5030</td>\n",
       "      <td>New York</td>\n",
       "      <td>NY</td>\n",
       "      <td>40.732509</td>\n",
       "      <td>-73.98935</td>\n",
       "      <td>-5</td>\n",
       "      <td>1</td>\n",
       "      <td>40.732509,-73.98935</td>\n",
       "    </tr>\n",
       "    <tr>\n",
       "      <th>3</th>\n",
       "      <td>10005</td>\n",
       "      <td>$1 under $25,000</td>\n",
       "      <td>908</td>\n",
       "      <td>780</td>\n",
       "      <td>800</td>\n",
       "      <td>720</td>\n",
       "      <td>750</td>\n",
       "      <td>690</td>\n",
       "      <td>New York</td>\n",
       "      <td>NY</td>\n",
       "      <td>40.706019</td>\n",
       "      <td>-74.00858</td>\n",
       "      <td>-5</td>\n",
       "      <td>1</td>\n",
       "      <td>40.706019,-74.00858</td>\n",
       "    </tr>\n",
       "    <tr>\n",
       "      <th>4</th>\n",
       "      <td>10006</td>\n",
       "      <td>$1 under $25,000</td>\n",
       "      <td>404</td>\n",
       "      <td>360</td>\n",
       "      <td>360</td>\n",
       "      <td>290</td>\n",
       "      <td>300</td>\n",
       "      <td>310</td>\n",
       "      <td>New York</td>\n",
       "      <td>NY</td>\n",
       "      <td>40.707904</td>\n",
       "      <td>-74.01342</td>\n",
       "      <td>-5</td>\n",
       "      <td>1</td>\n",
       "      <td>40.707904,-74.01342</td>\n",
       "    </tr>\n",
       "  </tbody>\n",
       "</table>\n",
       "</div>"
      ],
      "text/plain": [
       "   Zip code Size of adjusted gross income   2011   2012   2013   2014   2015  \\\n",
       "0     10001              $1 under $25,000   4329   4080   4140   3880   3760   \n",
       "1     10002              $1 under $25,000  25950  24980  24180  23350  22380   \n",
       "2     10003              $1 under $25,000   6733   6080   5740   5380   5320   \n",
       "3     10005              $1 under $25,000    908    780    800    720    750   \n",
       "4     10006              $1 under $25,000    404    360    360    290    300   \n",
       "\n",
       "    2016      City State   Latitude  Longitude  Timezone  \\\n",
       "0   3740  New York    NY  40.750742  -73.99653        -5   \n",
       "1  21180  New York    NY  40.717040  -73.98700        -5   \n",
       "2   5030  New York    NY  40.732509  -73.98935        -5   \n",
       "3    690  New York    NY  40.706019  -74.00858        -5   \n",
       "4    310  New York    NY  40.707904  -74.01342        -5   \n",
       "\n",
       "   Daylight savings time flag             geopoint  \n",
       "0                           1  40.750742,-73.99653  \n",
       "1                           1     40.71704,-73.987  \n",
       "2                           1  40.732509,-73.98935  \n",
       "3                           1  40.706019,-74.00858  \n",
       "4                           1  40.707904,-74.01342  "
      ]
     },
     "execution_count": 137,
     "metadata": {},
     "output_type": "execute_result"
    }
   ],
   "source": [
    "poor = column_appended_data.loc[column_appended_data['Size of adjusted gross income'] == '$1 under $25,000']\n",
    "poor = pd.merge(poor, longlag, on=['Zip code'])\n",
    "poor.head()"
   ]
  },
  {
   "cell_type": "code",
   "execution_count": 138,
   "metadata": {},
   "outputs": [
    {
     "data": {
      "text/html": [
       "<div>\n",
       "<style scoped>\n",
       "    .dataframe tbody tr th:only-of-type {\n",
       "        vertical-align: middle;\n",
       "    }\n",
       "\n",
       "    .dataframe tbody tr th {\n",
       "        vertical-align: top;\n",
       "    }\n",
       "\n",
       "    .dataframe thead th {\n",
       "        text-align: right;\n",
       "    }\n",
       "</style>\n",
       "<table border=\"1\" class=\"dataframe\">\n",
       "  <thead>\n",
       "    <tr style=\"text-align: right;\">\n",
       "      <th></th>\n",
       "      <th>Zip code</th>\n",
       "      <th>Size of adjusted gross income</th>\n",
       "      <th>2011</th>\n",
       "      <th>2012</th>\n",
       "      <th>2013</th>\n",
       "      <th>2014</th>\n",
       "      <th>2015</th>\n",
       "      <th>2016</th>\n",
       "      <th>City</th>\n",
       "      <th>State</th>\n",
       "      <th>Latitude</th>\n",
       "      <th>Longitude</th>\n",
       "      <th>Timezone</th>\n",
       "      <th>Daylight savings time flag</th>\n",
       "      <th>geopoint</th>\n",
       "    </tr>\n",
       "  </thead>\n",
       "  <tbody>\n",
       "    <tr>\n",
       "      <th>241</th>\n",
       "      <td>11220</td>\n",
       "      <td>$1 under $25,000</td>\n",
       "      <td>33944</td>\n",
       "      <td>35850</td>\n",
       "      <td>36670</td>\n",
       "      <td>37080</td>\n",
       "      <td>37090</td>\n",
       "      <td>36120</td>\n",
       "      <td>Brooklyn</td>\n",
       "      <td>NY</td>\n",
       "      <td>40.641436</td>\n",
       "      <td>-74.01574</td>\n",
       "      <td>-5</td>\n",
       "      <td>1</td>\n",
       "      <td>40.641436,-74.01574</td>\n",
       "    </tr>\n",
       "    <tr>\n",
       "      <th>261</th>\n",
       "      <td>11355</td>\n",
       "      <td>$1 under $25,000</td>\n",
       "      <td>29871</td>\n",
       "      <td>31240</td>\n",
       "      <td>32710</td>\n",
       "      <td>33920</td>\n",
       "      <td>34930</td>\n",
       "      <td>34950</td>\n",
       "      <td>Flushing</td>\n",
       "      <td>NY</td>\n",
       "      <td>40.749463</td>\n",
       "      <td>-73.81941</td>\n",
       "      <td>-5</td>\n",
       "      <td>1</td>\n",
       "      <td>40.749463,-73.81941</td>\n",
       "    </tr>\n",
       "    <tr>\n",
       "      <th>277</th>\n",
       "      <td>11373</td>\n",
       "      <td>$1 under $25,000</td>\n",
       "      <td>27998</td>\n",
       "      <td>28960</td>\n",
       "      <td>28220</td>\n",
       "      <td>28720</td>\n",
       "      <td>28340</td>\n",
       "      <td>27380</td>\n",
       "      <td>Elmhurst</td>\n",
       "      <td>NY</td>\n",
       "      <td>40.736076</td>\n",
       "      <td>-73.87804</td>\n",
       "      <td>-5</td>\n",
       "      <td>1</td>\n",
       "      <td>40.736076,-73.87804</td>\n",
       "    </tr>\n",
       "    <tr>\n",
       "      <th>273</th>\n",
       "      <td>11368</td>\n",
       "      <td>$1 under $25,000</td>\n",
       "      <td>26666</td>\n",
       "      <td>30470</td>\n",
       "      <td>28540</td>\n",
       "      <td>29250</td>\n",
       "      <td>28810</td>\n",
       "      <td>27870</td>\n",
       "      <td>Corona</td>\n",
       "      <td>NY</td>\n",
       "      <td>40.747106</td>\n",
       "      <td>-73.85838</td>\n",
       "      <td>-5</td>\n",
       "      <td>1</td>\n",
       "      <td>40.747106,-73.85838</td>\n",
       "    </tr>\n",
       "    <tr>\n",
       "      <th>1</th>\n",
       "      <td>10002</td>\n",
       "      <td>$1 under $25,000</td>\n",
       "      <td>25950</td>\n",
       "      <td>24980</td>\n",
       "      <td>24180</td>\n",
       "      <td>23350</td>\n",
       "      <td>22380</td>\n",
       "      <td>21180</td>\n",
       "      <td>New York</td>\n",
       "      <td>NY</td>\n",
       "      <td>40.717040</td>\n",
       "      <td>-73.98700</td>\n",
       "      <td>-5</td>\n",
       "      <td>1</td>\n",
       "      <td>40.71704,-73.987</td>\n",
       "    </tr>\n",
       "  </tbody>\n",
       "</table>\n",
       "</div>"
      ],
      "text/plain": [
       "     Zip code Size of adjusted gross income   2011   2012   2013   2014  \\\n",
       "241     11220              $1 under $25,000  33944  35850  36670  37080   \n",
       "261     11355              $1 under $25,000  29871  31240  32710  33920   \n",
       "277     11373              $1 under $25,000  27998  28960  28220  28720   \n",
       "273     11368              $1 under $25,000  26666  30470  28540  29250   \n",
       "1       10002              $1 under $25,000  25950  24980  24180  23350   \n",
       "\n",
       "      2015   2016      City State   Latitude  Longitude  Timezone  \\\n",
       "241  37090  36120  Brooklyn    NY  40.641436  -74.01574        -5   \n",
       "261  34930  34950  Flushing    NY  40.749463  -73.81941        -5   \n",
       "277  28340  27380  Elmhurst    NY  40.736076  -73.87804        -5   \n",
       "273  28810  27870    Corona    NY  40.747106  -73.85838        -5   \n",
       "1    22380  21180  New York    NY  40.717040  -73.98700        -5   \n",
       "\n",
       "     Daylight savings time flag             geopoint  \n",
       "241                           1  40.641436,-74.01574  \n",
       "261                           1  40.749463,-73.81941  \n",
       "277                           1  40.736076,-73.87804  \n",
       "273                           1  40.747106,-73.85838  \n",
       "1                             1     40.71704,-73.987  "
      ]
     },
     "execution_count": 138,
     "metadata": {},
     "output_type": "execute_result"
    }
   ],
   "source": [
    "poor2011 = poor.sort_values([\"2011\"], ascending=False) \n",
    "poor2011.head()"
   ]
  },
  {
   "cell_type": "code",
   "execution_count": 139,
   "metadata": {},
   "outputs": [
    {
     "data": {
      "text/html": [
       "<div>\n",
       "<style scoped>\n",
       "    .dataframe tbody tr th:only-of-type {\n",
       "        vertical-align: middle;\n",
       "    }\n",
       "\n",
       "    .dataframe tbody tr th {\n",
       "        vertical-align: top;\n",
       "    }\n",
       "\n",
       "    .dataframe thead th {\n",
       "        text-align: right;\n",
       "    }\n",
       "</style>\n",
       "<table border=\"1\" class=\"dataframe\">\n",
       "  <thead>\n",
       "    <tr style=\"text-align: right;\">\n",
       "      <th></th>\n",
       "      <th>Zip code</th>\n",
       "      <th>Size of adjusted gross income</th>\n",
       "      <th>2011</th>\n",
       "      <th>2012</th>\n",
       "      <th>2013</th>\n",
       "      <th>2014</th>\n",
       "      <th>2015</th>\n",
       "      <th>2016</th>\n",
       "      <th>City</th>\n",
       "      <th>State</th>\n",
       "      <th>Latitude</th>\n",
       "      <th>Longitude</th>\n",
       "      <th>Timezone</th>\n",
       "      <th>Daylight savings time flag</th>\n",
       "      <th>geopoint</th>\n",
       "    </tr>\n",
       "  </thead>\n",
       "  <tbody>\n",
       "    <tr>\n",
       "      <th>241</th>\n",
       "      <td>11220</td>\n",
       "      <td>$1 under $25,000</td>\n",
       "      <td>33944</td>\n",
       "      <td>35850</td>\n",
       "      <td>36670</td>\n",
       "      <td>37080</td>\n",
       "      <td>37090</td>\n",
       "      <td>36120</td>\n",
       "      <td>Brooklyn</td>\n",
       "      <td>NY</td>\n",
       "      <td>40.641436</td>\n",
       "      <td>-74.01574</td>\n",
       "      <td>-5</td>\n",
       "      <td>1</td>\n",
       "      <td>40.641436,-74.01574</td>\n",
       "    </tr>\n",
       "    <tr>\n",
       "      <th>261</th>\n",
       "      <td>11355</td>\n",
       "      <td>$1 under $25,000</td>\n",
       "      <td>29871</td>\n",
       "      <td>31240</td>\n",
       "      <td>32710</td>\n",
       "      <td>33920</td>\n",
       "      <td>34930</td>\n",
       "      <td>34950</td>\n",
       "      <td>Flushing</td>\n",
       "      <td>NY</td>\n",
       "      <td>40.749463</td>\n",
       "      <td>-73.81941</td>\n",
       "      <td>-5</td>\n",
       "      <td>1</td>\n",
       "      <td>40.749463,-73.81941</td>\n",
       "    </tr>\n",
       "    <tr>\n",
       "      <th>273</th>\n",
       "      <td>11368</td>\n",
       "      <td>$1 under $25,000</td>\n",
       "      <td>26666</td>\n",
       "      <td>30470</td>\n",
       "      <td>28540</td>\n",
       "      <td>29250</td>\n",
       "      <td>28810</td>\n",
       "      <td>27870</td>\n",
       "      <td>Corona</td>\n",
       "      <td>NY</td>\n",
       "      <td>40.747106</td>\n",
       "      <td>-73.85838</td>\n",
       "      <td>-5</td>\n",
       "      <td>1</td>\n",
       "      <td>40.747106,-73.85838</td>\n",
       "    </tr>\n",
       "    <tr>\n",
       "      <th>277</th>\n",
       "      <td>11373</td>\n",
       "      <td>$1 under $25,000</td>\n",
       "      <td>27998</td>\n",
       "      <td>28960</td>\n",
       "      <td>28220</td>\n",
       "      <td>28720</td>\n",
       "      <td>28340</td>\n",
       "      <td>27380</td>\n",
       "      <td>Elmhurst</td>\n",
       "      <td>NY</td>\n",
       "      <td>40.736076</td>\n",
       "      <td>-73.87804</td>\n",
       "      <td>-5</td>\n",
       "      <td>1</td>\n",
       "      <td>40.736076,-73.87804</td>\n",
       "    </tr>\n",
       "    <tr>\n",
       "      <th>247</th>\n",
       "      <td>11226</td>\n",
       "      <td>$1 under $25,000</td>\n",
       "      <td>25713</td>\n",
       "      <td>25610</td>\n",
       "      <td>25880</td>\n",
       "      <td>25840</td>\n",
       "      <td>24700</td>\n",
       "      <td>23360</td>\n",
       "      <td>Brooklyn</td>\n",
       "      <td>NY</td>\n",
       "      <td>40.645256</td>\n",
       "      <td>-73.95553</td>\n",
       "      <td>-5</td>\n",
       "      <td>1</td>\n",
       "      <td>40.645256,-73.95553</td>\n",
       "    </tr>\n",
       "  </tbody>\n",
       "</table>\n",
       "</div>"
      ],
      "text/plain": [
       "     Zip code Size of adjusted gross income   2011   2012   2013   2014  \\\n",
       "241     11220              $1 under $25,000  33944  35850  36670  37080   \n",
       "261     11355              $1 under $25,000  29871  31240  32710  33920   \n",
       "273     11368              $1 under $25,000  26666  30470  28540  29250   \n",
       "277     11373              $1 under $25,000  27998  28960  28220  28720   \n",
       "247     11226              $1 under $25,000  25713  25610  25880  25840   \n",
       "\n",
       "      2015   2016      City State   Latitude  Longitude  Timezone  \\\n",
       "241  37090  36120  Brooklyn    NY  40.641436  -74.01574        -5   \n",
       "261  34930  34950  Flushing    NY  40.749463  -73.81941        -5   \n",
       "273  28810  27870    Corona    NY  40.747106  -73.85838        -5   \n",
       "277  28340  27380  Elmhurst    NY  40.736076  -73.87804        -5   \n",
       "247  24700  23360  Brooklyn    NY  40.645256  -73.95553        -5   \n",
       "\n",
       "     Daylight savings time flag             geopoint  \n",
       "241                           1  40.641436,-74.01574  \n",
       "261                           1  40.749463,-73.81941  \n",
       "273                           1  40.747106,-73.85838  \n",
       "277                           1  40.736076,-73.87804  \n",
       "247                           1  40.645256,-73.95553  "
      ]
     },
     "execution_count": 139,
     "metadata": {},
     "output_type": "execute_result"
    }
   ],
   "source": [
    "poor2012 = poor.sort_values([\"2012\"], ascending=False) \n",
    "poor2012.head()"
   ]
  },
  {
   "cell_type": "code",
   "execution_count": 140,
   "metadata": {},
   "outputs": [
    {
     "data": {
      "text/html": [
       "<div>\n",
       "<style scoped>\n",
       "    .dataframe tbody tr th:only-of-type {\n",
       "        vertical-align: middle;\n",
       "    }\n",
       "\n",
       "    .dataframe tbody tr th {\n",
       "        vertical-align: top;\n",
       "    }\n",
       "\n",
       "    .dataframe thead th {\n",
       "        text-align: right;\n",
       "    }\n",
       "</style>\n",
       "<table border=\"1\" class=\"dataframe\">\n",
       "  <thead>\n",
       "    <tr style=\"text-align: right;\">\n",
       "      <th></th>\n",
       "      <th>Zip code</th>\n",
       "      <th>Size of adjusted gross income</th>\n",
       "      <th>2011</th>\n",
       "      <th>2012</th>\n",
       "      <th>2013</th>\n",
       "      <th>2014</th>\n",
       "      <th>2015</th>\n",
       "      <th>2016</th>\n",
       "      <th>City</th>\n",
       "      <th>State</th>\n",
       "      <th>Latitude</th>\n",
       "      <th>Longitude</th>\n",
       "      <th>Timezone</th>\n",
       "      <th>Daylight savings time flag</th>\n",
       "      <th>geopoint</th>\n",
       "    </tr>\n",
       "  </thead>\n",
       "  <tbody>\n",
       "    <tr>\n",
       "      <th>241</th>\n",
       "      <td>11220</td>\n",
       "      <td>$1 under $25,000</td>\n",
       "      <td>33944</td>\n",
       "      <td>35850</td>\n",
       "      <td>36670</td>\n",
       "      <td>37080</td>\n",
       "      <td>37090</td>\n",
       "      <td>36120</td>\n",
       "      <td>Brooklyn</td>\n",
       "      <td>NY</td>\n",
       "      <td>40.641436</td>\n",
       "      <td>-74.01574</td>\n",
       "      <td>-5</td>\n",
       "      <td>1</td>\n",
       "      <td>40.641436,-74.01574</td>\n",
       "    </tr>\n",
       "    <tr>\n",
       "      <th>261</th>\n",
       "      <td>11355</td>\n",
       "      <td>$1 under $25,000</td>\n",
       "      <td>29871</td>\n",
       "      <td>31240</td>\n",
       "      <td>32710</td>\n",
       "      <td>33920</td>\n",
       "      <td>34930</td>\n",
       "      <td>34950</td>\n",
       "      <td>Flushing</td>\n",
       "      <td>NY</td>\n",
       "      <td>40.749463</td>\n",
       "      <td>-73.81941</td>\n",
       "      <td>-5</td>\n",
       "      <td>1</td>\n",
       "      <td>40.749463,-73.81941</td>\n",
       "    </tr>\n",
       "    <tr>\n",
       "      <th>273</th>\n",
       "      <td>11368</td>\n",
       "      <td>$1 under $25,000</td>\n",
       "      <td>26666</td>\n",
       "      <td>30470</td>\n",
       "      <td>28540</td>\n",
       "      <td>29250</td>\n",
       "      <td>28810</td>\n",
       "      <td>27870</td>\n",
       "      <td>Corona</td>\n",
       "      <td>NY</td>\n",
       "      <td>40.747106</td>\n",
       "      <td>-73.85838</td>\n",
       "      <td>-5</td>\n",
       "      <td>1</td>\n",
       "      <td>40.747106,-73.85838</td>\n",
       "    </tr>\n",
       "    <tr>\n",
       "      <th>277</th>\n",
       "      <td>11373</td>\n",
       "      <td>$1 under $25,000</td>\n",
       "      <td>27998</td>\n",
       "      <td>28960</td>\n",
       "      <td>28220</td>\n",
       "      <td>28720</td>\n",
       "      <td>28340</td>\n",
       "      <td>27380</td>\n",
       "      <td>Elmhurst</td>\n",
       "      <td>NY</td>\n",
       "      <td>40.736076</td>\n",
       "      <td>-73.87804</td>\n",
       "      <td>-5</td>\n",
       "      <td>1</td>\n",
       "      <td>40.736076,-73.87804</td>\n",
       "    </tr>\n",
       "    <tr>\n",
       "      <th>247</th>\n",
       "      <td>11226</td>\n",
       "      <td>$1 under $25,000</td>\n",
       "      <td>25713</td>\n",
       "      <td>25610</td>\n",
       "      <td>25880</td>\n",
       "      <td>25840</td>\n",
       "      <td>24700</td>\n",
       "      <td>23360</td>\n",
       "      <td>Brooklyn</td>\n",
       "      <td>NY</td>\n",
       "      <td>40.645256</td>\n",
       "      <td>-73.95553</td>\n",
       "      <td>-5</td>\n",
       "      <td>1</td>\n",
       "      <td>40.645256,-73.95553</td>\n",
       "    </tr>\n",
       "  </tbody>\n",
       "</table>\n",
       "</div>"
      ],
      "text/plain": [
       "     Zip code Size of adjusted gross income   2011   2012   2013   2014  \\\n",
       "241     11220              $1 under $25,000  33944  35850  36670  37080   \n",
       "261     11355              $1 under $25,000  29871  31240  32710  33920   \n",
       "273     11368              $1 under $25,000  26666  30470  28540  29250   \n",
       "277     11373              $1 under $25,000  27998  28960  28220  28720   \n",
       "247     11226              $1 under $25,000  25713  25610  25880  25840   \n",
       "\n",
       "      2015   2016      City State   Latitude  Longitude  Timezone  \\\n",
       "241  37090  36120  Brooklyn    NY  40.641436  -74.01574        -5   \n",
       "261  34930  34950  Flushing    NY  40.749463  -73.81941        -5   \n",
       "273  28810  27870    Corona    NY  40.747106  -73.85838        -5   \n",
       "277  28340  27380  Elmhurst    NY  40.736076  -73.87804        -5   \n",
       "247  24700  23360  Brooklyn    NY  40.645256  -73.95553        -5   \n",
       "\n",
       "     Daylight savings time flag             geopoint  \n",
       "241                           1  40.641436,-74.01574  \n",
       "261                           1  40.749463,-73.81941  \n",
       "273                           1  40.747106,-73.85838  \n",
       "277                           1  40.736076,-73.87804  \n",
       "247                           1  40.645256,-73.95553  "
      ]
     },
     "execution_count": 140,
     "metadata": {},
     "output_type": "execute_result"
    }
   ],
   "source": [
    "poor2013 = poor.sort_values([\"2013\"], ascending=False) \n",
    "poor2013.head()"
   ]
  },
  {
   "cell_type": "code",
   "execution_count": 141,
   "metadata": {},
   "outputs": [
    {
     "data": {
      "text/html": [
       "<div>\n",
       "<style scoped>\n",
       "    .dataframe tbody tr th:only-of-type {\n",
       "        vertical-align: middle;\n",
       "    }\n",
       "\n",
       "    .dataframe tbody tr th {\n",
       "        vertical-align: top;\n",
       "    }\n",
       "\n",
       "    .dataframe thead th {\n",
       "        text-align: right;\n",
       "    }\n",
       "</style>\n",
       "<table border=\"1\" class=\"dataframe\">\n",
       "  <thead>\n",
       "    <tr style=\"text-align: right;\">\n",
       "      <th></th>\n",
       "      <th>Zip code</th>\n",
       "      <th>Size of adjusted gross income</th>\n",
       "      <th>2011</th>\n",
       "      <th>2012</th>\n",
       "      <th>2013</th>\n",
       "      <th>2014</th>\n",
       "      <th>2015</th>\n",
       "      <th>2016</th>\n",
       "      <th>City</th>\n",
       "      <th>State</th>\n",
       "      <th>Latitude</th>\n",
       "      <th>Longitude</th>\n",
       "      <th>Timezone</th>\n",
       "      <th>Daylight savings time flag</th>\n",
       "      <th>geopoint</th>\n",
       "    </tr>\n",
       "  </thead>\n",
       "  <tbody>\n",
       "    <tr>\n",
       "      <th>241</th>\n",
       "      <td>11220</td>\n",
       "      <td>$1 under $25,000</td>\n",
       "      <td>33944</td>\n",
       "      <td>35850</td>\n",
       "      <td>36670</td>\n",
       "      <td>37080</td>\n",
       "      <td>37090</td>\n",
       "      <td>36120</td>\n",
       "      <td>Brooklyn</td>\n",
       "      <td>NY</td>\n",
       "      <td>40.641436</td>\n",
       "      <td>-74.01574</td>\n",
       "      <td>-5</td>\n",
       "      <td>1</td>\n",
       "      <td>40.641436,-74.01574</td>\n",
       "    </tr>\n",
       "    <tr>\n",
       "      <th>261</th>\n",
       "      <td>11355</td>\n",
       "      <td>$1 under $25,000</td>\n",
       "      <td>29871</td>\n",
       "      <td>31240</td>\n",
       "      <td>32710</td>\n",
       "      <td>33920</td>\n",
       "      <td>34930</td>\n",
       "      <td>34950</td>\n",
       "      <td>Flushing</td>\n",
       "      <td>NY</td>\n",
       "      <td>40.749463</td>\n",
       "      <td>-73.81941</td>\n",
       "      <td>-5</td>\n",
       "      <td>1</td>\n",
       "      <td>40.749463,-73.81941</td>\n",
       "    </tr>\n",
       "    <tr>\n",
       "      <th>273</th>\n",
       "      <td>11368</td>\n",
       "      <td>$1 under $25,000</td>\n",
       "      <td>26666</td>\n",
       "      <td>30470</td>\n",
       "      <td>28540</td>\n",
       "      <td>29250</td>\n",
       "      <td>28810</td>\n",
       "      <td>27870</td>\n",
       "      <td>Corona</td>\n",
       "      <td>NY</td>\n",
       "      <td>40.747106</td>\n",
       "      <td>-73.85838</td>\n",
       "      <td>-5</td>\n",
       "      <td>1</td>\n",
       "      <td>40.747106,-73.85838</td>\n",
       "    </tr>\n",
       "    <tr>\n",
       "      <th>277</th>\n",
       "      <td>11373</td>\n",
       "      <td>$1 under $25,000</td>\n",
       "      <td>27998</td>\n",
       "      <td>28960</td>\n",
       "      <td>28220</td>\n",
       "      <td>28720</td>\n",
       "      <td>28340</td>\n",
       "      <td>27380</td>\n",
       "      <td>Elmhurst</td>\n",
       "      <td>NY</td>\n",
       "      <td>40.736076</td>\n",
       "      <td>-73.87804</td>\n",
       "      <td>-5</td>\n",
       "      <td>1</td>\n",
       "      <td>40.736076,-73.87804</td>\n",
       "    </tr>\n",
       "    <tr>\n",
       "      <th>59</th>\n",
       "      <td>10456</td>\n",
       "      <td>$1 under $25,000</td>\n",
       "      <td>24281</td>\n",
       "      <td>24980</td>\n",
       "      <td>25540</td>\n",
       "      <td>26050</td>\n",
       "      <td>25320</td>\n",
       "      <td>24520</td>\n",
       "      <td>Bronx</td>\n",
       "      <td>NY</td>\n",
       "      <td>40.829676</td>\n",
       "      <td>-73.90856</td>\n",
       "      <td>-5</td>\n",
       "      <td>1</td>\n",
       "      <td>40.829676,-73.90856</td>\n",
       "    </tr>\n",
       "  </tbody>\n",
       "</table>\n",
       "</div>"
      ],
      "text/plain": [
       "     Zip code Size of adjusted gross income   2011   2012   2013   2014  \\\n",
       "241     11220              $1 under $25,000  33944  35850  36670  37080   \n",
       "261     11355              $1 under $25,000  29871  31240  32710  33920   \n",
       "273     11368              $1 under $25,000  26666  30470  28540  29250   \n",
       "277     11373              $1 under $25,000  27998  28960  28220  28720   \n",
       "59      10456              $1 under $25,000  24281  24980  25540  26050   \n",
       "\n",
       "      2015   2016      City State   Latitude  Longitude  Timezone  \\\n",
       "241  37090  36120  Brooklyn    NY  40.641436  -74.01574        -5   \n",
       "261  34930  34950  Flushing    NY  40.749463  -73.81941        -5   \n",
       "273  28810  27870    Corona    NY  40.747106  -73.85838        -5   \n",
       "277  28340  27380  Elmhurst    NY  40.736076  -73.87804        -5   \n",
       "59   25320  24520     Bronx    NY  40.829676  -73.90856        -5   \n",
       "\n",
       "     Daylight savings time flag             geopoint  \n",
       "241                           1  40.641436,-74.01574  \n",
       "261                           1  40.749463,-73.81941  \n",
       "273                           1  40.747106,-73.85838  \n",
       "277                           1  40.736076,-73.87804  \n",
       "59                            1  40.829676,-73.90856  "
      ]
     },
     "execution_count": 141,
     "metadata": {},
     "output_type": "execute_result"
    }
   ],
   "source": [
    "poor2014 = poor.sort_values([\"2014\"], ascending=False) \n",
    "poor2014.head()"
   ]
  },
  {
   "cell_type": "code",
   "execution_count": 142,
   "metadata": {},
   "outputs": [
    {
     "data": {
      "text/html": [
       "<div>\n",
       "<style scoped>\n",
       "    .dataframe tbody tr th:only-of-type {\n",
       "        vertical-align: middle;\n",
       "    }\n",
       "\n",
       "    .dataframe tbody tr th {\n",
       "        vertical-align: top;\n",
       "    }\n",
       "\n",
       "    .dataframe thead th {\n",
       "        text-align: right;\n",
       "    }\n",
       "</style>\n",
       "<table border=\"1\" class=\"dataframe\">\n",
       "  <thead>\n",
       "    <tr style=\"text-align: right;\">\n",
       "      <th></th>\n",
       "      <th>Zip code</th>\n",
       "      <th>Size of adjusted gross income</th>\n",
       "      <th>2011</th>\n",
       "      <th>2012</th>\n",
       "      <th>2013</th>\n",
       "      <th>2014</th>\n",
       "      <th>2015</th>\n",
       "      <th>2016</th>\n",
       "      <th>City</th>\n",
       "      <th>State</th>\n",
       "      <th>Latitude</th>\n",
       "      <th>Longitude</th>\n",
       "      <th>Timezone</th>\n",
       "      <th>Daylight savings time flag</th>\n",
       "      <th>geopoint</th>\n",
       "    </tr>\n",
       "  </thead>\n",
       "  <tbody>\n",
       "    <tr>\n",
       "      <th>241</th>\n",
       "      <td>11220</td>\n",
       "      <td>$1 under $25,000</td>\n",
       "      <td>33944</td>\n",
       "      <td>35850</td>\n",
       "      <td>36670</td>\n",
       "      <td>37080</td>\n",
       "      <td>37090</td>\n",
       "      <td>36120</td>\n",
       "      <td>Brooklyn</td>\n",
       "      <td>NY</td>\n",
       "      <td>40.641436</td>\n",
       "      <td>-74.01574</td>\n",
       "      <td>-5</td>\n",
       "      <td>1</td>\n",
       "      <td>40.641436,-74.01574</td>\n",
       "    </tr>\n",
       "    <tr>\n",
       "      <th>261</th>\n",
       "      <td>11355</td>\n",
       "      <td>$1 under $25,000</td>\n",
       "      <td>29871</td>\n",
       "      <td>31240</td>\n",
       "      <td>32710</td>\n",
       "      <td>33920</td>\n",
       "      <td>34930</td>\n",
       "      <td>34950</td>\n",
       "      <td>Flushing</td>\n",
       "      <td>NY</td>\n",
       "      <td>40.749463</td>\n",
       "      <td>-73.81941</td>\n",
       "      <td>-5</td>\n",
       "      <td>1</td>\n",
       "      <td>40.749463,-73.81941</td>\n",
       "    </tr>\n",
       "    <tr>\n",
       "      <th>273</th>\n",
       "      <td>11368</td>\n",
       "      <td>$1 under $25,000</td>\n",
       "      <td>26666</td>\n",
       "      <td>30470</td>\n",
       "      <td>28540</td>\n",
       "      <td>29250</td>\n",
       "      <td>28810</td>\n",
       "      <td>27870</td>\n",
       "      <td>Corona</td>\n",
       "      <td>NY</td>\n",
       "      <td>40.747106</td>\n",
       "      <td>-73.85838</td>\n",
       "      <td>-5</td>\n",
       "      <td>1</td>\n",
       "      <td>40.747106,-73.85838</td>\n",
       "    </tr>\n",
       "    <tr>\n",
       "      <th>277</th>\n",
       "      <td>11373</td>\n",
       "      <td>$1 under $25,000</td>\n",
       "      <td>27998</td>\n",
       "      <td>28960</td>\n",
       "      <td>28220</td>\n",
       "      <td>28720</td>\n",
       "      <td>28340</td>\n",
       "      <td>27380</td>\n",
       "      <td>Elmhurst</td>\n",
       "      <td>NY</td>\n",
       "      <td>40.736076</td>\n",
       "      <td>-73.87804</td>\n",
       "      <td>-5</td>\n",
       "      <td>1</td>\n",
       "      <td>40.736076,-73.87804</td>\n",
       "    </tr>\n",
       "    <tr>\n",
       "      <th>59</th>\n",
       "      <td>10456</td>\n",
       "      <td>$1 under $25,000</td>\n",
       "      <td>24281</td>\n",
       "      <td>24980</td>\n",
       "      <td>25540</td>\n",
       "      <td>26050</td>\n",
       "      <td>25320</td>\n",
       "      <td>24520</td>\n",
       "      <td>Bronx</td>\n",
       "      <td>NY</td>\n",
       "      <td>40.829676</td>\n",
       "      <td>-73.90856</td>\n",
       "      <td>-5</td>\n",
       "      <td>1</td>\n",
       "      <td>40.829676,-73.90856</td>\n",
       "    </tr>\n",
       "  </tbody>\n",
       "</table>\n",
       "</div>"
      ],
      "text/plain": [
       "     Zip code Size of adjusted gross income   2011   2012   2013   2014  \\\n",
       "241     11220              $1 under $25,000  33944  35850  36670  37080   \n",
       "261     11355              $1 under $25,000  29871  31240  32710  33920   \n",
       "273     11368              $1 under $25,000  26666  30470  28540  29250   \n",
       "277     11373              $1 under $25,000  27998  28960  28220  28720   \n",
       "59      10456              $1 under $25,000  24281  24980  25540  26050   \n",
       "\n",
       "      2015   2016      City State   Latitude  Longitude  Timezone  \\\n",
       "241  37090  36120  Brooklyn    NY  40.641436  -74.01574        -5   \n",
       "261  34930  34950  Flushing    NY  40.749463  -73.81941        -5   \n",
       "273  28810  27870    Corona    NY  40.747106  -73.85838        -5   \n",
       "277  28340  27380  Elmhurst    NY  40.736076  -73.87804        -5   \n",
       "59   25320  24520     Bronx    NY  40.829676  -73.90856        -5   \n",
       "\n",
       "     Daylight savings time flag             geopoint  \n",
       "241                           1  40.641436,-74.01574  \n",
       "261                           1  40.749463,-73.81941  \n",
       "273                           1  40.747106,-73.85838  \n",
       "277                           1  40.736076,-73.87804  \n",
       "59                            1  40.829676,-73.90856  "
      ]
     },
     "execution_count": 142,
     "metadata": {},
     "output_type": "execute_result"
    }
   ],
   "source": [
    "poor2015 = poor.sort_values([\"2015\"], ascending=False) \n",
    "poor2015.head()"
   ]
  },
  {
   "cell_type": "code",
   "execution_count": 165,
   "metadata": {},
   "outputs": [
    {
     "data": {
      "text/html": [
       "<div>\n",
       "<style scoped>\n",
       "    .dataframe tbody tr th:only-of-type {\n",
       "        vertical-align: middle;\n",
       "    }\n",
       "\n",
       "    .dataframe tbody tr th {\n",
       "        vertical-align: top;\n",
       "    }\n",
       "\n",
       "    .dataframe thead th {\n",
       "        text-align: right;\n",
       "    }\n",
       "</style>\n",
       "<table border=\"1\" class=\"dataframe\">\n",
       "  <thead>\n",
       "    <tr style=\"text-align: right;\">\n",
       "      <th></th>\n",
       "      <th>Zip code</th>\n",
       "      <th>Size of adjusted gross income</th>\n",
       "      <th>2011</th>\n",
       "      <th>2012</th>\n",
       "      <th>2013</th>\n",
       "      <th>2014</th>\n",
       "      <th>2015</th>\n",
       "      <th>2016</th>\n",
       "      <th>City</th>\n",
       "      <th>State</th>\n",
       "      <th>Latitude</th>\n",
       "      <th>Longitude</th>\n",
       "      <th>Timezone</th>\n",
       "      <th>Daylight savings time flag</th>\n",
       "      <th>geopoint</th>\n",
       "    </tr>\n",
       "  </thead>\n",
       "  <tbody>\n",
       "    <tr>\n",
       "      <th>241</th>\n",
       "      <td>11220</td>\n",
       "      <td>$1 under $25,000</td>\n",
       "      <td>33944</td>\n",
       "      <td>35850</td>\n",
       "      <td>36670</td>\n",
       "      <td>37080</td>\n",
       "      <td>37090</td>\n",
       "      <td>36120</td>\n",
       "      <td>Brooklyn</td>\n",
       "      <td>NY</td>\n",
       "      <td>40.641436</td>\n",
       "      <td>-74.01574</td>\n",
       "      <td>-5</td>\n",
       "      <td>1</td>\n",
       "      <td>40.641436,-74.01574</td>\n",
       "    </tr>\n",
       "    <tr>\n",
       "      <th>261</th>\n",
       "      <td>11355</td>\n",
       "      <td>$1 under $25,000</td>\n",
       "      <td>29871</td>\n",
       "      <td>31240</td>\n",
       "      <td>32710</td>\n",
       "      <td>33920</td>\n",
       "      <td>34930</td>\n",
       "      <td>34950</td>\n",
       "      <td>Flushing</td>\n",
       "      <td>NY</td>\n",
       "      <td>40.749463</td>\n",
       "      <td>-73.81941</td>\n",
       "      <td>-5</td>\n",
       "      <td>1</td>\n",
       "      <td>40.749463,-73.81941</td>\n",
       "    </tr>\n",
       "    <tr>\n",
       "      <th>273</th>\n",
       "      <td>11368</td>\n",
       "      <td>$1 under $25,000</td>\n",
       "      <td>26666</td>\n",
       "      <td>30470</td>\n",
       "      <td>28540</td>\n",
       "      <td>29250</td>\n",
       "      <td>28810</td>\n",
       "      <td>27870</td>\n",
       "      <td>Corona</td>\n",
       "      <td>NY</td>\n",
       "      <td>40.747106</td>\n",
       "      <td>-73.85838</td>\n",
       "      <td>-5</td>\n",
       "      <td>1</td>\n",
       "      <td>40.747106,-73.85838</td>\n",
       "    </tr>\n",
       "    <tr>\n",
       "      <th>277</th>\n",
       "      <td>11373</td>\n",
       "      <td>$1 under $25,000</td>\n",
       "      <td>27998</td>\n",
       "      <td>28960</td>\n",
       "      <td>28220</td>\n",
       "      <td>28720</td>\n",
       "      <td>28340</td>\n",
       "      <td>27380</td>\n",
       "      <td>Elmhurst</td>\n",
       "      <td>NY</td>\n",
       "      <td>40.736076</td>\n",
       "      <td>-73.87804</td>\n",
       "      <td>-5</td>\n",
       "      <td>1</td>\n",
       "      <td>40.736076,-73.87804</td>\n",
       "    </tr>\n",
       "    <tr>\n",
       "      <th>59</th>\n",
       "      <td>10456</td>\n",
       "      <td>$1 under $25,000</td>\n",
       "      <td>24281</td>\n",
       "      <td>24980</td>\n",
       "      <td>25540</td>\n",
       "      <td>26050</td>\n",
       "      <td>25320</td>\n",
       "      <td>24520</td>\n",
       "      <td>Bronx</td>\n",
       "      <td>NY</td>\n",
       "      <td>40.829676</td>\n",
       "      <td>-73.90856</td>\n",
       "      <td>-5</td>\n",
       "      <td>1</td>\n",
       "      <td>40.829676,-73.90856</td>\n",
       "    </tr>\n",
       "    <tr>\n",
       "      <th>229</th>\n",
       "      <td>11208</td>\n",
       "      <td>$1 under $25,000</td>\n",
       "      <td>24033</td>\n",
       "      <td>24290</td>\n",
       "      <td>24590</td>\n",
       "      <td>24890</td>\n",
       "      <td>24530</td>\n",
       "      <td>23690</td>\n",
       "      <td>Brooklyn</td>\n",
       "      <td>NY</td>\n",
       "      <td>40.672666</td>\n",
       "      <td>-73.87248</td>\n",
       "      <td>-5</td>\n",
       "      <td>1</td>\n",
       "      <td>40.672666,-73.87248</td>\n",
       "    </tr>\n",
       "    <tr>\n",
       "      <th>247</th>\n",
       "      <td>11226</td>\n",
       "      <td>$1 under $25,000</td>\n",
       "      <td>25713</td>\n",
       "      <td>25610</td>\n",
       "      <td>25880</td>\n",
       "      <td>25840</td>\n",
       "      <td>24700</td>\n",
       "      <td>23360</td>\n",
       "      <td>Brooklyn</td>\n",
       "      <td>NY</td>\n",
       "      <td>40.645256</td>\n",
       "      <td>-73.95553</td>\n",
       "      <td>-5</td>\n",
       "      <td>1</td>\n",
       "      <td>40.645256,-73.95553</td>\n",
       "    </tr>\n",
       "    <tr>\n",
       "      <th>56</th>\n",
       "      <td>10453</td>\n",
       "      <td>$1 under $25,000</td>\n",
       "      <td>23901</td>\n",
       "      <td>23710</td>\n",
       "      <td>24570</td>\n",
       "      <td>24210</td>\n",
       "      <td>23970</td>\n",
       "      <td>23280</td>\n",
       "      <td>Bronx</td>\n",
       "      <td>NY</td>\n",
       "      <td>40.853017</td>\n",
       "      <td>-73.91214</td>\n",
       "      <td>-5</td>\n",
       "      <td>1</td>\n",
       "      <td>40.853017,-73.91214</td>\n",
       "    </tr>\n",
       "    <tr>\n",
       "      <th>228</th>\n",
       "      <td>11207</td>\n",
       "      <td>$1 under $25,000</td>\n",
       "      <td>22791</td>\n",
       "      <td>22850</td>\n",
       "      <td>23740</td>\n",
       "      <td>23520</td>\n",
       "      <td>23340</td>\n",
       "      <td>22470</td>\n",
       "      <td>Brooklyn</td>\n",
       "      <td>NY</td>\n",
       "      <td>40.670874</td>\n",
       "      <td>-73.89424</td>\n",
       "      <td>-5</td>\n",
       "      <td>1</td>\n",
       "      <td>40.670874,-73.89424</td>\n",
       "    </tr>\n",
       "    <tr>\n",
       "      <th>70</th>\n",
       "      <td>10467</td>\n",
       "      <td>$1 under $25,000</td>\n",
       "      <td>21584</td>\n",
       "      <td>21910</td>\n",
       "      <td>22740</td>\n",
       "      <td>23150</td>\n",
       "      <td>22520</td>\n",
       "      <td>22140</td>\n",
       "      <td>Bronx</td>\n",
       "      <td>NY</td>\n",
       "      <td>40.872265</td>\n",
       "      <td>-73.86937</td>\n",
       "      <td>-5</td>\n",
       "      <td>1</td>\n",
       "      <td>40.872265,-73.86937</td>\n",
       "    </tr>\n",
       "    <tr>\n",
       "      <th>55</th>\n",
       "      <td>10452</td>\n",
       "      <td>$1 under $25,000</td>\n",
       "      <td>21912</td>\n",
       "      <td>22460</td>\n",
       "      <td>22630</td>\n",
       "      <td>22500</td>\n",
       "      <td>22230</td>\n",
       "      <td>21350</td>\n",
       "      <td>Bronx</td>\n",
       "      <td>NY</td>\n",
       "      <td>40.838745</td>\n",
       "      <td>-73.92234</td>\n",
       "      <td>-5</td>\n",
       "      <td>1</td>\n",
       "      <td>40.838745,-73.92234</td>\n",
       "    </tr>\n",
       "    <tr>\n",
       "      <th>1</th>\n",
       "      <td>10002</td>\n",
       "      <td>$1 under $25,000</td>\n",
       "      <td>25950</td>\n",
       "      <td>24980</td>\n",
       "      <td>24180</td>\n",
       "      <td>23350</td>\n",
       "      <td>22380</td>\n",
       "      <td>21180</td>\n",
       "      <td>New York</td>\n",
       "      <td>NY</td>\n",
       "      <td>40.717040</td>\n",
       "      <td>-73.98700</td>\n",
       "      <td>-5</td>\n",
       "      <td>1</td>\n",
       "      <td>40.71704,-73.987</td>\n",
       "    </tr>\n",
       "    <tr>\n",
       "      <th>280</th>\n",
       "      <td>11377</td>\n",
       "      <td>$1 under $25,000</td>\n",
       "      <td>22667</td>\n",
       "      <td>22750</td>\n",
       "      <td>22380</td>\n",
       "      <td>22160</td>\n",
       "      <td>21790</td>\n",
       "      <td>20980</td>\n",
       "      <td>Woodside</td>\n",
       "      <td>NY</td>\n",
       "      <td>40.742869</td>\n",
       "      <td>-73.90377</td>\n",
       "      <td>-5</td>\n",
       "      <td>1</td>\n",
       "      <td>40.742869,-73.90377</td>\n",
       "    </tr>\n",
       "    <tr>\n",
       "      <th>233</th>\n",
       "      <td>11212</td>\n",
       "      <td>$1 under $25,000</td>\n",
       "      <td>20786</td>\n",
       "      <td>20710</td>\n",
       "      <td>21250</td>\n",
       "      <td>21280</td>\n",
       "      <td>21430</td>\n",
       "      <td>20670</td>\n",
       "      <td>Brooklyn</td>\n",
       "      <td>NY</td>\n",
       "      <td>40.662191</td>\n",
       "      <td>-73.91328</td>\n",
       "      <td>-5</td>\n",
       "      <td>1</td>\n",
       "      <td>40.662191,-73.91328</td>\n",
       "    </tr>\n",
       "    <tr>\n",
       "      <th>240</th>\n",
       "      <td>11219</td>\n",
       "      <td>$1 under $25,000</td>\n",
       "      <td>20314</td>\n",
       "      <td>20960</td>\n",
       "      <td>21330</td>\n",
       "      <td>21160</td>\n",
       "      <td>21070</td>\n",
       "      <td>20390</td>\n",
       "      <td>Brooklyn</td>\n",
       "      <td>NY</td>\n",
       "      <td>40.632449</td>\n",
       "      <td>-73.99629</td>\n",
       "      <td>-5</td>\n",
       "      <td>1</td>\n",
       "      <td>40.632449,-73.99629</td>\n",
       "    </tr>\n",
       "    <tr>\n",
       "      <th>71</th>\n",
       "      <td>10468</td>\n",
       "      <td>$1 under $25,000</td>\n",
       "      <td>20215</td>\n",
       "      <td>20900</td>\n",
       "      <td>21850</td>\n",
       "      <td>21500</td>\n",
       "      <td>20960</td>\n",
       "      <td>20220</td>\n",
       "      <td>Bronx</td>\n",
       "      <td>NY</td>\n",
       "      <td>40.867107</td>\n",
       "      <td>-73.89916</td>\n",
       "      <td>-5</td>\n",
       "      <td>1</td>\n",
       "      <td>40.867107,-73.89916</td>\n",
       "    </tr>\n",
       "    <tr>\n",
       "      <th>60</th>\n",
       "      <td>10457</td>\n",
       "      <td>$1 under $25,000</td>\n",
       "      <td>19832</td>\n",
       "      <td>20350</td>\n",
       "      <td>21100</td>\n",
       "      <td>20930</td>\n",
       "      <td>20850</td>\n",
       "      <td>20000</td>\n",
       "      <td>Bronx</td>\n",
       "      <td>NY</td>\n",
       "      <td>40.846745</td>\n",
       "      <td>-73.89861</td>\n",
       "      <td>-5</td>\n",
       "      <td>1</td>\n",
       "      <td>40.846745,-73.89861</td>\n",
       "    </tr>\n",
       "    <tr>\n",
       "      <th>61</th>\n",
       "      <td>10458</td>\n",
       "      <td>$1 under $25,000</td>\n",
       "      <td>19479</td>\n",
       "      <td>20110</td>\n",
       "      <td>20620</td>\n",
       "      <td>20690</td>\n",
       "      <td>20400</td>\n",
       "      <td>19820</td>\n",
       "      <td>Bronx</td>\n",
       "      <td>NY</td>\n",
       "      <td>40.864166</td>\n",
       "      <td>-73.88881</td>\n",
       "      <td>-5</td>\n",
       "      <td>1</td>\n",
       "      <td>40.864166,-73.88881</td>\n",
       "    </tr>\n",
       "    <tr>\n",
       "      <th>235</th>\n",
       "      <td>11214</td>\n",
       "      <td>$1 under $25,000</td>\n",
       "      <td>18542</td>\n",
       "      <td>19080</td>\n",
       "      <td>19080</td>\n",
       "      <td>19290</td>\n",
       "      <td>19720</td>\n",
       "      <td>19700</td>\n",
       "      <td>Brooklyn</td>\n",
       "      <td>NY</td>\n",
       "      <td>40.598994</td>\n",
       "      <td>-73.99611</td>\n",
       "      <td>-5</td>\n",
       "      <td>1</td>\n",
       "      <td>40.598994,-73.99611</td>\n",
       "    </tr>\n",
       "    <tr>\n",
       "      <th>283</th>\n",
       "      <td>11385</td>\n",
       "      <td>$1 under $25,000</td>\n",
       "      <td>21214</td>\n",
       "      <td>21810</td>\n",
       "      <td>21600</td>\n",
       "      <td>21250</td>\n",
       "      <td>20700</td>\n",
       "      <td>19640</td>\n",
       "      <td>Ridgewood</td>\n",
       "      <td>NY</td>\n",
       "      <td>40.703069</td>\n",
       "      <td>-73.89285</td>\n",
       "      <td>-5</td>\n",
       "      <td>1</td>\n",
       "      <td>40.703069,-73.89285</td>\n",
       "    </tr>\n",
       "  </tbody>\n",
       "</table>\n",
       "</div>"
      ],
      "text/plain": [
       "    Zip code Size of adjusted gross income   2011   2012   2013   2014   2015  \\\n",
       "241    11220              $1 under $25,000  33944  35850  36670  37080  37090   \n",
       "261    11355              $1 under $25,000  29871  31240  32710  33920  34930   \n",
       "273    11368              $1 under $25,000  26666  30470  28540  29250  28810   \n",
       "277    11373              $1 under $25,000  27998  28960  28220  28720  28340   \n",
       "59     10456              $1 under $25,000  24281  24980  25540  26050  25320   \n",
       "229    11208              $1 under $25,000  24033  24290  24590  24890  24530   \n",
       "247    11226              $1 under $25,000  25713  25610  25880  25840  24700   \n",
       "56     10453              $1 under $25,000  23901  23710  24570  24210  23970   \n",
       "228    11207              $1 under $25,000  22791  22850  23740  23520  23340   \n",
       "70     10467              $1 under $25,000  21584  21910  22740  23150  22520   \n",
       "55     10452              $1 under $25,000  21912  22460  22630  22500  22230   \n",
       "1      10002              $1 under $25,000  25950  24980  24180  23350  22380   \n",
       "280    11377              $1 under $25,000  22667  22750  22380  22160  21790   \n",
       "233    11212              $1 under $25,000  20786  20710  21250  21280  21430   \n",
       "240    11219              $1 under $25,000  20314  20960  21330  21160  21070   \n",
       "71     10468              $1 under $25,000  20215  20900  21850  21500  20960   \n",
       "60     10457              $1 under $25,000  19832  20350  21100  20930  20850   \n",
       "61     10458              $1 under $25,000  19479  20110  20620  20690  20400   \n",
       "235    11214              $1 under $25,000  18542  19080  19080  19290  19720   \n",
       "283    11385              $1 under $25,000  21214  21810  21600  21250  20700   \n",
       "\n",
       "      2016       City State   Latitude  Longitude  Timezone  \\\n",
       "241  36120   Brooklyn    NY  40.641436  -74.01574        -5   \n",
       "261  34950   Flushing    NY  40.749463  -73.81941        -5   \n",
       "273  27870     Corona    NY  40.747106  -73.85838        -5   \n",
       "277  27380   Elmhurst    NY  40.736076  -73.87804        -5   \n",
       "59   24520      Bronx    NY  40.829676  -73.90856        -5   \n",
       "229  23690   Brooklyn    NY  40.672666  -73.87248        -5   \n",
       "247  23360   Brooklyn    NY  40.645256  -73.95553        -5   \n",
       "56   23280      Bronx    NY  40.853017  -73.91214        -5   \n",
       "228  22470   Brooklyn    NY  40.670874  -73.89424        -5   \n",
       "70   22140      Bronx    NY  40.872265  -73.86937        -5   \n",
       "55   21350      Bronx    NY  40.838745  -73.92234        -5   \n",
       "1    21180   New York    NY  40.717040  -73.98700        -5   \n",
       "280  20980   Woodside    NY  40.742869  -73.90377        -5   \n",
       "233  20670   Brooklyn    NY  40.662191  -73.91328        -5   \n",
       "240  20390   Brooklyn    NY  40.632449  -73.99629        -5   \n",
       "71   20220      Bronx    NY  40.867107  -73.89916        -5   \n",
       "60   20000      Bronx    NY  40.846745  -73.89861        -5   \n",
       "61   19820      Bronx    NY  40.864166  -73.88881        -5   \n",
       "235  19700   Brooklyn    NY  40.598994  -73.99611        -5   \n",
       "283  19640  Ridgewood    NY  40.703069  -73.89285        -5   \n",
       "\n",
       "     Daylight savings time flag             geopoint  \n",
       "241                           1  40.641436,-74.01574  \n",
       "261                           1  40.749463,-73.81941  \n",
       "273                           1  40.747106,-73.85838  \n",
       "277                           1  40.736076,-73.87804  \n",
       "59                            1  40.829676,-73.90856  \n",
       "229                           1  40.672666,-73.87248  \n",
       "247                           1  40.645256,-73.95553  \n",
       "56                            1  40.853017,-73.91214  \n",
       "228                           1  40.670874,-73.89424  \n",
       "70                            1  40.872265,-73.86937  \n",
       "55                            1  40.838745,-73.92234  \n",
       "1                             1     40.71704,-73.987  \n",
       "280                           1  40.742869,-73.90377  \n",
       "233                           1  40.662191,-73.91328  \n",
       "240                           1  40.632449,-73.99629  \n",
       "71                            1  40.867107,-73.89916  \n",
       "60                            1  40.846745,-73.89861  \n",
       "61                            1  40.864166,-73.88881  \n",
       "235                           1  40.598994,-73.99611  \n",
       "283                           1  40.703069,-73.89285  "
      ]
     },
     "execution_count": 165,
     "metadata": {},
     "output_type": "execute_result"
    }
   ],
   "source": [
    "poor2016 = poor.sort_values([\"2016\"], ascending=False) \n",
    "top_20_poor2016 = poor2016.head(20)\n",
    "top_20_poor2016 = top_20_poor2016.astype({\"Zip code\": str})\n",
    "top_20_poor2016"
   ]
  },
  {
   "cell_type": "code",
   "execution_count": 166,
   "metadata": {},
   "outputs": [
    {
     "data": {
      "text/html": [
       "<div>\n",
       "<style scoped>\n",
       "    .dataframe tbody tr th:only-of-type {\n",
       "        vertical-align: middle;\n",
       "    }\n",
       "\n",
       "    .dataframe tbody tr th {\n",
       "        vertical-align: top;\n",
       "    }\n",
       "\n",
       "    .dataframe thead th {\n",
       "        text-align: right;\n",
       "    }\n",
       "</style>\n",
       "<table border=\"1\" class=\"dataframe\">\n",
       "  <thead>\n",
       "    <tr style=\"text-align: right;\">\n",
       "      <th></th>\n",
       "      <th>Zip code</th>\n",
       "      <th>Size of adjusted gross income</th>\n",
       "      <th>2011</th>\n",
       "      <th>2012</th>\n",
       "      <th>2013</th>\n",
       "      <th>2014</th>\n",
       "      <th>2015</th>\n",
       "      <th>2016</th>\n",
       "      <th>City</th>\n",
       "      <th>State</th>\n",
       "      <th>Latitude</th>\n",
       "      <th>Longitude</th>\n",
       "      <th>Timezone</th>\n",
       "      <th>Daylight savings time flag</th>\n",
       "      <th>geopoint</th>\n",
       "    </tr>\n",
       "  </thead>\n",
       "  <tbody>\n",
       "  </tbody>\n",
       "</table>\n",
       "</div>"
      ],
      "text/plain": [
       "Empty DataFrame\n",
       "Columns: [Zip code, Size of adjusted gross income, 2011, 2012, 2013, 2014, 2015, 2016, City, State, Latitude, Longitude, Timezone, Daylight savings time flag, geopoint]\n",
       "Index: []"
      ]
     },
     "execution_count": 166,
     "metadata": {},
     "output_type": "execute_result"
    }
   ],
   "source": [
    "poor2011.loc[poor2011['Zip code'] == '13126']"
   ]
  },
  {
   "cell_type": "code",
   "execution_count": 167,
   "metadata": {},
   "outputs": [
    {
     "data": {
      "text/plain": [
       "(1535, 15)"
      ]
     },
     "execution_count": 167,
     "metadata": {},
     "output_type": "execute_result"
    }
   ],
   "source": [
    "poor2016.shape"
   ]
  },
  {
   "cell_type": "code",
   "execution_count": 169,
   "metadata": {},
   "outputs": [
    {
     "ename": "TypeError",
     "evalue": "'<' not supported between instances of 'str' and 'int'",
     "output_type": "error",
     "traceback": [
      "\u001b[1;31m---------------------------------------------------------------------------\u001b[0m",
      "\u001b[1;31mTypeError\u001b[0m                                 Traceback (most recent call last)",
      "\u001b[1;32m~\\Anaconda3\\lib\\site-packages\\pandas\\core\\series.py\u001b[0m in \u001b[0;36m_try_kind_sort\u001b[1;34m(arr)\u001b[0m\n\u001b[0;32m   2786\u001b[0m                 \u001b[1;31m# if kind==mergesort, it can fail for object dtype\u001b[0m\u001b[1;33m\u001b[0m\u001b[1;33m\u001b[0m\u001b[1;33m\u001b[0m\u001b[0m\n\u001b[1;32m-> 2787\u001b[1;33m                 \u001b[1;32mreturn\u001b[0m \u001b[0marr\u001b[0m\u001b[1;33m.\u001b[0m\u001b[0margsort\u001b[0m\u001b[1;33m(\u001b[0m\u001b[0mkind\u001b[0m\u001b[1;33m=\u001b[0m\u001b[0mkind\u001b[0m\u001b[1;33m)\u001b[0m\u001b[1;33m\u001b[0m\u001b[1;33m\u001b[0m\u001b[0m\n\u001b[0m\u001b[0;32m   2788\u001b[0m             \u001b[1;32mexcept\u001b[0m \u001b[0mTypeError\u001b[0m\u001b[1;33m:\u001b[0m\u001b[1;33m\u001b[0m\u001b[1;33m\u001b[0m\u001b[0m\n",
      "\u001b[1;31mTypeError\u001b[0m: '<' not supported between instances of 'str' and 'int'",
      "\nDuring handling of the above exception, another exception occurred:\n",
      "\u001b[1;31mTypeError\u001b[0m                                 Traceback (most recent call last)",
      "\u001b[1;32m~\\Anaconda3\\lib\\site-packages\\IPython\\core\\formatters.py\u001b[0m in \u001b[0;36m__call__\u001b[1;34m(self, obj, include, exclude)\u001b[0m\n\u001b[0;32m    968\u001b[0m \u001b[1;33m\u001b[0m\u001b[0m\n\u001b[0;32m    969\u001b[0m             \u001b[1;32mif\u001b[0m \u001b[0mmethod\u001b[0m \u001b[1;32mis\u001b[0m \u001b[1;32mnot\u001b[0m \u001b[1;32mNone\u001b[0m\u001b[1;33m:\u001b[0m\u001b[1;33m\u001b[0m\u001b[1;33m\u001b[0m\u001b[0m\n\u001b[1;32m--> 970\u001b[1;33m                 \u001b[1;32mreturn\u001b[0m \u001b[0mmethod\u001b[0m\u001b[1;33m(\u001b[0m\u001b[0minclude\u001b[0m\u001b[1;33m=\u001b[0m\u001b[0minclude\u001b[0m\u001b[1;33m,\u001b[0m \u001b[0mexclude\u001b[0m\u001b[1;33m=\u001b[0m\u001b[0mexclude\u001b[0m\u001b[1;33m)\u001b[0m\u001b[1;33m\u001b[0m\u001b[1;33m\u001b[0m\u001b[0m\n\u001b[0m\u001b[0;32m    971\u001b[0m             \u001b[1;32mreturn\u001b[0m \u001b[1;32mNone\u001b[0m\u001b[1;33m\u001b[0m\u001b[1;33m\u001b[0m\u001b[0m\n\u001b[0;32m    972\u001b[0m         \u001b[1;32melse\u001b[0m\u001b[1;33m:\u001b[0m\u001b[1;33m\u001b[0m\u001b[1;33m\u001b[0m\u001b[0m\n",
      "\u001b[1;32m~\\Anaconda3\\lib\\site-packages\\holoviews\\core\\dimension.py\u001b[0m in \u001b[0;36m_repr_mimebundle_\u001b[1;34m(self, include, exclude)\u001b[0m\n\u001b[0;32m   1292\u001b[0m         \u001b[0mcombined\u001b[0m \u001b[1;32mand\u001b[0m \u001b[0mreturned\u001b[0m\u001b[1;33m.\u001b[0m\u001b[1;33m\u001b[0m\u001b[1;33m\u001b[0m\u001b[0m\n\u001b[0;32m   1293\u001b[0m         \"\"\"\n\u001b[1;32m-> 1294\u001b[1;33m         \u001b[1;32mreturn\u001b[0m \u001b[0mStore\u001b[0m\u001b[1;33m.\u001b[0m\u001b[0mrender\u001b[0m\u001b[1;33m(\u001b[0m\u001b[0mself\u001b[0m\u001b[1;33m)\u001b[0m\u001b[1;33m\u001b[0m\u001b[1;33m\u001b[0m\u001b[0m\n\u001b[0m\u001b[0;32m   1295\u001b[0m \u001b[1;33m\u001b[0m\u001b[0m\n\u001b[0;32m   1296\u001b[0m \u001b[1;33m\u001b[0m\u001b[0m\n",
      "\u001b[1;32m~\\Anaconda3\\lib\\site-packages\\holoviews\\core\\options.py\u001b[0m in \u001b[0;36mrender\u001b[1;34m(cls, obj)\u001b[0m\n\u001b[0;32m   1364\u001b[0m         \u001b[0mdata\u001b[0m\u001b[1;33m,\u001b[0m \u001b[0mmetadata\u001b[0m \u001b[1;33m=\u001b[0m \u001b[1;33m{\u001b[0m\u001b[1;33m}\u001b[0m\u001b[1;33m,\u001b[0m \u001b[1;33m{\u001b[0m\u001b[1;33m}\u001b[0m\u001b[1;33m\u001b[0m\u001b[1;33m\u001b[0m\u001b[0m\n\u001b[0;32m   1365\u001b[0m         \u001b[1;32mfor\u001b[0m \u001b[0mhook\u001b[0m \u001b[1;32min\u001b[0m \u001b[0mhooks\u001b[0m\u001b[1;33m:\u001b[0m\u001b[1;33m\u001b[0m\u001b[1;33m\u001b[0m\u001b[0m\n\u001b[1;32m-> 1366\u001b[1;33m             \u001b[0mret\u001b[0m \u001b[1;33m=\u001b[0m \u001b[0mhook\u001b[0m\u001b[1;33m(\u001b[0m\u001b[0mobj\u001b[0m\u001b[1;33m)\u001b[0m\u001b[1;33m\u001b[0m\u001b[1;33m\u001b[0m\u001b[0m\n\u001b[0m\u001b[0;32m   1367\u001b[0m             \u001b[1;32mif\u001b[0m \u001b[0mret\u001b[0m \u001b[1;32mis\u001b[0m \u001b[1;32mNone\u001b[0m\u001b[1;33m:\u001b[0m\u001b[1;33m\u001b[0m\u001b[1;33m\u001b[0m\u001b[0m\n\u001b[0;32m   1368\u001b[0m                 \u001b[1;32mcontinue\u001b[0m\u001b[1;33m\u001b[0m\u001b[1;33m\u001b[0m\u001b[0m\n",
      "\u001b[1;32m~\\Anaconda3\\lib\\site-packages\\holoviews\\ipython\\display_hooks.py\u001b[0m in \u001b[0;36mpprint_display\u001b[1;34m(obj)\u001b[0m\n\u001b[0;32m    279\u001b[0m     \u001b[1;32mif\u001b[0m \u001b[1;32mnot\u001b[0m \u001b[0mip\u001b[0m\u001b[1;33m.\u001b[0m\u001b[0mdisplay_formatter\u001b[0m\u001b[1;33m.\u001b[0m\u001b[0mformatters\u001b[0m\u001b[1;33m[\u001b[0m\u001b[1;34m'text/plain'\u001b[0m\u001b[1;33m]\u001b[0m\u001b[1;33m.\u001b[0m\u001b[0mpprint\u001b[0m\u001b[1;33m:\u001b[0m\u001b[1;33m\u001b[0m\u001b[1;33m\u001b[0m\u001b[0m\n\u001b[0;32m    280\u001b[0m         \u001b[1;32mreturn\u001b[0m \u001b[1;32mNone\u001b[0m\u001b[1;33m\u001b[0m\u001b[1;33m\u001b[0m\u001b[0m\n\u001b[1;32m--> 281\u001b[1;33m     \u001b[1;32mreturn\u001b[0m \u001b[0mdisplay\u001b[0m\u001b[1;33m(\u001b[0m\u001b[0mobj\u001b[0m\u001b[1;33m,\u001b[0m \u001b[0mraw_output\u001b[0m\u001b[1;33m=\u001b[0m\u001b[1;32mTrue\u001b[0m\u001b[1;33m)\u001b[0m\u001b[1;33m\u001b[0m\u001b[1;33m\u001b[0m\u001b[0m\n\u001b[0m\u001b[0;32m    282\u001b[0m \u001b[1;33m\u001b[0m\u001b[0m\n\u001b[0;32m    283\u001b[0m \u001b[1;33m\u001b[0m\u001b[0m\n",
      "\u001b[1;32m~\\Anaconda3\\lib\\site-packages\\holoviews\\ipython\\display_hooks.py\u001b[0m in \u001b[0;36mdisplay\u001b[1;34m(obj, raw_output, **kwargs)\u001b[0m\n\u001b[0;32m    249\u001b[0m     \u001b[1;32melif\u001b[0m \u001b[0misinstance\u001b[0m\u001b[1;33m(\u001b[0m\u001b[0mobj\u001b[0m\u001b[1;33m,\u001b[0m \u001b[1;33m(\u001b[0m\u001b[0mCompositeOverlay\u001b[0m\u001b[1;33m,\u001b[0m \u001b[0mViewableElement\u001b[0m\u001b[1;33m)\u001b[0m\u001b[1;33m)\u001b[0m\u001b[1;33m:\u001b[0m\u001b[1;33m\u001b[0m\u001b[1;33m\u001b[0m\u001b[0m\n\u001b[0;32m    250\u001b[0m         \u001b[1;32mwith\u001b[0m \u001b[0moption_state\u001b[0m\u001b[1;33m(\u001b[0m\u001b[0mobj\u001b[0m\u001b[1;33m)\u001b[0m\u001b[1;33m:\u001b[0m\u001b[1;33m\u001b[0m\u001b[1;33m\u001b[0m\u001b[0m\n\u001b[1;32m--> 251\u001b[1;33m             \u001b[0moutput\u001b[0m \u001b[1;33m=\u001b[0m \u001b[0melement_display\u001b[0m\u001b[1;33m(\u001b[0m\u001b[0mobj\u001b[0m\u001b[1;33m)\u001b[0m\u001b[1;33m\u001b[0m\u001b[1;33m\u001b[0m\u001b[0m\n\u001b[0m\u001b[0;32m    252\u001b[0m     \u001b[1;32melif\u001b[0m \u001b[0misinstance\u001b[0m\u001b[1;33m(\u001b[0m\u001b[0mobj\u001b[0m\u001b[1;33m,\u001b[0m \u001b[1;33m(\u001b[0m\u001b[0mLayout\u001b[0m\u001b[1;33m,\u001b[0m \u001b[0mNdLayout\u001b[0m\u001b[1;33m,\u001b[0m \u001b[0mAdjointLayout\u001b[0m\u001b[1;33m)\u001b[0m\u001b[1;33m)\u001b[0m\u001b[1;33m:\u001b[0m\u001b[1;33m\u001b[0m\u001b[1;33m\u001b[0m\u001b[0m\n\u001b[0;32m    253\u001b[0m         \u001b[1;32mwith\u001b[0m \u001b[0moption_state\u001b[0m\u001b[1;33m(\u001b[0m\u001b[0mobj\u001b[0m\u001b[1;33m)\u001b[0m\u001b[1;33m:\u001b[0m\u001b[1;33m\u001b[0m\u001b[1;33m\u001b[0m\u001b[0m\n",
      "\u001b[1;32m~\\Anaconda3\\lib\\site-packages\\holoviews\\ipython\\display_hooks.py\u001b[0m in \u001b[0;36mwrapped\u001b[1;34m(element)\u001b[0m\n\u001b[0;32m    144\u001b[0m         \u001b[1;32mtry\u001b[0m\u001b[1;33m:\u001b[0m\u001b[1;33m\u001b[0m\u001b[1;33m\u001b[0m\u001b[0m\n\u001b[0;32m    145\u001b[0m             \u001b[0mmax_frames\u001b[0m \u001b[1;33m=\u001b[0m \u001b[0mOutputSettings\u001b[0m\u001b[1;33m.\u001b[0m\u001b[0moptions\u001b[0m\u001b[1;33m[\u001b[0m\u001b[1;34m'max_frames'\u001b[0m\u001b[1;33m]\u001b[0m\u001b[1;33m\u001b[0m\u001b[1;33m\u001b[0m\u001b[0m\n\u001b[1;32m--> 146\u001b[1;33m             \u001b[0mmimebundle\u001b[0m \u001b[1;33m=\u001b[0m \u001b[0mfn\u001b[0m\u001b[1;33m(\u001b[0m\u001b[0melement\u001b[0m\u001b[1;33m,\u001b[0m \u001b[0mmax_frames\u001b[0m\u001b[1;33m=\u001b[0m\u001b[0mmax_frames\u001b[0m\u001b[1;33m)\u001b[0m\u001b[1;33m\u001b[0m\u001b[1;33m\u001b[0m\u001b[0m\n\u001b[0m\u001b[0;32m    147\u001b[0m             \u001b[1;32mif\u001b[0m \u001b[0mmimebundle\u001b[0m \u001b[1;32mis\u001b[0m \u001b[1;32mNone\u001b[0m\u001b[1;33m:\u001b[0m\u001b[1;33m\u001b[0m\u001b[1;33m\u001b[0m\u001b[0m\n\u001b[0;32m    148\u001b[0m                 \u001b[1;32mreturn\u001b[0m \u001b[1;33m{\u001b[0m\u001b[1;33m}\u001b[0m\u001b[1;33m,\u001b[0m \u001b[1;33m{\u001b[0m\u001b[1;33m}\u001b[0m\u001b[1;33m\u001b[0m\u001b[1;33m\u001b[0m\u001b[0m\n",
      "\u001b[1;32m~\\Anaconda3\\lib\\site-packages\\holoviews\\ipython\\display_hooks.py\u001b[0m in \u001b[0;36melement_display\u001b[1;34m(element, max_frames)\u001b[0m\n\u001b[0;32m    190\u001b[0m         \u001b[1;32mreturn\u001b[0m \u001b[1;32mNone\u001b[0m\u001b[1;33m\u001b[0m\u001b[1;33m\u001b[0m\u001b[0m\n\u001b[0;32m    191\u001b[0m \u001b[1;33m\u001b[0m\u001b[0m\n\u001b[1;32m--> 192\u001b[1;33m     \u001b[1;32mreturn\u001b[0m \u001b[0mrender\u001b[0m\u001b[1;33m(\u001b[0m\u001b[0melement\u001b[0m\u001b[1;33m)\u001b[0m\u001b[1;33m\u001b[0m\u001b[1;33m\u001b[0m\u001b[0m\n\u001b[0m\u001b[0;32m    193\u001b[0m \u001b[1;33m\u001b[0m\u001b[0m\n\u001b[0;32m    194\u001b[0m \u001b[1;33m\u001b[0m\u001b[0m\n",
      "\u001b[1;32m~\\Anaconda3\\lib\\site-packages\\holoviews\\ipython\\display_hooks.py\u001b[0m in \u001b[0;36mrender\u001b[1;34m(obj, **kwargs)\u001b[0m\n\u001b[0;32m     66\u001b[0m         \u001b[0mrenderer\u001b[0m \u001b[1;33m=\u001b[0m \u001b[0mrenderer\u001b[0m\u001b[1;33m.\u001b[0m\u001b[0minstance\u001b[0m\u001b[1;33m(\u001b[0m\u001b[0mfig\u001b[0m\u001b[1;33m=\u001b[0m\u001b[1;34m'png'\u001b[0m\u001b[1;33m)\u001b[0m\u001b[1;33m\u001b[0m\u001b[1;33m\u001b[0m\u001b[0m\n\u001b[0;32m     67\u001b[0m \u001b[1;33m\u001b[0m\u001b[0m\n\u001b[1;32m---> 68\u001b[1;33m     \u001b[1;32mreturn\u001b[0m \u001b[0mrenderer\u001b[0m\u001b[1;33m.\u001b[0m\u001b[0mcomponents\u001b[0m\u001b[1;33m(\u001b[0m\u001b[0mobj\u001b[0m\u001b[1;33m,\u001b[0m \u001b[1;33m**\u001b[0m\u001b[0mkwargs\u001b[0m\u001b[1;33m)\u001b[0m\u001b[1;33m\u001b[0m\u001b[1;33m\u001b[0m\u001b[0m\n\u001b[0m\u001b[0;32m     69\u001b[0m \u001b[1;33m\u001b[0m\u001b[0m\n\u001b[0;32m     70\u001b[0m \u001b[1;33m\u001b[0m\u001b[0m\n",
      "\u001b[1;32m~\\Anaconda3\\lib\\site-packages\\holoviews\\plotting\\bokeh\\renderer.py\u001b[0m in \u001b[0;36mcomponents\u001b[1;34m(self, obj, fmt, comm, **kwargs)\u001b[0m\n\u001b[0;32m    248\u001b[0m         \u001b[1;31m# Bokeh has to handle comms directly in <0.12.15\u001b[0m\u001b[1;33m\u001b[0m\u001b[1;33m\u001b[0m\u001b[1;33m\u001b[0m\u001b[0m\n\u001b[0;32m    249\u001b[0m         \u001b[0mcomm\u001b[0m \u001b[1;33m=\u001b[0m \u001b[1;32mFalse\u001b[0m \u001b[1;32mif\u001b[0m \u001b[0mbokeh_version\u001b[0m \u001b[1;33m<\u001b[0m \u001b[1;34m'0.12.15'\u001b[0m \u001b[1;32melse\u001b[0m \u001b[0mcomm\u001b[0m\u001b[1;33m\u001b[0m\u001b[1;33m\u001b[0m\u001b[0m\n\u001b[1;32m--> 250\u001b[1;33m         \u001b[1;32mreturn\u001b[0m \u001b[0msuper\u001b[0m\u001b[1;33m(\u001b[0m\u001b[0mBokehRenderer\u001b[0m\u001b[1;33m,\u001b[0m \u001b[0mself\u001b[0m\u001b[1;33m)\u001b[0m\u001b[1;33m.\u001b[0m\u001b[0mcomponents\u001b[0m\u001b[1;33m(\u001b[0m\u001b[0mobj\u001b[0m\u001b[1;33m,\u001b[0m\u001b[0mfmt\u001b[0m\u001b[1;33m,\u001b[0m \u001b[0mcomm\u001b[0m\u001b[1;33m,\u001b[0m \u001b[1;33m**\u001b[0m\u001b[0mkwargs\u001b[0m\u001b[1;33m)\u001b[0m\u001b[1;33m\u001b[0m\u001b[1;33m\u001b[0m\u001b[0m\n\u001b[0m\u001b[0;32m    251\u001b[0m \u001b[1;33m\u001b[0m\u001b[0m\n\u001b[0;32m    252\u001b[0m \u001b[1;33m\u001b[0m\u001b[0m\n",
      "\u001b[1;32m~\\Anaconda3\\lib\\site-packages\\holoviews\\plotting\\renderer.py\u001b[0m in \u001b[0;36mcomponents\u001b[1;34m(self, obj, fmt, comm, **kwargs)\u001b[0m\n\u001b[0;32m    319\u001b[0m             \u001b[0mplot\u001b[0m \u001b[1;33m=\u001b[0m \u001b[0mobj\u001b[0m\u001b[1;33m\u001b[0m\u001b[1;33m\u001b[0m\u001b[0m\n\u001b[0;32m    320\u001b[0m         \u001b[1;32melse\u001b[0m\u001b[1;33m:\u001b[0m\u001b[1;33m\u001b[0m\u001b[1;33m\u001b[0m\u001b[0m\n\u001b[1;32m--> 321\u001b[1;33m             \u001b[0mplot\u001b[0m\u001b[1;33m,\u001b[0m \u001b[0mfmt\u001b[0m \u001b[1;33m=\u001b[0m \u001b[0mself\u001b[0m\u001b[1;33m.\u001b[0m\u001b[0m_validate\u001b[0m\u001b[1;33m(\u001b[0m\u001b[0mobj\u001b[0m\u001b[1;33m,\u001b[0m \u001b[0mfmt\u001b[0m\u001b[1;33m)\u001b[0m\u001b[1;33m\u001b[0m\u001b[1;33m\u001b[0m\u001b[0m\n\u001b[0m\u001b[0;32m    322\u001b[0m \u001b[1;33m\u001b[0m\u001b[0m\n\u001b[0;32m    323\u001b[0m         \u001b[0mdata\u001b[0m\u001b[1;33m,\u001b[0m \u001b[0mmetadata\u001b[0m \u001b[1;33m=\u001b[0m \u001b[1;33m{\u001b[0m\u001b[1;33m}\u001b[0m\u001b[1;33m,\u001b[0m \u001b[1;33m{\u001b[0m\u001b[1;33m}\u001b[0m\u001b[1;33m\u001b[0m\u001b[1;33m\u001b[0m\u001b[0m\n",
      "\u001b[1;32m~\\Anaconda3\\lib\\site-packages\\holoviews\\plotting\\renderer.py\u001b[0m in \u001b[0;36m_validate\u001b[1;34m(self, obj, fmt, **kwargs)\u001b[0m\n\u001b[0;32m    218\u001b[0m         \u001b[1;32mif\u001b[0m \u001b[0misinstance\u001b[0m\u001b[1;33m(\u001b[0m\u001b[0mobj\u001b[0m\u001b[1;33m,\u001b[0m \u001b[0mtuple\u001b[0m\u001b[1;33m(\u001b[0m\u001b[0mself\u001b[0m\u001b[1;33m.\u001b[0m\u001b[0mwidgets\u001b[0m\u001b[1;33m.\u001b[0m\u001b[0mvalues\u001b[0m\u001b[1;33m(\u001b[0m\u001b[1;33m)\u001b[0m\u001b[1;33m)\u001b[0m\u001b[1;33m)\u001b[0m\u001b[1;33m:\u001b[0m\u001b[1;33m\u001b[0m\u001b[1;33m\u001b[0m\u001b[0m\n\u001b[0;32m    219\u001b[0m             \u001b[1;32mreturn\u001b[0m \u001b[0mobj\u001b[0m\u001b[1;33m,\u001b[0m \u001b[1;34m'html'\u001b[0m\u001b[1;33m\u001b[0m\u001b[1;33m\u001b[0m\u001b[0m\n\u001b[1;32m--> 220\u001b[1;33m         \u001b[0mplot\u001b[0m \u001b[1;33m=\u001b[0m \u001b[0mself\u001b[0m\u001b[1;33m.\u001b[0m\u001b[0mget_plot\u001b[0m\u001b[1;33m(\u001b[0m\u001b[0mobj\u001b[0m\u001b[1;33m,\u001b[0m \u001b[0mrenderer\u001b[0m\u001b[1;33m=\u001b[0m\u001b[0mself\u001b[0m\u001b[1;33m,\u001b[0m \u001b[1;33m**\u001b[0m\u001b[0mkwargs\u001b[0m\u001b[1;33m)\u001b[0m\u001b[1;33m\u001b[0m\u001b[1;33m\u001b[0m\u001b[0m\n\u001b[0m\u001b[0;32m    221\u001b[0m \u001b[1;33m\u001b[0m\u001b[0m\n\u001b[0;32m    222\u001b[0m         \u001b[0mfig_formats\u001b[0m \u001b[1;33m=\u001b[0m \u001b[0mself\u001b[0m\u001b[1;33m.\u001b[0m\u001b[0mmode_formats\u001b[0m\u001b[1;33m[\u001b[0m\u001b[1;34m'fig'\u001b[0m\u001b[1;33m]\u001b[0m\u001b[1;33m[\u001b[0m\u001b[0mself\u001b[0m\u001b[1;33m.\u001b[0m\u001b[0mmode\u001b[0m\u001b[1;33m]\u001b[0m\u001b[1;33m\u001b[0m\u001b[1;33m\u001b[0m\u001b[0m\n",
      "\u001b[1;32m~\\Anaconda3\\lib\\site-packages\\holoviews\\plotting\\bokeh\\renderer.py\u001b[0m in \u001b[0;36mget_plot\u001b[1;34m(self_or_cls, obj, doc, renderer, **kwargs)\u001b[0m\n\u001b[0;32m    133\u001b[0m             \u001b[0mcurdoc\u001b[0m\u001b[1;33m(\u001b[0m\u001b[1;33m)\u001b[0m\u001b[1;33m.\u001b[0m\u001b[0mtheme\u001b[0m \u001b[1;33m=\u001b[0m \u001b[0mself_or_cls\u001b[0m\u001b[1;33m.\u001b[0m\u001b[0mtheme\u001b[0m\u001b[1;33m\u001b[0m\u001b[1;33m\u001b[0m\u001b[0m\n\u001b[0;32m    134\u001b[0m         \u001b[0mdoc\u001b[0m\u001b[1;33m.\u001b[0m\u001b[0mtheme\u001b[0m \u001b[1;33m=\u001b[0m \u001b[0mself_or_cls\u001b[0m\u001b[1;33m.\u001b[0m\u001b[0mtheme\u001b[0m\u001b[1;33m\u001b[0m\u001b[1;33m\u001b[0m\u001b[0m\n\u001b[1;32m--> 135\u001b[1;33m         \u001b[0mplot\u001b[0m \u001b[1;33m=\u001b[0m \u001b[0msuper\u001b[0m\u001b[1;33m(\u001b[0m\u001b[0mBokehRenderer\u001b[0m\u001b[1;33m,\u001b[0m \u001b[0mself_or_cls\u001b[0m\u001b[1;33m)\u001b[0m\u001b[1;33m.\u001b[0m\u001b[0mget_plot\u001b[0m\u001b[1;33m(\u001b[0m\u001b[0mobj\u001b[0m\u001b[1;33m,\u001b[0m \u001b[0mrenderer\u001b[0m\u001b[1;33m,\u001b[0m \u001b[1;33m**\u001b[0m\u001b[0mkwargs\u001b[0m\u001b[1;33m)\u001b[0m\u001b[1;33m\u001b[0m\u001b[1;33m\u001b[0m\u001b[0m\n\u001b[0m\u001b[0;32m    136\u001b[0m         \u001b[0mplot\u001b[0m\u001b[1;33m.\u001b[0m\u001b[0mdocument\u001b[0m \u001b[1;33m=\u001b[0m \u001b[0mdoc\u001b[0m\u001b[1;33m\u001b[0m\u001b[1;33m\u001b[0m\u001b[0m\n\u001b[0;32m    137\u001b[0m         \u001b[1;32mreturn\u001b[0m \u001b[0mplot\u001b[0m\u001b[1;33m\u001b[0m\u001b[1;33m\u001b[0m\u001b[0m\n",
      "\u001b[1;32m~\\Anaconda3\\lib\\site-packages\\holoviews\\plotting\\renderer.py\u001b[0m in \u001b[0;36mget_plot\u001b[1;34m(self_or_cls, obj, renderer, **kwargs)\u001b[0m\n\u001b[0;32m    205\u001b[0m             init_key = tuple(v if d is None else d for v, d in\n\u001b[0;32m    206\u001b[0m                              zip(plot.keys[0], defaults))\n\u001b[1;32m--> 207\u001b[1;33m             \u001b[0mplot\u001b[0m\u001b[1;33m.\u001b[0m\u001b[0mupdate\u001b[0m\u001b[1;33m(\u001b[0m\u001b[0minit_key\u001b[0m\u001b[1;33m)\u001b[0m\u001b[1;33m\u001b[0m\u001b[1;33m\u001b[0m\u001b[0m\n\u001b[0m\u001b[0;32m    208\u001b[0m         \u001b[1;32melse\u001b[0m\u001b[1;33m:\u001b[0m\u001b[1;33m\u001b[0m\u001b[1;33m\u001b[0m\u001b[0m\n\u001b[0;32m    209\u001b[0m             \u001b[0mplot\u001b[0m \u001b[1;33m=\u001b[0m \u001b[0mobj\u001b[0m\u001b[1;33m\u001b[0m\u001b[1;33m\u001b[0m\u001b[0m\n",
      "\u001b[1;32m~\\Anaconda3\\lib\\site-packages\\holoviews\\plotting\\plot.py\u001b[0m in \u001b[0;36mupdate\u001b[1;34m(self, key)\u001b[0m\n\u001b[0;32m    610\u001b[0m     \u001b[1;32mdef\u001b[0m \u001b[0mupdate\u001b[0m\u001b[1;33m(\u001b[0m\u001b[0mself\u001b[0m\u001b[1;33m,\u001b[0m \u001b[0mkey\u001b[0m\u001b[1;33m)\u001b[0m\u001b[1;33m:\u001b[0m\u001b[1;33m\u001b[0m\u001b[1;33m\u001b[0m\u001b[0m\n\u001b[0;32m    611\u001b[0m         \u001b[1;32mif\u001b[0m \u001b[0mlen\u001b[0m\u001b[1;33m(\u001b[0m\u001b[0mself\u001b[0m\u001b[1;33m)\u001b[0m \u001b[1;33m==\u001b[0m \u001b[1;36m1\u001b[0m \u001b[1;32mand\u001b[0m \u001b[1;33m(\u001b[0m\u001b[1;33m(\u001b[0m\u001b[0mkey\u001b[0m \u001b[1;33m==\u001b[0m \u001b[1;36m0\u001b[0m\u001b[1;33m)\u001b[0m \u001b[1;32mor\u001b[0m \u001b[1;33m(\u001b[0m\u001b[0mkey\u001b[0m \u001b[1;33m==\u001b[0m \u001b[0mself\u001b[0m\u001b[1;33m.\u001b[0m\u001b[0mkeys\u001b[0m\u001b[1;33m[\u001b[0m\u001b[1;36m0\u001b[0m\u001b[1;33m]\u001b[0m\u001b[1;33m)\u001b[0m\u001b[1;33m)\u001b[0m \u001b[1;32mand\u001b[0m \u001b[1;32mnot\u001b[0m \u001b[0mself\u001b[0m\u001b[1;33m.\u001b[0m\u001b[0mdrawn\u001b[0m\u001b[1;33m:\u001b[0m\u001b[1;33m\u001b[0m\u001b[1;33m\u001b[0m\u001b[0m\n\u001b[1;32m--> 612\u001b[1;33m             \u001b[1;32mreturn\u001b[0m \u001b[0mself\u001b[0m\u001b[1;33m.\u001b[0m\u001b[0minitialize_plot\u001b[0m\u001b[1;33m(\u001b[0m\u001b[1;33m)\u001b[0m\u001b[1;33m\u001b[0m\u001b[1;33m\u001b[0m\u001b[0m\n\u001b[0m\u001b[0;32m    613\u001b[0m         \u001b[0mitem\u001b[0m \u001b[1;33m=\u001b[0m \u001b[0mself\u001b[0m\u001b[1;33m.\u001b[0m\u001b[0m__getitem__\u001b[0m\u001b[1;33m(\u001b[0m\u001b[0mkey\u001b[0m\u001b[1;33m)\u001b[0m\u001b[1;33m\u001b[0m\u001b[1;33m\u001b[0m\u001b[0m\n\u001b[0;32m    614\u001b[0m         \u001b[0mself\u001b[0m\u001b[1;33m.\u001b[0m\u001b[0mtraverse\u001b[0m\u001b[1;33m(\u001b[0m\u001b[1;32mlambda\u001b[0m \u001b[0mx\u001b[0m\u001b[1;33m:\u001b[0m \u001b[0msetattr\u001b[0m\u001b[1;33m(\u001b[0m\u001b[0mx\u001b[0m\u001b[1;33m,\u001b[0m \u001b[1;34m'_updated'\u001b[0m\u001b[1;33m,\u001b[0m \u001b[1;32mTrue\u001b[0m\u001b[1;33m)\u001b[0m\u001b[1;33m)\u001b[0m\u001b[1;33m\u001b[0m\u001b[1;33m\u001b[0m\u001b[0m\n",
      "\u001b[1;32m~\\Anaconda3\\lib\\site-packages\\holoviews\\plotting\\bokeh\\element.py\u001b[0m in \u001b[0;36minitialize_plot\u001b[1;34m(self, ranges, plot, plots, source)\u001b[0m\n\u001b[0;32m   1249\u001b[0m             \u001b[0melement\u001b[0m \u001b[1;33m=\u001b[0m \u001b[0mself\u001b[0m\u001b[1;33m.\u001b[0m\u001b[0mhmap\u001b[0m\u001b[1;33m.\u001b[0m\u001b[0mlast\u001b[0m\u001b[1;33m\u001b[0m\u001b[1;33m\u001b[0m\u001b[0m\n\u001b[0;32m   1250\u001b[0m         \u001b[0mkey\u001b[0m \u001b[1;33m=\u001b[0m \u001b[0mutil\u001b[0m\u001b[1;33m.\u001b[0m\u001b[0mwrap_tuple\u001b[0m\u001b[1;33m(\u001b[0m\u001b[0mself\u001b[0m\u001b[1;33m.\u001b[0m\u001b[0mhmap\u001b[0m\u001b[1;33m.\u001b[0m\u001b[0mlast_key\u001b[0m\u001b[1;33m)\u001b[0m\u001b[1;33m\u001b[0m\u001b[1;33m\u001b[0m\u001b[0m\n\u001b[1;32m-> 1251\u001b[1;33m         \u001b[0mranges\u001b[0m \u001b[1;33m=\u001b[0m \u001b[0mself\u001b[0m\u001b[1;33m.\u001b[0m\u001b[0mcompute_ranges\u001b[0m\u001b[1;33m(\u001b[0m\u001b[0mself\u001b[0m\u001b[1;33m.\u001b[0m\u001b[0mhmap\u001b[0m\u001b[1;33m,\u001b[0m \u001b[0mkey\u001b[0m\u001b[1;33m,\u001b[0m \u001b[0mranges\u001b[0m\u001b[1;33m)\u001b[0m\u001b[1;33m\u001b[0m\u001b[1;33m\u001b[0m\u001b[0m\n\u001b[0m\u001b[0;32m   1252\u001b[0m         \u001b[0mself\u001b[0m\u001b[1;33m.\u001b[0m\u001b[0mcurrent_ranges\u001b[0m \u001b[1;33m=\u001b[0m \u001b[0mranges\u001b[0m\u001b[1;33m\u001b[0m\u001b[1;33m\u001b[0m\u001b[0m\n\u001b[0;32m   1253\u001b[0m         \u001b[0mself\u001b[0m\u001b[1;33m.\u001b[0m\u001b[0mcurrent_frame\u001b[0m \u001b[1;33m=\u001b[0m \u001b[0melement\u001b[0m\u001b[1;33m\u001b[0m\u001b[1;33m\u001b[0m\u001b[0m\n",
      "\u001b[1;32m~\\Anaconda3\\lib\\site-packages\\holoviews\\plotting\\plot.py\u001b[0m in \u001b[0;36mcompute_ranges\u001b[1;34m(self, obj, key, ranges)\u001b[0m\n\u001b[0;32m    390\u001b[0m             if (not (axiswise and not isinstance(obj, HoloMap)) or\n\u001b[0;32m    391\u001b[0m                 (not framewise and isinstance(obj, HoloMap))):\n\u001b[1;32m--> 392\u001b[1;33m                 \u001b[0mself\u001b[0m\u001b[1;33m.\u001b[0m\u001b[0m_compute_group_range\u001b[0m\u001b[1;33m(\u001b[0m\u001b[0mgroup\u001b[0m\u001b[1;33m,\u001b[0m \u001b[0melements\u001b[0m\u001b[1;33m,\u001b[0m \u001b[0mranges\u001b[0m\u001b[1;33m)\u001b[0m\u001b[1;33m\u001b[0m\u001b[1;33m\u001b[0m\u001b[0m\n\u001b[0m\u001b[0;32m    393\u001b[0m         \u001b[0mself\u001b[0m\u001b[1;33m.\u001b[0m\u001b[0mranges\u001b[0m\u001b[1;33m.\u001b[0m\u001b[0mupdate\u001b[0m\u001b[1;33m(\u001b[0m\u001b[0mranges\u001b[0m\u001b[1;33m)\u001b[0m\u001b[1;33m\u001b[0m\u001b[1;33m\u001b[0m\u001b[0m\n\u001b[0;32m    394\u001b[0m         \u001b[1;32mreturn\u001b[0m \u001b[0mranges\u001b[0m\u001b[1;33m\u001b[0m\u001b[1;33m\u001b[0m\u001b[0m\n",
      "\u001b[1;32m~\\Anaconda3\\lib\\site-packages\\holoviews\\plotting\\plot.py\u001b[0m in \u001b[0;36m_compute_group_range\u001b[1;34m(cls, group, elements, ranges)\u001b[0m\n\u001b[0;32m    501\u001b[0m                     \u001b[0mdata_range\u001b[0m \u001b[1;33m=\u001b[0m \u001b[0mel\u001b[0m\u001b[1;33m.\u001b[0m\u001b[0mnodes\u001b[0m\u001b[1;33m.\u001b[0m\u001b[0mrange\u001b[0m\u001b[1;33m(\u001b[0m\u001b[1;36m2\u001b[0m\u001b[1;33m,\u001b[0m \u001b[0mdimension_range\u001b[0m\u001b[1;33m=\u001b[0m\u001b[1;32mFalse\u001b[0m\u001b[1;33m)\u001b[0m\u001b[1;33m\u001b[0m\u001b[1;33m\u001b[0m\u001b[0m\n\u001b[0;32m    502\u001b[0m                 \u001b[1;32melse\u001b[0m\u001b[1;33m:\u001b[0m\u001b[1;33m\u001b[0m\u001b[1;33m\u001b[0m\u001b[0m\n\u001b[1;32m--> 503\u001b[1;33m                     \u001b[0mdata_range\u001b[0m \u001b[1;33m=\u001b[0m \u001b[0mel\u001b[0m\u001b[1;33m.\u001b[0m\u001b[0mrange\u001b[0m\u001b[1;33m(\u001b[0m\u001b[0mel_dim\u001b[0m\u001b[1;33m,\u001b[0m \u001b[0mdimension_range\u001b[0m\u001b[1;33m=\u001b[0m\u001b[1;32mFalse\u001b[0m\u001b[1;33m)\u001b[0m\u001b[1;33m\u001b[0m\u001b[1;33m\u001b[0m\u001b[0m\n\u001b[0m\u001b[0;32m    504\u001b[0m \u001b[1;33m\u001b[0m\u001b[0m\n\u001b[0;32m    505\u001b[0m                 \u001b[1;32mif\u001b[0m \u001b[0mel_dim\u001b[0m\u001b[1;33m.\u001b[0m\u001b[0mname\u001b[0m \u001b[1;32mnot\u001b[0m \u001b[1;32min\u001b[0m \u001b[0mgroup_ranges\u001b[0m\u001b[1;33m:\u001b[0m\u001b[1;33m\u001b[0m\u001b[1;33m\u001b[0m\u001b[0m\n",
      "\u001b[1;32m~\\Anaconda3\\lib\\site-packages\\holoviews\\core\\data\\__init__.py\u001b[0m in \u001b[0;36mrange\u001b[1;34m(self, dim, data_range, dimension_range)\u001b[0m\n\u001b[0;32m    287\u001b[0m             \u001b[1;32mreturn\u001b[0m \u001b[0mdim\u001b[0m\u001b[1;33m.\u001b[0m\u001b[0mrange\u001b[0m\u001b[1;33m\u001b[0m\u001b[1;33m\u001b[0m\u001b[0m\n\u001b[0;32m    288\u001b[0m         \u001b[1;32melif\u001b[0m \u001b[0mdim\u001b[0m \u001b[1;32min\u001b[0m \u001b[0mself\u001b[0m\u001b[1;33m.\u001b[0m\u001b[0mdimensions\u001b[0m\u001b[1;33m(\u001b[0m\u001b[1;33m)\u001b[0m \u001b[1;32mand\u001b[0m \u001b[0mdata_range\u001b[0m \u001b[1;32mand\u001b[0m \u001b[0mbool\u001b[0m\u001b[1;33m(\u001b[0m\u001b[0mself\u001b[0m\u001b[1;33m)\u001b[0m\u001b[1;33m:\u001b[0m\u001b[1;33m\u001b[0m\u001b[1;33m\u001b[0m\u001b[0m\n\u001b[1;32m--> 289\u001b[1;33m             \u001b[0mlower\u001b[0m\u001b[1;33m,\u001b[0m \u001b[0mupper\u001b[0m \u001b[1;33m=\u001b[0m \u001b[0mself\u001b[0m\u001b[1;33m.\u001b[0m\u001b[0minterface\u001b[0m\u001b[1;33m.\u001b[0m\u001b[0mrange\u001b[0m\u001b[1;33m(\u001b[0m\u001b[0mself\u001b[0m\u001b[1;33m,\u001b[0m \u001b[0mdim\u001b[0m\u001b[1;33m)\u001b[0m\u001b[1;33m\u001b[0m\u001b[1;33m\u001b[0m\u001b[0m\n\u001b[0m\u001b[0;32m    290\u001b[0m         \u001b[1;32melse\u001b[0m\u001b[1;33m:\u001b[0m\u001b[1;33m\u001b[0m\u001b[1;33m\u001b[0m\u001b[0m\n\u001b[0;32m    291\u001b[0m             \u001b[0mlower\u001b[0m\u001b[1;33m,\u001b[0m \u001b[0mupper\u001b[0m \u001b[1;33m=\u001b[0m \u001b[1;33m(\u001b[0m\u001b[0mnp\u001b[0m\u001b[1;33m.\u001b[0m\u001b[0mNaN\u001b[0m\u001b[1;33m,\u001b[0m \u001b[0mnp\u001b[0m\u001b[1;33m.\u001b[0m\u001b[0mNaN\u001b[0m\u001b[1;33m)\u001b[0m\u001b[1;33m\u001b[0m\u001b[1;33m\u001b[0m\u001b[0m\n",
      "\u001b[1;32m~\\Anaconda3\\lib\\site-packages\\holoviews\\core\\data\\pandas.py\u001b[0m in \u001b[0;36mrange\u001b[1;34m(cls, dataset, dimension)\u001b[0m\n\u001b[0;32m    158\u001b[0m                 \u001b[0mcolumn\u001b[0m \u001b[1;33m=\u001b[0m \u001b[0mcolumn\u001b[0m\u001b[1;33m.\u001b[0m\u001b[0msort\u001b[0m\u001b[1;33m(\u001b[0m\u001b[0minplace\u001b[0m\u001b[1;33m=\u001b[0m\u001b[1;32mFalse\u001b[0m\u001b[1;33m)\u001b[0m\u001b[1;33m\u001b[0m\u001b[1;33m\u001b[0m\u001b[0m\n\u001b[0;32m    159\u001b[0m             \u001b[1;32melse\u001b[0m\u001b[1;33m:\u001b[0m\u001b[1;33m\u001b[0m\u001b[1;33m\u001b[0m\u001b[0m\n\u001b[1;32m--> 160\u001b[1;33m                 \u001b[0mcolumn\u001b[0m \u001b[1;33m=\u001b[0m \u001b[0mcolumn\u001b[0m\u001b[1;33m.\u001b[0m\u001b[0msort_values\u001b[0m\u001b[1;33m(\u001b[0m\u001b[1;33m)\u001b[0m\u001b[1;33m\u001b[0m\u001b[1;33m\u001b[0m\u001b[0m\n\u001b[0m\u001b[0;32m    161\u001b[0m             \u001b[0mcolumn\u001b[0m \u001b[1;33m=\u001b[0m \u001b[0mcolumn\u001b[0m\u001b[1;33m[\u001b[0m\u001b[1;33m~\u001b[0m\u001b[0mcolumn\u001b[0m\u001b[1;33m.\u001b[0m\u001b[0misin\u001b[0m\u001b[1;33m(\u001b[0m\u001b[1;33m[\u001b[0m\u001b[1;32mNone\u001b[0m\u001b[1;33m]\u001b[0m\u001b[1;33m)\u001b[0m\u001b[1;33m]\u001b[0m\u001b[1;33m\u001b[0m\u001b[1;33m\u001b[0m\u001b[0m\n\u001b[0;32m    162\u001b[0m             \u001b[1;32mif\u001b[0m \u001b[1;32mnot\u001b[0m \u001b[0mlen\u001b[0m\u001b[1;33m(\u001b[0m\u001b[0mcolumn\u001b[0m\u001b[1;33m)\u001b[0m\u001b[1;33m:\u001b[0m\u001b[1;33m\u001b[0m\u001b[1;33m\u001b[0m\u001b[0m\n",
      "\u001b[1;32m~\\Anaconda3\\lib\\site-packages\\pandas\\core\\series.py\u001b[0m in \u001b[0;36msort_values\u001b[1;34m(self, axis, ascending, inplace, kind, na_position)\u001b[0m\n\u001b[0;32m   2799\u001b[0m         \u001b[0midx\u001b[0m \u001b[1;33m=\u001b[0m \u001b[0mibase\u001b[0m\u001b[1;33m.\u001b[0m\u001b[0mdefault_index\u001b[0m\u001b[1;33m(\u001b[0m\u001b[0mlen\u001b[0m\u001b[1;33m(\u001b[0m\u001b[0mself\u001b[0m\u001b[1;33m)\u001b[0m\u001b[1;33m)\u001b[0m\u001b[1;33m\u001b[0m\u001b[1;33m\u001b[0m\u001b[0m\n\u001b[0;32m   2800\u001b[0m \u001b[1;33m\u001b[0m\u001b[0m\n\u001b[1;32m-> 2801\u001b[1;33m         \u001b[0margsorted\u001b[0m \u001b[1;33m=\u001b[0m \u001b[0m_try_kind_sort\u001b[0m\u001b[1;33m(\u001b[0m\u001b[0marr\u001b[0m\u001b[1;33m[\u001b[0m\u001b[0mgood\u001b[0m\u001b[1;33m]\u001b[0m\u001b[1;33m)\u001b[0m\u001b[1;33m\u001b[0m\u001b[1;33m\u001b[0m\u001b[0m\n\u001b[0m\u001b[0;32m   2802\u001b[0m \u001b[1;33m\u001b[0m\u001b[0m\n\u001b[0;32m   2803\u001b[0m         \u001b[1;32mif\u001b[0m \u001b[0mis_list_like\u001b[0m\u001b[1;33m(\u001b[0m\u001b[0mascending\u001b[0m\u001b[1;33m)\u001b[0m\u001b[1;33m:\u001b[0m\u001b[1;33m\u001b[0m\u001b[1;33m\u001b[0m\u001b[0m\n",
      "\u001b[1;32m~\\Anaconda3\\lib\\site-packages\\pandas\\core\\series.py\u001b[0m in \u001b[0;36m_try_kind_sort\u001b[1;34m(arr)\u001b[0m\n\u001b[0;32m   2789\u001b[0m                 \u001b[1;31m# stable sort not available for object dtype\u001b[0m\u001b[1;33m\u001b[0m\u001b[1;33m\u001b[0m\u001b[1;33m\u001b[0m\u001b[0m\n\u001b[0;32m   2790\u001b[0m                 \u001b[1;31m# uses the argsort default quicksort\u001b[0m\u001b[1;33m\u001b[0m\u001b[1;33m\u001b[0m\u001b[1;33m\u001b[0m\u001b[0m\n\u001b[1;32m-> 2791\u001b[1;33m                 \u001b[1;32mreturn\u001b[0m \u001b[0marr\u001b[0m\u001b[1;33m.\u001b[0m\u001b[0margsort\u001b[0m\u001b[1;33m(\u001b[0m\u001b[0mkind\u001b[0m\u001b[1;33m=\u001b[0m\u001b[1;34m'quicksort'\u001b[0m\u001b[1;33m)\u001b[0m\u001b[1;33m\u001b[0m\u001b[1;33m\u001b[0m\u001b[0m\n\u001b[0m\u001b[0;32m   2792\u001b[0m \u001b[1;33m\u001b[0m\u001b[0m\n\u001b[0;32m   2793\u001b[0m         \u001b[0marr\u001b[0m \u001b[1;33m=\u001b[0m \u001b[0mself\u001b[0m\u001b[1;33m.\u001b[0m\u001b[0m_values\u001b[0m\u001b[1;33m\u001b[0m\u001b[1;33m\u001b[0m\u001b[0m\n",
      "\u001b[1;31mTypeError\u001b[0m: '<' not supported between instances of 'str' and 'int'"
     ]
    },
    {
     "data": {
      "text/plain": [
       ":Bars   [index,Variable]   (value)"
      ]
     },
     "execution_count": 169,
     "metadata": {},
     "output_type": "execute_result"
    }
   ],
   "source": [
    "# Plot data\n",
    "\n",
    "poor2016.hvplot.bar()"
   ]
  },
  {
   "cell_type": "code",
   "execution_count": 168,
   "metadata": {},
   "outputs": [
    {
     "data": {
      "application/vnd.plotly.v1+json": {
       "config": {
        "plotlyServerURL": "https://plot.ly"
       },
       "data": [
        {
         "hoverlabel": {
          "namelength": 0
         },
         "hovertemplate": "Zip code=11220<br>2011=%{marker.size}<br>Latitude=%{lat}<br>Longitude=%{lon}",
         "lat": [
          40.641436
         ],
         "legendgroup": "Zip code=11220",
         "lon": [
          -74.01574000000001
         ],
         "marker": {
          "color": "#636efa",
          "size": [
           33944
          ],
          "sizemode": "area",
          "sizeref": 84.86
         },
         "mode": "markers",
         "name": "Zip code=11220",
         "showlegend": true,
         "subplot": "mapbox",
         "type": "scattermapbox"
        },
        {
         "hoverlabel": {
          "namelength": 0
         },
         "hovertemplate": "Zip code=11355<br>2011=%{marker.size}<br>Latitude=%{lat}<br>Longitude=%{lon}",
         "lat": [
          40.749463
         ],
         "legendgroup": "Zip code=11355",
         "lon": [
          -73.81940999999999
         ],
         "marker": {
          "color": "#EF553B",
          "size": [
           29871
          ],
          "sizemode": "area",
          "sizeref": 84.86
         },
         "mode": "markers",
         "name": "Zip code=11355",
         "showlegend": true,
         "subplot": "mapbox",
         "type": "scattermapbox"
        },
        {
         "hoverlabel": {
          "namelength": 0
         },
         "hovertemplate": "Zip code=11368<br>2011=%{marker.size}<br>Latitude=%{lat}<br>Longitude=%{lon}",
         "lat": [
          40.747106
         ],
         "legendgroup": "Zip code=11368",
         "lon": [
          -73.85838000000001
         ],
         "marker": {
          "color": "#00cc96",
          "size": [
           26666
          ],
          "sizemode": "area",
          "sizeref": 84.86
         },
         "mode": "markers",
         "name": "Zip code=11368",
         "showlegend": true,
         "subplot": "mapbox",
         "type": "scattermapbox"
        },
        {
         "hoverlabel": {
          "namelength": 0
         },
         "hovertemplate": "Zip code=11373<br>2011=%{marker.size}<br>Latitude=%{lat}<br>Longitude=%{lon}",
         "lat": [
          40.736076000000004
         ],
         "legendgroup": "Zip code=11373",
         "lon": [
          -73.87804
         ],
         "marker": {
          "color": "#ab63fa",
          "size": [
           27998
          ],
          "sizemode": "area",
          "sizeref": 84.86
         },
         "mode": "markers",
         "name": "Zip code=11373",
         "showlegend": true,
         "subplot": "mapbox",
         "type": "scattermapbox"
        },
        {
         "hoverlabel": {
          "namelength": 0
         },
         "hovertemplate": "Zip code=10456<br>2011=%{marker.size}<br>Latitude=%{lat}<br>Longitude=%{lon}",
         "lat": [
          40.829676
         ],
         "legendgroup": "Zip code=10456",
         "lon": [
          -73.90856
         ],
         "marker": {
          "color": "#FFA15A",
          "size": [
           24281
          ],
          "sizemode": "area",
          "sizeref": 84.86
         },
         "mode": "markers",
         "name": "Zip code=10456",
         "showlegend": true,
         "subplot": "mapbox",
         "type": "scattermapbox"
        },
        {
         "hoverlabel": {
          "namelength": 0
         },
         "hovertemplate": "Zip code=11208<br>2011=%{marker.size}<br>Latitude=%{lat}<br>Longitude=%{lon}",
         "lat": [
          40.672666
         ],
         "legendgroup": "Zip code=11208",
         "lon": [
          -73.87248000000001
         ],
         "marker": {
          "color": "#19d3f3",
          "size": [
           24033
          ],
          "sizemode": "area",
          "sizeref": 84.86
         },
         "mode": "markers",
         "name": "Zip code=11208",
         "showlegend": true,
         "subplot": "mapbox",
         "type": "scattermapbox"
        },
        {
         "hoverlabel": {
          "namelength": 0
         },
         "hovertemplate": "Zip code=11226<br>2011=%{marker.size}<br>Latitude=%{lat}<br>Longitude=%{lon}",
         "lat": [
          40.645255999999996
         ],
         "legendgroup": "Zip code=11226",
         "lon": [
          -73.95553000000001
         ],
         "marker": {
          "color": "#FF6692",
          "size": [
           25713
          ],
          "sizemode": "area",
          "sizeref": 84.86
         },
         "mode": "markers",
         "name": "Zip code=11226",
         "showlegend": true,
         "subplot": "mapbox",
         "type": "scattermapbox"
        },
        {
         "hoverlabel": {
          "namelength": 0
         },
         "hovertemplate": "Zip code=10453<br>2011=%{marker.size}<br>Latitude=%{lat}<br>Longitude=%{lon}",
         "lat": [
          40.853017
         ],
         "legendgroup": "Zip code=10453",
         "lon": [
          -73.91214000000001
         ],
         "marker": {
          "color": "#B6E880",
          "size": [
           23901
          ],
          "sizemode": "area",
          "sizeref": 84.86
         },
         "mode": "markers",
         "name": "Zip code=10453",
         "showlegend": true,
         "subplot": "mapbox",
         "type": "scattermapbox"
        },
        {
         "hoverlabel": {
          "namelength": 0
         },
         "hovertemplate": "Zip code=11207<br>2011=%{marker.size}<br>Latitude=%{lat}<br>Longitude=%{lon}",
         "lat": [
          40.670874
         ],
         "legendgroup": "Zip code=11207",
         "lon": [
          -73.89424
         ],
         "marker": {
          "color": "#FF97FF",
          "size": [
           22791
          ],
          "sizemode": "area",
          "sizeref": 84.86
         },
         "mode": "markers",
         "name": "Zip code=11207",
         "showlegend": true,
         "subplot": "mapbox",
         "type": "scattermapbox"
        },
        {
         "hoverlabel": {
          "namelength": 0
         },
         "hovertemplate": "Zip code=10467<br>2011=%{marker.size}<br>Latitude=%{lat}<br>Longitude=%{lon}",
         "lat": [
          40.872265000000006
         ],
         "legendgroup": "Zip code=10467",
         "lon": [
          -73.86936999999999
         ],
         "marker": {
          "color": "#FECB52",
          "size": [
           21584
          ],
          "sizemode": "area",
          "sizeref": 84.86
         },
         "mode": "markers",
         "name": "Zip code=10467",
         "showlegend": true,
         "subplot": "mapbox",
         "type": "scattermapbox"
        },
        {
         "hoverlabel": {
          "namelength": 0
         },
         "hovertemplate": "Zip code=10452<br>2011=%{marker.size}<br>Latitude=%{lat}<br>Longitude=%{lon}",
         "lat": [
          40.838745
         ],
         "legendgroup": "Zip code=10452",
         "lon": [
          -73.92234
         ],
         "marker": {
          "color": "#636efa",
          "size": [
           21912
          ],
          "sizemode": "area",
          "sizeref": 84.86
         },
         "mode": "markers",
         "name": "Zip code=10452",
         "showlegend": true,
         "subplot": "mapbox",
         "type": "scattermapbox"
        },
        {
         "hoverlabel": {
          "namelength": 0
         },
         "hovertemplate": "Zip code=10002<br>2011=%{marker.size}<br>Latitude=%{lat}<br>Longitude=%{lon}",
         "lat": [
          40.717040000000004
         ],
         "legendgroup": "Zip code=10002",
         "lon": [
          -73.987
         ],
         "marker": {
          "color": "#EF553B",
          "size": [
           25950
          ],
          "sizemode": "area",
          "sizeref": 84.86
         },
         "mode": "markers",
         "name": "Zip code=10002",
         "showlegend": true,
         "subplot": "mapbox",
         "type": "scattermapbox"
        },
        {
         "hoverlabel": {
          "namelength": 0
         },
         "hovertemplate": "Zip code=11377<br>2011=%{marker.size}<br>Latitude=%{lat}<br>Longitude=%{lon}",
         "lat": [
          40.742869
         ],
         "legendgroup": "Zip code=11377",
         "lon": [
          -73.90377
         ],
         "marker": {
          "color": "#00cc96",
          "size": [
           22667
          ],
          "sizemode": "area",
          "sizeref": 84.86
         },
         "mode": "markers",
         "name": "Zip code=11377",
         "showlegend": true,
         "subplot": "mapbox",
         "type": "scattermapbox"
        },
        {
         "hoverlabel": {
          "namelength": 0
         },
         "hovertemplate": "Zip code=11212<br>2011=%{marker.size}<br>Latitude=%{lat}<br>Longitude=%{lon}",
         "lat": [
          40.662191
         ],
         "legendgroup": "Zip code=11212",
         "lon": [
          -73.91328
         ],
         "marker": {
          "color": "#ab63fa",
          "size": [
           20786
          ],
          "sizemode": "area",
          "sizeref": 84.86
         },
         "mode": "markers",
         "name": "Zip code=11212",
         "showlegend": true,
         "subplot": "mapbox",
         "type": "scattermapbox"
        },
        {
         "hoverlabel": {
          "namelength": 0
         },
         "hovertemplate": "Zip code=11219<br>2011=%{marker.size}<br>Latitude=%{lat}<br>Longitude=%{lon}",
         "lat": [
          40.632449
         ],
         "legendgroup": "Zip code=11219",
         "lon": [
          -73.99629
         ],
         "marker": {
          "color": "#FFA15A",
          "size": [
           20314
          ],
          "sizemode": "area",
          "sizeref": 84.86
         },
         "mode": "markers",
         "name": "Zip code=11219",
         "showlegend": true,
         "subplot": "mapbox",
         "type": "scattermapbox"
        },
        {
         "hoverlabel": {
          "namelength": 0
         },
         "hovertemplate": "Zip code=10468<br>2011=%{marker.size}<br>Latitude=%{lat}<br>Longitude=%{lon}",
         "lat": [
          40.867107
         ],
         "legendgroup": "Zip code=10468",
         "lon": [
          -73.89916
         ],
         "marker": {
          "color": "#19d3f3",
          "size": [
           20215
          ],
          "sizemode": "area",
          "sizeref": 84.86
         },
         "mode": "markers",
         "name": "Zip code=10468",
         "showlegend": true,
         "subplot": "mapbox",
         "type": "scattermapbox"
        },
        {
         "hoverlabel": {
          "namelength": 0
         },
         "hovertemplate": "Zip code=10457<br>2011=%{marker.size}<br>Latitude=%{lat}<br>Longitude=%{lon}",
         "lat": [
          40.846745
         ],
         "legendgroup": "Zip code=10457",
         "lon": [
          -73.89860999999999
         ],
         "marker": {
          "color": "#FF6692",
          "size": [
           19832
          ],
          "sizemode": "area",
          "sizeref": 84.86
         },
         "mode": "markers",
         "name": "Zip code=10457",
         "showlegend": true,
         "subplot": "mapbox",
         "type": "scattermapbox"
        },
        {
         "hoverlabel": {
          "namelength": 0
         },
         "hovertemplate": "Zip code=10458<br>2011=%{marker.size}<br>Latitude=%{lat}<br>Longitude=%{lon}",
         "lat": [
          40.864166
         ],
         "legendgroup": "Zip code=10458",
         "lon": [
          -73.88880999999999
         ],
         "marker": {
          "color": "#B6E880",
          "size": [
           19479
          ],
          "sizemode": "area",
          "sizeref": 84.86
         },
         "mode": "markers",
         "name": "Zip code=10458",
         "showlegend": true,
         "subplot": "mapbox",
         "type": "scattermapbox"
        },
        {
         "hoverlabel": {
          "namelength": 0
         },
         "hovertemplate": "Zip code=11214<br>2011=%{marker.size}<br>Latitude=%{lat}<br>Longitude=%{lon}",
         "lat": [
          40.598994
         ],
         "legendgroup": "Zip code=11214",
         "lon": [
          -73.99611
         ],
         "marker": {
          "color": "#FF97FF",
          "size": [
           18542
          ],
          "sizemode": "area",
          "sizeref": 84.86
         },
         "mode": "markers",
         "name": "Zip code=11214",
         "showlegend": true,
         "subplot": "mapbox",
         "type": "scattermapbox"
        },
        {
         "hoverlabel": {
          "namelength": 0
         },
         "hovertemplate": "Zip code=11385<br>2011=%{marker.size}<br>Latitude=%{lat}<br>Longitude=%{lon}",
         "lat": [
          40.703069
         ],
         "legendgroup": "Zip code=11385",
         "lon": [
          -73.89285
         ],
         "marker": {
          "color": "#FECB52",
          "size": [
           21214
          ],
          "sizemode": "area",
          "sizeref": 84.86
         },
         "mode": "markers",
         "name": "Zip code=11385",
         "showlegend": true,
         "subplot": "mapbox",
         "type": "scattermapbox"
        }
       ],
       "layout": {
        "autosize": true,
        "legend": {
         "itemsizing": "constant",
         "tracegroupgap": 0
        },
        "mapbox": {
         "accesstoken": "pk.eyJ1IjoicmF5amUiLCJhIjoiY2sxMmwxaDV2MDd2azNkcXpoNnhrbGQ5NyJ9.RtVITUmDDTZFOR28AVe-ZA",
         "bearing": 0,
         "center": {
          "lat": 40.716580646701914,
          "lon": -73.86025167091293
         },
         "domain": {
          "x": [
           0,
           0.98
          ],
          "y": [
           0,
           1
          ]
         },
         "pitch": 0,
         "zoom": 10.1798531942394
        },
        "margin": {
         "t": 60
        },
        "template": {
         "data": {
          "bar": [
           {
            "error_x": {
             "color": "#2a3f5f"
            },
            "error_y": {
             "color": "#2a3f5f"
            },
            "marker": {
             "line": {
              "color": "#E5ECF6",
              "width": 0.5
             }
            },
            "type": "bar"
           }
          ],
          "barpolar": [
           {
            "marker": {
             "line": {
              "color": "#E5ECF6",
              "width": 0.5
             }
            },
            "type": "barpolar"
           }
          ],
          "carpet": [
           {
            "aaxis": {
             "endlinecolor": "#2a3f5f",
             "gridcolor": "white",
             "linecolor": "white",
             "minorgridcolor": "white",
             "startlinecolor": "#2a3f5f"
            },
            "baxis": {
             "endlinecolor": "#2a3f5f",
             "gridcolor": "white",
             "linecolor": "white",
             "minorgridcolor": "white",
             "startlinecolor": "#2a3f5f"
            },
            "type": "carpet"
           }
          ],
          "choropleth": [
           {
            "colorbar": {
             "outlinewidth": 0,
             "ticks": ""
            },
            "type": "choropleth"
           }
          ],
          "contour": [
           {
            "colorbar": {
             "outlinewidth": 0,
             "ticks": ""
            },
            "colorscale": [
             [
              0,
              "#0d0887"
             ],
             [
              0.1111111111111111,
              "#46039f"
             ],
             [
              0.2222222222222222,
              "#7201a8"
             ],
             [
              0.3333333333333333,
              "#9c179e"
             ],
             [
              0.4444444444444444,
              "#bd3786"
             ],
             [
              0.5555555555555556,
              "#d8576b"
             ],
             [
              0.6666666666666666,
              "#ed7953"
             ],
             [
              0.7777777777777778,
              "#fb9f3a"
             ],
             [
              0.8888888888888888,
              "#fdca26"
             ],
             [
              1,
              "#f0f921"
             ]
            ],
            "type": "contour"
           }
          ],
          "contourcarpet": [
           {
            "colorbar": {
             "outlinewidth": 0,
             "ticks": ""
            },
            "type": "contourcarpet"
           }
          ],
          "heatmap": [
           {
            "colorbar": {
             "outlinewidth": 0,
             "ticks": ""
            },
            "colorscale": [
             [
              0,
              "#0d0887"
             ],
             [
              0.1111111111111111,
              "#46039f"
             ],
             [
              0.2222222222222222,
              "#7201a8"
             ],
             [
              0.3333333333333333,
              "#9c179e"
             ],
             [
              0.4444444444444444,
              "#bd3786"
             ],
             [
              0.5555555555555556,
              "#d8576b"
             ],
             [
              0.6666666666666666,
              "#ed7953"
             ],
             [
              0.7777777777777778,
              "#fb9f3a"
             ],
             [
              0.8888888888888888,
              "#fdca26"
             ],
             [
              1,
              "#f0f921"
             ]
            ],
            "type": "heatmap"
           }
          ],
          "heatmapgl": [
           {
            "colorbar": {
             "outlinewidth": 0,
             "ticks": ""
            },
            "colorscale": [
             [
              0,
              "#0d0887"
             ],
             [
              0.1111111111111111,
              "#46039f"
             ],
             [
              0.2222222222222222,
              "#7201a8"
             ],
             [
              0.3333333333333333,
              "#9c179e"
             ],
             [
              0.4444444444444444,
              "#bd3786"
             ],
             [
              0.5555555555555556,
              "#d8576b"
             ],
             [
              0.6666666666666666,
              "#ed7953"
             ],
             [
              0.7777777777777778,
              "#fb9f3a"
             ],
             [
              0.8888888888888888,
              "#fdca26"
             ],
             [
              1,
              "#f0f921"
             ]
            ],
            "type": "heatmapgl"
           }
          ],
          "histogram": [
           {
            "marker": {
             "colorbar": {
              "outlinewidth": 0,
              "ticks": ""
             }
            },
            "type": "histogram"
           }
          ],
          "histogram2d": [
           {
            "colorbar": {
             "outlinewidth": 0,
             "ticks": ""
            },
            "colorscale": [
             [
              0,
              "#0d0887"
             ],
             [
              0.1111111111111111,
              "#46039f"
             ],
             [
              0.2222222222222222,
              "#7201a8"
             ],
             [
              0.3333333333333333,
              "#9c179e"
             ],
             [
              0.4444444444444444,
              "#bd3786"
             ],
             [
              0.5555555555555556,
              "#d8576b"
             ],
             [
              0.6666666666666666,
              "#ed7953"
             ],
             [
              0.7777777777777778,
              "#fb9f3a"
             ],
             [
              0.8888888888888888,
              "#fdca26"
             ],
             [
              1,
              "#f0f921"
             ]
            ],
            "type": "histogram2d"
           }
          ],
          "histogram2dcontour": [
           {
            "colorbar": {
             "outlinewidth": 0,
             "ticks": ""
            },
            "colorscale": [
             [
              0,
              "#0d0887"
             ],
             [
              0.1111111111111111,
              "#46039f"
             ],
             [
              0.2222222222222222,
              "#7201a8"
             ],
             [
              0.3333333333333333,
              "#9c179e"
             ],
             [
              0.4444444444444444,
              "#bd3786"
             ],
             [
              0.5555555555555556,
              "#d8576b"
             ],
             [
              0.6666666666666666,
              "#ed7953"
             ],
             [
              0.7777777777777778,
              "#fb9f3a"
             ],
             [
              0.8888888888888888,
              "#fdca26"
             ],
             [
              1,
              "#f0f921"
             ]
            ],
            "type": "histogram2dcontour"
           }
          ],
          "mesh3d": [
           {
            "colorbar": {
             "outlinewidth": 0,
             "ticks": ""
            },
            "type": "mesh3d"
           }
          ],
          "parcoords": [
           {
            "line": {
             "colorbar": {
              "outlinewidth": 0,
              "ticks": ""
             }
            },
            "type": "parcoords"
           }
          ],
          "scatter": [
           {
            "marker": {
             "colorbar": {
              "outlinewidth": 0,
              "ticks": ""
             }
            },
            "type": "scatter"
           }
          ],
          "scatter3d": [
           {
            "line": {
             "colorbar": {
              "outlinewidth": 0,
              "ticks": ""
             }
            },
            "marker": {
             "colorbar": {
              "outlinewidth": 0,
              "ticks": ""
             }
            },
            "type": "scatter3d"
           }
          ],
          "scattercarpet": [
           {
            "marker": {
             "colorbar": {
              "outlinewidth": 0,
              "ticks": ""
             }
            },
            "type": "scattercarpet"
           }
          ],
          "scattergeo": [
           {
            "marker": {
             "colorbar": {
              "outlinewidth": 0,
              "ticks": ""
             }
            },
            "type": "scattergeo"
           }
          ],
          "scattergl": [
           {
            "marker": {
             "colorbar": {
              "outlinewidth": 0,
              "ticks": ""
             }
            },
            "type": "scattergl"
           }
          ],
          "scattermapbox": [
           {
            "marker": {
             "colorbar": {
              "outlinewidth": 0,
              "ticks": ""
             }
            },
            "type": "scattermapbox"
           }
          ],
          "scatterpolar": [
           {
            "marker": {
             "colorbar": {
              "outlinewidth": 0,
              "ticks": ""
             }
            },
            "type": "scatterpolar"
           }
          ],
          "scatterpolargl": [
           {
            "marker": {
             "colorbar": {
              "outlinewidth": 0,
              "ticks": ""
             }
            },
            "type": "scatterpolargl"
           }
          ],
          "scatterternary": [
           {
            "marker": {
             "colorbar": {
              "outlinewidth": 0,
              "ticks": ""
             }
            },
            "type": "scatterternary"
           }
          ],
          "surface": [
           {
            "colorbar": {
             "outlinewidth": 0,
             "ticks": ""
            },
            "colorscale": [
             [
              0,
              "#0d0887"
             ],
             [
              0.1111111111111111,
              "#46039f"
             ],
             [
              0.2222222222222222,
              "#7201a8"
             ],
             [
              0.3333333333333333,
              "#9c179e"
             ],
             [
              0.4444444444444444,
              "#bd3786"
             ],
             [
              0.5555555555555556,
              "#d8576b"
             ],
             [
              0.6666666666666666,
              "#ed7953"
             ],
             [
              0.7777777777777778,
              "#fb9f3a"
             ],
             [
              0.8888888888888888,
              "#fdca26"
             ],
             [
              1,
              "#f0f921"
             ]
            ],
            "type": "surface"
           }
          ],
          "table": [
           {
            "cells": {
             "fill": {
              "color": "#EBF0F8"
             },
             "line": {
              "color": "white"
             }
            },
            "header": {
             "fill": {
              "color": "#C8D4E3"
             },
             "line": {
              "color": "white"
             }
            },
            "type": "table"
           }
          ]
         },
         "layout": {
          "annotationdefaults": {
           "arrowcolor": "#2a3f5f",
           "arrowhead": 0,
           "arrowwidth": 1
          },
          "colorscale": {
           "diverging": [
            [
             0,
             "#8e0152"
            ],
            [
             0.1,
             "#c51b7d"
            ],
            [
             0.2,
             "#de77ae"
            ],
            [
             0.3,
             "#f1b6da"
            ],
            [
             0.4,
             "#fde0ef"
            ],
            [
             0.5,
             "#f7f7f7"
            ],
            [
             0.6,
             "#e6f5d0"
            ],
            [
             0.7,
             "#b8e186"
            ],
            [
             0.8,
             "#7fbc41"
            ],
            [
             0.9,
             "#4d9221"
            ],
            [
             1,
             "#276419"
            ]
           ],
           "sequential": [
            [
             0,
             "#0d0887"
            ],
            [
             0.1111111111111111,
             "#46039f"
            ],
            [
             0.2222222222222222,
             "#7201a8"
            ],
            [
             0.3333333333333333,
             "#9c179e"
            ],
            [
             0.4444444444444444,
             "#bd3786"
            ],
            [
             0.5555555555555556,
             "#d8576b"
            ],
            [
             0.6666666666666666,
             "#ed7953"
            ],
            [
             0.7777777777777778,
             "#fb9f3a"
            ],
            [
             0.8888888888888888,
             "#fdca26"
            ],
            [
             1,
             "#f0f921"
            ]
           ],
           "sequentialminus": [
            [
             0,
             "#0d0887"
            ],
            [
             0.1111111111111111,
             "#46039f"
            ],
            [
             0.2222222222222222,
             "#7201a8"
            ],
            [
             0.3333333333333333,
             "#9c179e"
            ],
            [
             0.4444444444444444,
             "#bd3786"
            ],
            [
             0.5555555555555556,
             "#d8576b"
            ],
            [
             0.6666666666666666,
             "#ed7953"
            ],
            [
             0.7777777777777778,
             "#fb9f3a"
            ],
            [
             0.8888888888888888,
             "#fdca26"
            ],
            [
             1,
             "#f0f921"
            ]
           ]
          },
          "colorway": [
           "#636efa",
           "#EF553B",
           "#00cc96",
           "#ab63fa",
           "#FFA15A",
           "#19d3f3",
           "#FF6692",
           "#B6E880",
           "#FF97FF",
           "#FECB52"
          ],
          "font": {
           "color": "#2a3f5f"
          },
          "geo": {
           "bgcolor": "white",
           "lakecolor": "white",
           "landcolor": "#E5ECF6",
           "showlakes": true,
           "showland": true,
           "subunitcolor": "white"
          },
          "hoverlabel": {
           "align": "left"
          },
          "hovermode": "closest",
          "mapbox": {
           "style": "light"
          },
          "paper_bgcolor": "white",
          "plot_bgcolor": "#E5ECF6",
          "polar": {
           "angularaxis": {
            "gridcolor": "white",
            "linecolor": "white",
            "ticks": ""
           },
           "bgcolor": "#E5ECF6",
           "radialaxis": {
            "gridcolor": "white",
            "linecolor": "white",
            "ticks": ""
           }
          },
          "scene": {
           "xaxis": {
            "backgroundcolor": "#E5ECF6",
            "gridcolor": "white",
            "gridwidth": 2,
            "linecolor": "white",
            "showbackground": true,
            "ticks": "",
            "zerolinecolor": "white"
           },
           "yaxis": {
            "backgroundcolor": "#E5ECF6",
            "gridcolor": "white",
            "gridwidth": 2,
            "linecolor": "white",
            "showbackground": true,
            "ticks": "",
            "zerolinecolor": "white"
           },
           "zaxis": {
            "backgroundcolor": "#E5ECF6",
            "gridcolor": "white",
            "gridwidth": 2,
            "linecolor": "white",
            "showbackground": true,
            "ticks": "",
            "zerolinecolor": "white"
           }
          },
          "shapedefaults": {
           "line": {
            "color": "#2a3f5f"
           }
          },
          "ternary": {
           "aaxis": {
            "gridcolor": "white",
            "linecolor": "white",
            "ticks": ""
           },
           "baxis": {
            "gridcolor": "white",
            "linecolor": "white",
            "ticks": ""
           },
           "bgcolor": "#E5ECF6",
           "caxis": {
            "gridcolor": "white",
            "linecolor": "white",
            "ticks": ""
           }
          },
          "title": {
           "x": 0.05
          },
          "xaxis": {
           "automargin": true,
           "gridcolor": "white",
           "linecolor": "white",
           "ticks": "",
           "zerolinecolor": "white",
           "zerolinewidth": 2
          },
          "yaxis": {
           "automargin": true,
           "gridcolor": "white",
           "linecolor": "white",
           "ticks": "",
           "zerolinecolor": "white",
           "zerolinewidth": 2
          }
         }
        }
       }
      },
      "image/png": "[encoded data removed]",
      "text/html": [
       "<div>\n",
       "        \n",
       "        \n",
       "            <div id=\"5e13a7ef-617a-421c-8d4e-9f4adae05695\" class=\"plotly-graph-div\" style=\"height:600px; width:100%;\"></div>\n",
       "            <script type=\"text/javascript\">\n",
       "                require([\"plotly\"], function(Plotly) {\n",
       "                    window.PLOTLYENV=window.PLOTLYENV || {};\n",
       "                    \n",
       "                if (document.getElementById(\"5e13a7ef-617a-421c-8d4e-9f4adae05695\")) {\n",
       "                    Plotly.newPlot(\n",
       "                        '5e13a7ef-617a-421c-8d4e-9f4adae05695',\n",
       "                        [{\"hoverlabel\": {\"namelength\": 0}, \"hovertemplate\": \"Zip code=11220<br>2011=%{marker.size}<br>Latitude=%{lat}<br>Longitude=%{lon}\", \"lat\": [40.641436], \"legendgroup\": \"Zip code=11220\", \"lon\": [-74.01574000000001], \"marker\": {\"color\": \"#636efa\", \"size\": [33944], \"sizemode\": \"area\", \"sizeref\": 84.86}, \"mode\": \"markers\", \"name\": \"Zip code=11220\", \"showlegend\": true, \"subplot\": \"mapbox\", \"type\": \"scattermapbox\"}, {\"hoverlabel\": {\"namelength\": 0}, \"hovertemplate\": \"Zip code=11355<br>2011=%{marker.size}<br>Latitude=%{lat}<br>Longitude=%{lon}\", \"lat\": [40.749463], \"legendgroup\": \"Zip code=11355\", \"lon\": [-73.81940999999999], \"marker\": {\"color\": \"#EF553B\", \"size\": [29871], \"sizemode\": \"area\", \"sizeref\": 84.86}, \"mode\": \"markers\", \"name\": \"Zip code=11355\", \"showlegend\": true, \"subplot\": \"mapbox\", \"type\": \"scattermapbox\"}, {\"hoverlabel\": {\"namelength\": 0}, \"hovertemplate\": \"Zip code=11368<br>2011=%{marker.size}<br>Latitude=%{lat}<br>Longitude=%{lon}\", \"lat\": [40.747106], \"legendgroup\": \"Zip code=11368\", \"lon\": [-73.85838000000001], \"marker\": {\"color\": \"#00cc96\", \"size\": [26666], \"sizemode\": \"area\", \"sizeref\": 84.86}, \"mode\": \"markers\", \"name\": \"Zip code=11368\", \"showlegend\": true, \"subplot\": \"mapbox\", \"type\": \"scattermapbox\"}, {\"hoverlabel\": {\"namelength\": 0}, \"hovertemplate\": \"Zip code=11373<br>2011=%{marker.size}<br>Latitude=%{lat}<br>Longitude=%{lon}\", \"lat\": [40.736076000000004], \"legendgroup\": \"Zip code=11373\", \"lon\": [-73.87804], \"marker\": {\"color\": \"#ab63fa\", \"size\": [27998], \"sizemode\": \"area\", \"sizeref\": 84.86}, \"mode\": \"markers\", \"name\": \"Zip code=11373\", \"showlegend\": true, \"subplot\": \"mapbox\", \"type\": \"scattermapbox\"}, {\"hoverlabel\": {\"namelength\": 0}, \"hovertemplate\": \"Zip code=10456<br>2011=%{marker.size}<br>Latitude=%{lat}<br>Longitude=%{lon}\", \"lat\": [40.829676], \"legendgroup\": \"Zip code=10456\", \"lon\": [-73.90856], \"marker\": {\"color\": \"#FFA15A\", \"size\": [24281], \"sizemode\": \"area\", \"sizeref\": 84.86}, \"mode\": \"markers\", \"name\": \"Zip code=10456\", \"showlegend\": true, \"subplot\": \"mapbox\", \"type\": \"scattermapbox\"}, {\"hoverlabel\": {\"namelength\": 0}, \"hovertemplate\": \"Zip code=11208<br>2011=%{marker.size}<br>Latitude=%{lat}<br>Longitude=%{lon}\", \"lat\": [40.672666], \"legendgroup\": \"Zip code=11208\", \"lon\": [-73.87248000000001], \"marker\": {\"color\": \"#19d3f3\", \"size\": [24033], \"sizemode\": \"area\", \"sizeref\": 84.86}, \"mode\": \"markers\", \"name\": \"Zip code=11208\", \"showlegend\": true, \"subplot\": \"mapbox\", \"type\": \"scattermapbox\"}, {\"hoverlabel\": {\"namelength\": 0}, \"hovertemplate\": \"Zip code=11226<br>2011=%{marker.size}<br>Latitude=%{lat}<br>Longitude=%{lon}\", \"lat\": [40.645255999999996], \"legendgroup\": \"Zip code=11226\", \"lon\": [-73.95553000000001], \"marker\": {\"color\": \"#FF6692\", \"size\": [25713], \"sizemode\": \"area\", \"sizeref\": 84.86}, \"mode\": \"markers\", \"name\": \"Zip code=11226\", \"showlegend\": true, \"subplot\": \"mapbox\", \"type\": \"scattermapbox\"}, {\"hoverlabel\": {\"namelength\": 0}, \"hovertemplate\": \"Zip code=10453<br>2011=%{marker.size}<br>Latitude=%{lat}<br>Longitude=%{lon}\", \"lat\": [40.853017], \"legendgroup\": \"Zip code=10453\", \"lon\": [-73.91214000000001], \"marker\": {\"color\": \"#B6E880\", \"size\": [23901], \"sizemode\": \"area\", \"sizeref\": 84.86}, \"mode\": \"markers\", \"name\": \"Zip code=10453\", \"showlegend\": true, \"subplot\": \"mapbox\", \"type\": \"scattermapbox\"}, {\"hoverlabel\": {\"namelength\": 0}, \"hovertemplate\": \"Zip code=11207<br>2011=%{marker.size}<br>Latitude=%{lat}<br>Longitude=%{lon}\", \"lat\": [40.670874], \"legendgroup\": \"Zip code=11207\", \"lon\": [-73.89424], \"marker\": {\"color\": \"#FF97FF\", \"size\": [22791], \"sizemode\": \"area\", \"sizeref\": 84.86}, \"mode\": \"markers\", \"name\": \"Zip code=11207\", \"showlegend\": true, \"subplot\": \"mapbox\", \"type\": \"scattermapbox\"}, {\"hoverlabel\": {\"namelength\": 0}, \"hovertemplate\": \"Zip code=10467<br>2011=%{marker.size}<br>Latitude=%{lat}<br>Longitude=%{lon}\", \"lat\": [40.872265000000006], \"legendgroup\": \"Zip code=10467\", \"lon\": [-73.86936999999999], \"marker\": {\"color\": \"#FECB52\", \"size\": [21584], \"sizemode\": \"area\", \"sizeref\": 84.86}, \"mode\": \"markers\", \"name\": \"Zip code=10467\", \"showlegend\": true, \"subplot\": \"mapbox\", \"type\": \"scattermapbox\"}, {\"hoverlabel\": {\"namelength\": 0}, \"hovertemplate\": \"Zip code=10452<br>2011=%{marker.size}<br>Latitude=%{lat}<br>Longitude=%{lon}\", \"lat\": [40.838745], \"legendgroup\": \"Zip code=10452\", \"lon\": [-73.92234], \"marker\": {\"color\": \"#636efa\", \"size\": [21912], \"sizemode\": \"area\", \"sizeref\": 84.86}, \"mode\": \"markers\", \"name\": \"Zip code=10452\", \"showlegend\": true, \"subplot\": \"mapbox\", \"type\": \"scattermapbox\"}, {\"hoverlabel\": {\"namelength\": 0}, \"hovertemplate\": \"Zip code=10002<br>2011=%{marker.size}<br>Latitude=%{lat}<br>Longitude=%{lon}\", \"lat\": [40.717040000000004], \"legendgroup\": \"Zip code=10002\", \"lon\": [-73.987], \"marker\": {\"color\": \"#EF553B\", \"size\": [25950], \"sizemode\": \"area\", \"sizeref\": 84.86}, \"mode\": \"markers\", \"name\": \"Zip code=10002\", \"showlegend\": true, \"subplot\": \"mapbox\", \"type\": \"scattermapbox\"}, {\"hoverlabel\": {\"namelength\": 0}, \"hovertemplate\": \"Zip code=11377<br>2011=%{marker.size}<br>Latitude=%{lat}<br>Longitude=%{lon}\", \"lat\": [40.742869], \"legendgroup\": \"Zip code=11377\", \"lon\": [-73.90377], \"marker\": {\"color\": \"#00cc96\", \"size\": [22667], \"sizemode\": \"area\", \"sizeref\": 84.86}, \"mode\": \"markers\", \"name\": \"Zip code=11377\", \"showlegend\": true, \"subplot\": \"mapbox\", \"type\": \"scattermapbox\"}, {\"hoverlabel\": {\"namelength\": 0}, \"hovertemplate\": \"Zip code=11212<br>2011=%{marker.size}<br>Latitude=%{lat}<br>Longitude=%{lon}\", \"lat\": [40.662191], \"legendgroup\": \"Zip code=11212\", \"lon\": [-73.91328], \"marker\": {\"color\": \"#ab63fa\", \"size\": [20786], \"sizemode\": \"area\", \"sizeref\": 84.86}, \"mode\": \"markers\", \"name\": \"Zip code=11212\", \"showlegend\": true, \"subplot\": \"mapbox\", \"type\": \"scattermapbox\"}, {\"hoverlabel\": {\"namelength\": 0}, \"hovertemplate\": \"Zip code=11219<br>2011=%{marker.size}<br>Latitude=%{lat}<br>Longitude=%{lon}\", \"lat\": [40.632449], \"legendgroup\": \"Zip code=11219\", \"lon\": [-73.99629], \"marker\": {\"color\": \"#FFA15A\", \"size\": [20314], \"sizemode\": \"area\", \"sizeref\": 84.86}, \"mode\": \"markers\", \"name\": \"Zip code=11219\", \"showlegend\": true, \"subplot\": \"mapbox\", \"type\": \"scattermapbox\"}, {\"hoverlabel\": {\"namelength\": 0}, \"hovertemplate\": \"Zip code=10468<br>2011=%{marker.size}<br>Latitude=%{lat}<br>Longitude=%{lon}\", \"lat\": [40.867107], \"legendgroup\": \"Zip code=10468\", \"lon\": [-73.89916], \"marker\": {\"color\": \"#19d3f3\", \"size\": [20215], \"sizemode\": \"area\", \"sizeref\": 84.86}, \"mode\": \"markers\", \"name\": \"Zip code=10468\", \"showlegend\": true, \"subplot\": \"mapbox\", \"type\": \"scattermapbox\"}, {\"hoverlabel\": {\"namelength\": 0}, \"hovertemplate\": \"Zip code=10457<br>2011=%{marker.size}<br>Latitude=%{lat}<br>Longitude=%{lon}\", \"lat\": [40.846745], \"legendgroup\": \"Zip code=10457\", \"lon\": [-73.89860999999999], \"marker\": {\"color\": \"#FF6692\", \"size\": [19832], \"sizemode\": \"area\", \"sizeref\": 84.86}, \"mode\": \"markers\", \"name\": \"Zip code=10457\", \"showlegend\": true, \"subplot\": \"mapbox\", \"type\": \"scattermapbox\"}, {\"hoverlabel\": {\"namelength\": 0}, \"hovertemplate\": \"Zip code=10458<br>2011=%{marker.size}<br>Latitude=%{lat}<br>Longitude=%{lon}\", \"lat\": [40.864166], \"legendgroup\": \"Zip code=10458\", \"lon\": [-73.88880999999999], \"marker\": {\"color\": \"#B6E880\", \"size\": [19479], \"sizemode\": \"area\", \"sizeref\": 84.86}, \"mode\": \"markers\", \"name\": \"Zip code=10458\", \"showlegend\": true, \"subplot\": \"mapbox\", \"type\": \"scattermapbox\"}, {\"hoverlabel\": {\"namelength\": 0}, \"hovertemplate\": \"Zip code=11214<br>2011=%{marker.size}<br>Latitude=%{lat}<br>Longitude=%{lon}\", \"lat\": [40.598994], \"legendgroup\": \"Zip code=11214\", \"lon\": [-73.99611], \"marker\": {\"color\": \"#FF97FF\", \"size\": [18542], \"sizemode\": \"area\", \"sizeref\": 84.86}, \"mode\": \"markers\", \"name\": \"Zip code=11214\", \"showlegend\": true, \"subplot\": \"mapbox\", \"type\": \"scattermapbox\"}, {\"hoverlabel\": {\"namelength\": 0}, \"hovertemplate\": \"Zip code=11385<br>2011=%{marker.size}<br>Latitude=%{lat}<br>Longitude=%{lon}\", \"lat\": [40.703069], \"legendgroup\": \"Zip code=11385\", \"lon\": [-73.89285], \"marker\": {\"color\": \"#FECB52\", \"size\": [21214], \"sizemode\": \"area\", \"sizeref\": 84.86}, \"mode\": \"markers\", \"name\": \"Zip code=11385\", \"showlegend\": true, \"subplot\": \"mapbox\", \"type\": \"scattermapbox\"}],\n",
       "                        {\"height\": 600, \"legend\": {\"itemsizing\": \"constant\", \"tracegroupgap\": 0}, \"mapbox\": {\"accesstoken\": \"pk.eyJ1IjoicmF5amUiLCJhIjoiY2sxMmwxaDV2MDd2azNkcXpoNnhrbGQ5NyJ9.RtVITUmDDTZFOR28AVe-ZA\", \"center\": {\"lat\": 40.7445605, \"lon\": -73.91410549999999}, \"domain\": {\"x\": [0.0, 0.98], \"y\": [0.0, 1.0]}, \"zoom\": 8}, \"margin\": {\"t\": 60}, \"template\": {\"data\": {\"bar\": [{\"error_x\": {\"color\": \"#2a3f5f\"}, \"error_y\": {\"color\": \"#2a3f5f\"}, \"marker\": {\"line\": {\"color\": \"#E5ECF6\", \"width\": 0.5}}, \"type\": \"bar\"}], \"barpolar\": [{\"marker\": {\"line\": {\"color\": \"#E5ECF6\", \"width\": 0.5}}, \"type\": \"barpolar\"}], \"carpet\": [{\"aaxis\": {\"endlinecolor\": \"#2a3f5f\", \"gridcolor\": \"white\", \"linecolor\": \"white\", \"minorgridcolor\": \"white\", \"startlinecolor\": \"#2a3f5f\"}, \"baxis\": {\"endlinecolor\": \"#2a3f5f\", \"gridcolor\": \"white\", \"linecolor\": \"white\", \"minorgridcolor\": \"white\", \"startlinecolor\": \"#2a3f5f\"}, \"type\": \"carpet\"}], \"choropleth\": [{\"colorbar\": {\"outlinewidth\": 0, \"ticks\": \"\"}, \"type\": \"choropleth\"}], \"contour\": [{\"colorbar\": {\"outlinewidth\": 0, \"ticks\": \"\"}, \"colorscale\": [[0.0, \"#0d0887\"], [0.1111111111111111, \"#46039f\"], [0.2222222222222222, \"#7201a8\"], [0.3333333333333333, \"#9c179e\"], [0.4444444444444444, \"#bd3786\"], [0.5555555555555556, \"#d8576b\"], [0.6666666666666666, \"#ed7953\"], [0.7777777777777778, \"#fb9f3a\"], [0.8888888888888888, \"#fdca26\"], [1.0, \"#f0f921\"]], \"type\": \"contour\"}], \"contourcarpet\": [{\"colorbar\": {\"outlinewidth\": 0, \"ticks\": \"\"}, \"type\": \"contourcarpet\"}], \"heatmap\": [{\"colorbar\": {\"outlinewidth\": 0, \"ticks\": \"\"}, \"colorscale\": [[0.0, \"#0d0887\"], [0.1111111111111111, \"#46039f\"], [0.2222222222222222, \"#7201a8\"], [0.3333333333333333, \"#9c179e\"], [0.4444444444444444, \"#bd3786\"], [0.5555555555555556, \"#d8576b\"], [0.6666666666666666, \"#ed7953\"], [0.7777777777777778, \"#fb9f3a\"], [0.8888888888888888, \"#fdca26\"], [1.0, \"#f0f921\"]], \"type\": \"heatmap\"}], \"heatmapgl\": [{\"colorbar\": {\"outlinewidth\": 0, \"ticks\": \"\"}, \"colorscale\": [[0.0, \"#0d0887\"], [0.1111111111111111, \"#46039f\"], [0.2222222222222222, \"#7201a8\"], [0.3333333333333333, \"#9c179e\"], [0.4444444444444444, \"#bd3786\"], [0.5555555555555556, \"#d8576b\"], [0.6666666666666666, \"#ed7953\"], [0.7777777777777778, \"#fb9f3a\"], [0.8888888888888888, \"#fdca26\"], [1.0, \"#f0f921\"]], \"type\": \"heatmapgl\"}], \"histogram\": [{\"marker\": {\"colorbar\": {\"outlinewidth\": 0, \"ticks\": \"\"}}, \"type\": \"histogram\"}], \"histogram2d\": [{\"colorbar\": {\"outlinewidth\": 0, \"ticks\": \"\"}, \"colorscale\": [[0.0, \"#0d0887\"], [0.1111111111111111, \"#46039f\"], [0.2222222222222222, \"#7201a8\"], [0.3333333333333333, \"#9c179e\"], [0.4444444444444444, \"#bd3786\"], [0.5555555555555556, \"#d8576b\"], [0.6666666666666666, \"#ed7953\"], [0.7777777777777778, \"#fb9f3a\"], [0.8888888888888888, \"#fdca26\"], [1.0, \"#f0f921\"]], \"type\": \"histogram2d\"}], \"histogram2dcontour\": [{\"colorbar\": {\"outlinewidth\": 0, \"ticks\": \"\"}, \"colorscale\": [[0.0, \"#0d0887\"], [0.1111111111111111, \"#46039f\"], [0.2222222222222222, \"#7201a8\"], [0.3333333333333333, \"#9c179e\"], [0.4444444444444444, \"#bd3786\"], [0.5555555555555556, \"#d8576b\"], [0.6666666666666666, \"#ed7953\"], [0.7777777777777778, \"#fb9f3a\"], [0.8888888888888888, \"#fdca26\"], [1.0, \"#f0f921\"]], \"type\": \"histogram2dcontour\"}], \"mesh3d\": [{\"colorbar\": {\"outlinewidth\": 0, \"ticks\": \"\"}, \"type\": \"mesh3d\"}], \"parcoords\": [{\"line\": {\"colorbar\": {\"outlinewidth\": 0, \"ticks\": \"\"}}, \"type\": \"parcoords\"}], \"scatter\": [{\"marker\": {\"colorbar\": {\"outlinewidth\": 0, \"ticks\": \"\"}}, \"type\": \"scatter\"}], \"scatter3d\": [{\"line\": {\"colorbar\": {\"outlinewidth\": 0, \"ticks\": \"\"}}, \"marker\": {\"colorbar\": {\"outlinewidth\": 0, \"ticks\": \"\"}}, \"type\": \"scatter3d\"}], \"scattercarpet\": [{\"marker\": {\"colorbar\": {\"outlinewidth\": 0, \"ticks\": \"\"}}, \"type\": \"scattercarpet\"}], \"scattergeo\": [{\"marker\": {\"colorbar\": {\"outlinewidth\": 0, \"ticks\": \"\"}}, \"type\": \"scattergeo\"}], \"scattergl\": [{\"marker\": {\"colorbar\": {\"outlinewidth\": 0, \"ticks\": \"\"}}, \"type\": \"scattergl\"}], \"scattermapbox\": [{\"marker\": {\"colorbar\": {\"outlinewidth\": 0, \"ticks\": \"\"}}, \"type\": \"scattermapbox\"}], \"scatterpolar\": [{\"marker\": {\"colorbar\": {\"outlinewidth\": 0, \"ticks\": \"\"}}, \"type\": \"scatterpolar\"}], \"scatterpolargl\": [{\"marker\": {\"colorbar\": {\"outlinewidth\": 0, \"ticks\": \"\"}}, \"type\": \"scatterpolargl\"}], \"scatterternary\": [{\"marker\": {\"colorbar\": {\"outlinewidth\": 0, \"ticks\": \"\"}}, \"type\": \"scatterternary\"}], \"surface\": [{\"colorbar\": {\"outlinewidth\": 0, \"ticks\": \"\"}, \"colorscale\": [[0.0, \"#0d0887\"], [0.1111111111111111, \"#46039f\"], [0.2222222222222222, \"#7201a8\"], [0.3333333333333333, \"#9c179e\"], [0.4444444444444444, \"#bd3786\"], [0.5555555555555556, \"#d8576b\"], [0.6666666666666666, \"#ed7953\"], [0.7777777777777778, \"#fb9f3a\"], [0.8888888888888888, \"#fdca26\"], [1.0, \"#f0f921\"]], \"type\": \"surface\"}], \"table\": [{\"cells\": {\"fill\": {\"color\": \"#EBF0F8\"}, \"line\": {\"color\": \"white\"}}, \"header\": {\"fill\": {\"color\": \"#C8D4E3\"}, \"line\": {\"color\": \"white\"}}, \"type\": \"table\"}]}, \"layout\": {\"annotationdefaults\": {\"arrowcolor\": \"#2a3f5f\", \"arrowhead\": 0, \"arrowwidth\": 1}, \"colorscale\": {\"diverging\": [[0, \"#8e0152\"], [0.1, \"#c51b7d\"], [0.2, \"#de77ae\"], [0.3, \"#f1b6da\"], [0.4, \"#fde0ef\"], [0.5, \"#f7f7f7\"], [0.6, \"#e6f5d0\"], [0.7, \"#b8e186\"], [0.8, \"#7fbc41\"], [0.9, \"#4d9221\"], [1, \"#276419\"]], \"sequential\": [[0.0, \"#0d0887\"], [0.1111111111111111, \"#46039f\"], [0.2222222222222222, \"#7201a8\"], [0.3333333333333333, \"#9c179e\"], [0.4444444444444444, \"#bd3786\"], [0.5555555555555556, \"#d8576b\"], [0.6666666666666666, \"#ed7953\"], [0.7777777777777778, \"#fb9f3a\"], [0.8888888888888888, \"#fdca26\"], [1.0, \"#f0f921\"]], \"sequentialminus\": [[0.0, \"#0d0887\"], [0.1111111111111111, \"#46039f\"], [0.2222222222222222, \"#7201a8\"], [0.3333333333333333, \"#9c179e\"], [0.4444444444444444, \"#bd3786\"], [0.5555555555555556, \"#d8576b\"], [0.6666666666666666, \"#ed7953\"], [0.7777777777777778, \"#fb9f3a\"], [0.8888888888888888, \"#fdca26\"], [1.0, \"#f0f921\"]]}, \"colorway\": [\"#636efa\", \"#EF553B\", \"#00cc96\", \"#ab63fa\", \"#FFA15A\", \"#19d3f3\", \"#FF6692\", \"#B6E880\", \"#FF97FF\", \"#FECB52\"], \"font\": {\"color\": \"#2a3f5f\"}, \"geo\": {\"bgcolor\": \"white\", \"lakecolor\": \"white\", \"landcolor\": \"#E5ECF6\", \"showlakes\": true, \"showland\": true, \"subunitcolor\": \"white\"}, \"hoverlabel\": {\"align\": \"left\"}, \"hovermode\": \"closest\", \"mapbox\": {\"style\": \"light\"}, \"paper_bgcolor\": \"white\", \"plot_bgcolor\": \"#E5ECF6\", \"polar\": {\"angularaxis\": {\"gridcolor\": \"white\", \"linecolor\": \"white\", \"ticks\": \"\"}, \"bgcolor\": \"#E5ECF6\", \"radialaxis\": {\"gridcolor\": \"white\", \"linecolor\": \"white\", \"ticks\": \"\"}}, \"scene\": {\"xaxis\": {\"backgroundcolor\": \"#E5ECF6\", \"gridcolor\": \"white\", \"gridwidth\": 2, \"linecolor\": \"white\", \"showbackground\": true, \"ticks\": \"\", \"zerolinecolor\": \"white\"}, \"yaxis\": {\"backgroundcolor\": \"#E5ECF6\", \"gridcolor\": \"white\", \"gridwidth\": 2, \"linecolor\": \"white\", \"showbackground\": true, \"ticks\": \"\", \"zerolinecolor\": \"white\"}, \"zaxis\": {\"backgroundcolor\": \"#E5ECF6\", \"gridcolor\": \"white\", \"gridwidth\": 2, \"linecolor\": \"white\", \"showbackground\": true, \"ticks\": \"\", \"zerolinecolor\": \"white\"}}, \"shapedefaults\": {\"line\": {\"color\": \"#2a3f5f\"}}, \"ternary\": {\"aaxis\": {\"gridcolor\": \"white\", \"linecolor\": \"white\", \"ticks\": \"\"}, \"baxis\": {\"gridcolor\": \"white\", \"linecolor\": \"white\", \"ticks\": \"\"}, \"bgcolor\": \"#E5ECF6\", \"caxis\": {\"gridcolor\": \"white\", \"linecolor\": \"white\", \"ticks\": \"\"}}, \"title\": {\"x\": 0.05}, \"xaxis\": {\"automargin\": true, \"gridcolor\": \"white\", \"linecolor\": \"white\", \"ticks\": \"\", \"zerolinecolor\": \"white\", \"zerolinewidth\": 2}, \"yaxis\": {\"automargin\": true, \"gridcolor\": \"white\", \"linecolor\": \"white\", \"ticks\": \"\", \"zerolinecolor\": \"white\", \"zerolinewidth\": 2}}}},\n",
       "                        {\"responsive\": true}\n",
       "                    ).then(function(){\n",
       "                            \n",
       "var gd = document.getElementById('5e13a7ef-617a-421c-8d4e-9f4adae05695');\n",
       "var x = new MutationObserver(function (mutations, observer) {{\n",
       "        var display = window.getComputedStyle(gd).display;\n",
       "        if (!display || display === 'none') {{\n",
       "            console.log([gd, 'removed!']);\n",
       "            Plotly.purge(gd);\n",
       "            observer.disconnect();\n",
       "        }}\n",
       "}});\n",
       "\n",
       "// Listen for the removal of the full notebook cells\n",
       "var notebookContainer = gd.closest('#notebook-container');\n",
       "if (notebookContainer) {{\n",
       "    x.observe(notebookContainer, {childList: true});\n",
       "}}\n",
       "\n",
       "// Listen for the clearing of the current output cell\n",
       "var outputEl = gd.closest('.output');\n",
       "if (outputEl) {{\n",
       "    x.observe(outputEl, {childList: true});\n",
       "}}\n",
       "\n",
       "                        })\n",
       "                };\n",
       "                });\n",
       "            </script>\n",
       "        </div>"
      ]
     },
     "metadata": {},
     "output_type": "display_data"
    }
   ],
   "source": [
    "px.scatter_mapbox(\n",
    "    top_20_poor2016,\n",
    "    lat=\"Latitude\",\n",
    "    lon=\"Longitude\",\n",
    "    size=\"2011\",\n",
    "    color=\"Zip code\",\n",
    ")"
   ]
  },
  {
   "cell_type": "code",
   "execution_count": 93,
   "metadata": {},
   "outputs": [],
   "source": [
    "#column_appended_data.plot.bar(figsize=(20,10))"
   ]
  },
  {
   "cell_type": "code",
   "execution_count": null,
   "metadata": {},
   "outputs": [],
   "source": []
  },
  {
   "cell_type": "code",
   "execution_count": null,
   "metadata": {},
   "outputs": [],
   "source": [
    "column_appended_data.groupby('Zip code').mean()"
   ]
  },
  {
   "cell_type": "code",
   "execution_count": null,
   "metadata": {},
   "outputs": [],
   "source": [
    "column_appended_data.groupby('Zip code')['2011'].apply(list)"
   ]
  },
  {
   "cell_type": "code",
   "execution_count": 30,
   "metadata": {},
   "outputs": [
    {
     "data": {
      "text/html": [
       "<div>\n",
       "<style scoped>\n",
       "    .dataframe tbody tr th:only-of-type {\n",
       "        vertical-align: middle;\n",
       "    }\n",
       "\n",
       "    .dataframe tbody tr th {\n",
       "        vertical-align: top;\n",
       "    }\n",
       "\n",
       "    .dataframe thead th {\n",
       "        text-align: right;\n",
       "    }\n",
       "</style>\n",
       "<table border=\"1\" class=\"dataframe\">\n",
       "  <thead>\n",
       "    <tr style=\"text-align: right;\">\n",
       "      <th></th>\n",
       "      <th>Zip code</th>\n",
       "      <th>new</th>\n",
       "    </tr>\n",
       "  </thead>\n",
       "  <tbody>\n",
       "    <tr>\n",
       "      <th>0</th>\n",
       "      <td>10001</td>\n",
       "      <td>[4329, 2659, 1875, 1241, 1921, 1565]</td>\n",
       "    </tr>\n",
       "    <tr>\n",
       "      <th>1</th>\n",
       "      <td>10002</td>\n",
       "      <td>[25950, 8925, 4008, 2126, 2442, 1087]</td>\n",
       "    </tr>\n",
       "    <tr>\n",
       "      <th>2</th>\n",
       "      <td>10003</td>\n",
       "      <td>[6733, 5261, 4386, 3059, 5581, 5005]</td>\n",
       "    </tr>\n",
       "    <tr>\n",
       "      <th>3</th>\n",
       "      <td>10004</td>\n",
       "      <td>[364, 309, 253, 214, 497, 698]</td>\n",
       "    </tr>\n",
       "    <tr>\n",
       "      <th>4</th>\n",
       "      <td>10005</td>\n",
       "      <td>[908, 859, 762, 524, 1191, 1359]</td>\n",
       "    </tr>\n",
       "    <tr>\n",
       "      <th>5</th>\n",
       "      <td>10006</td>\n",
       "      <td>[404, 373, 308, 256, 576, 508]</td>\n",
       "    </tr>\n",
       "    <tr>\n",
       "      <th>6</th>\n",
       "      <td>10007</td>\n",
       "      <td>[526, 351, 327, 215, 638, 1471]</td>\n",
       "    </tr>\n",
       "    <tr>\n",
       "      <th>7</th>\n",
       "      <td>10009</td>\n",
       "      <td>[11340, 7535, 5169, 2918, 3689, 1429]</td>\n",
       "    </tr>\n",
       "    <tr>\n",
       "      <th>8</th>\n",
       "      <td>10010</td>\n",
       "      <td>[3360, 2970, 2631, 1926, 3475, 3126]</td>\n",
       "    </tr>\n",
       "    <tr>\n",
       "      <th>9</th>\n",
       "      <td>10011</td>\n",
       "      <td>[6517, 4878, 4225, 3214, 6113, 5801]</td>\n",
       "    </tr>\n",
       "    <tr>\n",
       "      <th>10</th>\n",
       "      <td>10012</td>\n",
       "      <td>[3278, 2424, 1881, 1341, 2262, 2025]</td>\n",
       "    </tr>\n",
       "    <tr>\n",
       "      <th>11</th>\n",
       "      <td>10013</td>\n",
       "      <td>[6638, 2350, 1486, 1008, 1809, 3001]</td>\n",
       "    </tr>\n",
       "    <tr>\n",
       "      <th>12</th>\n",
       "      <td>10014</td>\n",
       "      <td>[3854, 3042, 2655, 2071, 4099, 3704]</td>\n",
       "    </tr>\n",
       "    <tr>\n",
       "      <th>13</th>\n",
       "      <td>10016</td>\n",
       "      <td>[6082, 5540, 4976, 3522, 6094, 5082]</td>\n",
       "    </tr>\n",
       "    <tr>\n",
       "      <th>14</th>\n",
       "      <td>10017</td>\n",
       "      <td>[5257, 2033, 1767, 1237, 2390, 2644]</td>\n",
       "    </tr>\n",
       "    <tr>\n",
       "      <th>15</th>\n",
       "      <td>10018</td>\n",
       "      <td>[1737, 1238, 746, 496, 900, 964]</td>\n",
       "    </tr>\n",
       "    <tr>\n",
       "      <th>16</th>\n",
       "      <td>10019</td>\n",
       "      <td>[5876, 4454, 3452, 2421, 4568, 3906]</td>\n",
       "    </tr>\n",
       "    <tr>\n",
       "      <th>17</th>\n",
       "      <td>10021</td>\n",
       "      <td>[4530, 3587, 3314, 2508, 4508, 5935]</td>\n",
       "    </tr>\n",
       "    <tr>\n",
       "      <th>18</th>\n",
       "      <td>10022</td>\n",
       "      <td>[3482, 2847, 2541, 2101, 4095, 5227]</td>\n",
       "    </tr>\n",
       "    <tr>\n",
       "      <th>19</th>\n",
       "      <td>10023</td>\n",
       "      <td>[7076, 4711, 4268, 3396, 7032, 8115]</td>\n",
       "    </tr>\n",
       "    <tr>\n",
       "      <th>20</th>\n",
       "      <td>10024</td>\n",
       "      <td>[7053, 4770, 3920, 2930, 5671, 7026]</td>\n",
       "    </tr>\n",
       "    <tr>\n",
       "      <th>21</th>\n",
       "      <td>10025</td>\n",
       "      <td>[14969, 9407, 6499, 3986, 6922, 5841]</td>\n",
       "    </tr>\n",
       "    <tr>\n",
       "      <th>22</th>\n",
       "      <td>10026</td>\n",
       "      <td>[8003, 4680, 2187, 1087, 1273, 567]</td>\n",
       "    </tr>\n",
       "    <tr>\n",
       "      <th>23</th>\n",
       "      <td>10027</td>\n",
       "      <td>[13197, 6990, 2979, 1430, 1740, 787]</td>\n",
       "    </tr>\n",
       "    <tr>\n",
       "      <th>24</th>\n",
       "      <td>10028</td>\n",
       "      <td>[4981, 4418, 3773, 2871, 4608, 5295]</td>\n",
       "    </tr>\n",
       "    <tr>\n",
       "      <th>25</th>\n",
       "      <td>10029</td>\n",
       "      <td>[17404, 9465, 3654, 1366, 1113, 532]</td>\n",
       "    </tr>\n",
       "    <tr>\n",
       "      <th>26</th>\n",
       "      <td>10030</td>\n",
       "      <td>[6892, 3766, 1388, 512, 387, 109]</td>\n",
       "    </tr>\n",
       "    <tr>\n",
       "      <th>27</th>\n",
       "      <td>10031</td>\n",
       "      <td>[16074, 8259, 2752, 1079, 827, 190]</td>\n",
       "    </tr>\n",
       "    <tr>\n",
       "      <th>28</th>\n",
       "      <td>10032</td>\n",
       "      <td>[16819, 8371, 2888, 1064, 874, 186]</td>\n",
       "    </tr>\n",
       "    <tr>\n",
       "      <th>29</th>\n",
       "      <td>10033</td>\n",
       "      <td>[14699, 7925, 2655, 1323, 1318, 370]</td>\n",
       "    </tr>\n",
       "    <tr>\n",
       "      <th>...</th>\n",
       "      <td>...</td>\n",
       "      <td>...</td>\n",
       "    </tr>\n",
       "    <tr>\n",
       "      <th>1508</th>\n",
       "      <td>14847</td>\n",
       "      <td>[447, 310, 173, 99, 86, 0]</td>\n",
       "    </tr>\n",
       "    <tr>\n",
       "      <th>1509</th>\n",
       "      <td>14850</td>\n",
       "      <td>[8969, 5712, 2789, 1841, 2974, 1197]</td>\n",
       "    </tr>\n",
       "    <tr>\n",
       "      <th>1510</th>\n",
       "      <td>14853</td>\n",
       "      <td>[123, 77, 0, 0, 0, 0]</td>\n",
       "    </tr>\n",
       "    <tr>\n",
       "      <th>1511</th>\n",
       "      <td>14855</td>\n",
       "      <td>[194, 94, 44, 48, 0, 0]</td>\n",
       "    </tr>\n",
       "    <tr>\n",
       "      <th>1512</th>\n",
       "      <td>14858</td>\n",
       "      <td>[294, 176, 141, 78, 68, 0]</td>\n",
       "    </tr>\n",
       "    <tr>\n",
       "      <th>1513</th>\n",
       "      <td>14859</td>\n",
       "      <td>[207, 139, 101, 41, 28, 0]</td>\n",
       "    </tr>\n",
       "    <tr>\n",
       "      <th>1514</th>\n",
       "      <td>14860</td>\n",
       "      <td>[214, 126, 73, 48, 38, 0]</td>\n",
       "    </tr>\n",
       "    <tr>\n",
       "      <th>1515</th>\n",
       "      <td>14861</td>\n",
       "      <td>[263, 180, 93, 51, 47, 0]</td>\n",
       "    </tr>\n",
       "    <tr>\n",
       "      <th>1516</th>\n",
       "      <td>14864</td>\n",
       "      <td>[269, 158, 83, 43, 32, 0]</td>\n",
       "    </tr>\n",
       "    <tr>\n",
       "      <th>1517</th>\n",
       "      <td>14865</td>\n",
       "      <td>[536, 280, 176, 108, 106, 0]</td>\n",
       "    </tr>\n",
       "    <tr>\n",
       "      <th>1518</th>\n",
       "      <td>14867</td>\n",
       "      <td>[1060, 735, 407, 214, 200, 0]</td>\n",
       "    </tr>\n",
       "    <tr>\n",
       "      <th>1519</th>\n",
       "      <td>14869</td>\n",
       "      <td>[272, 171, 89, 63, 45, 0]</td>\n",
       "    </tr>\n",
       "    <tr>\n",
       "      <th>1520</th>\n",
       "      <td>14870</td>\n",
       "      <td>[1623, 869, 708, 457, 675, 244]</td>\n",
       "    </tr>\n",
       "    <tr>\n",
       "      <th>1521</th>\n",
       "      <td>14871</td>\n",
       "      <td>[758, 454, 385, 276, 276, 48]</td>\n",
       "    </tr>\n",
       "    <tr>\n",
       "      <th>1522</th>\n",
       "      <td>14872</td>\n",
       "      <td>[134, 75, 49, 43, 0, 0]</td>\n",
       "    </tr>\n",
       "    <tr>\n",
       "      <th>1523</th>\n",
       "      <td>14873</td>\n",
       "      <td>[479, 288, 153, 84, 63, 0]</td>\n",
       "    </tr>\n",
       "    <tr>\n",
       "      <th>1524</th>\n",
       "      <td>14874</td>\n",
       "      <td>[55, 62, 0, 0, 0, 0]</td>\n",
       "    </tr>\n",
       "    <tr>\n",
       "      <th>1525</th>\n",
       "      <td>14877</td>\n",
       "      <td>[96, 37, 27, 34, 0, 0]</td>\n",
       "    </tr>\n",
       "    <tr>\n",
       "      <th>1526</th>\n",
       "      <td>14878</td>\n",
       "      <td>[122, 67, 45, 20, 24, 0]</td>\n",
       "    </tr>\n",
       "    <tr>\n",
       "      <th>1527</th>\n",
       "      <td>14879</td>\n",
       "      <td>[428, 242, 169, 87, 54, 0]</td>\n",
       "    </tr>\n",
       "    <tr>\n",
       "      <th>1528</th>\n",
       "      <td>14880</td>\n",
       "      <td>[314, 169, 98, 76, 39, 0]</td>\n",
       "    </tr>\n",
       "    <tr>\n",
       "      <th>1529</th>\n",
       "      <td>14881</td>\n",
       "      <td>[56, 88, 0, 0, 0, 0]</td>\n",
       "    </tr>\n",
       "    <tr>\n",
       "      <th>1530</th>\n",
       "      <td>14882</td>\n",
       "      <td>[651, 456, 300, 205, 258, 63]</td>\n",
       "    </tr>\n",
       "    <tr>\n",
       "      <th>1531</th>\n",
       "      <td>14883</td>\n",
       "      <td>[698, 526, 284, 181, 144, 0]</td>\n",
       "    </tr>\n",
       "    <tr>\n",
       "      <th>1532</th>\n",
       "      <td>14884</td>\n",
       "      <td>[50, 49, 52, 0, 0, 0]</td>\n",
       "    </tr>\n",
       "    <tr>\n",
       "      <th>1533</th>\n",
       "      <td>14885</td>\n",
       "      <td>[138, 88, 51, 31, 0, 0]</td>\n",
       "    </tr>\n",
       "    <tr>\n",
       "      <th>1534</th>\n",
       "      <td>14886</td>\n",
       "      <td>[1222, 768, 510, 345, 401, 68]</td>\n",
       "    </tr>\n",
       "    <tr>\n",
       "      <th>1535</th>\n",
       "      <td>14889</td>\n",
       "      <td>[294, 163, 98, 69, 36, 0]</td>\n",
       "    </tr>\n",
       "    <tr>\n",
       "      <th>1536</th>\n",
       "      <td>14891</td>\n",
       "      <td>[947, 475, 297, 175, 174, 0]</td>\n",
       "    </tr>\n",
       "    <tr>\n",
       "      <th>1537</th>\n",
       "      <td>14892</td>\n",
       "      <td>[1701, 903, 525, 264, 255, 36]</td>\n",
       "    </tr>\n",
       "  </tbody>\n",
       "</table>\n",
       "<p>1538 rows × 2 columns</p>\n",
       "</div>"
      ],
      "text/plain": [
       "      Zip code                                    new\n",
       "0        10001   [4329, 2659, 1875, 1241, 1921, 1565]\n",
       "1        10002  [25950, 8925, 4008, 2126, 2442, 1087]\n",
       "2        10003   [6733, 5261, 4386, 3059, 5581, 5005]\n",
       "3        10004         [364, 309, 253, 214, 497, 698]\n",
       "4        10005       [908, 859, 762, 524, 1191, 1359]\n",
       "5        10006         [404, 373, 308, 256, 576, 508]\n",
       "6        10007        [526, 351, 327, 215, 638, 1471]\n",
       "7        10009  [11340, 7535, 5169, 2918, 3689, 1429]\n",
       "8        10010   [3360, 2970, 2631, 1926, 3475, 3126]\n",
       "9        10011   [6517, 4878, 4225, 3214, 6113, 5801]\n",
       "10       10012   [3278, 2424, 1881, 1341, 2262, 2025]\n",
       "11       10013   [6638, 2350, 1486, 1008, 1809, 3001]\n",
       "12       10014   [3854, 3042, 2655, 2071, 4099, 3704]\n",
       "13       10016   [6082, 5540, 4976, 3522, 6094, 5082]\n",
       "14       10017   [5257, 2033, 1767, 1237, 2390, 2644]\n",
       "15       10018       [1737, 1238, 746, 496, 900, 964]\n",
       "16       10019   [5876, 4454, 3452, 2421, 4568, 3906]\n",
       "17       10021   [4530, 3587, 3314, 2508, 4508, 5935]\n",
       "18       10022   [3482, 2847, 2541, 2101, 4095, 5227]\n",
       "19       10023   [7076, 4711, 4268, 3396, 7032, 8115]\n",
       "20       10024   [7053, 4770, 3920, 2930, 5671, 7026]\n",
       "21       10025  [14969, 9407, 6499, 3986, 6922, 5841]\n",
       "22       10026    [8003, 4680, 2187, 1087, 1273, 567]\n",
       "23       10027   [13197, 6990, 2979, 1430, 1740, 787]\n",
       "24       10028   [4981, 4418, 3773, 2871, 4608, 5295]\n",
       "25       10029   [17404, 9465, 3654, 1366, 1113, 532]\n",
       "26       10030      [6892, 3766, 1388, 512, 387, 109]\n",
       "27       10031    [16074, 8259, 2752, 1079, 827, 190]\n",
       "28       10032    [16819, 8371, 2888, 1064, 874, 186]\n",
       "29       10033   [14699, 7925, 2655, 1323, 1318, 370]\n",
       "...        ...                                    ...\n",
       "1508     14847             [447, 310, 173, 99, 86, 0]\n",
       "1509     14850   [8969, 5712, 2789, 1841, 2974, 1197]\n",
       "1510     14853                  [123, 77, 0, 0, 0, 0]\n",
       "1511     14855                [194, 94, 44, 48, 0, 0]\n",
       "1512     14858             [294, 176, 141, 78, 68, 0]\n",
       "1513     14859             [207, 139, 101, 41, 28, 0]\n",
       "1514     14860              [214, 126, 73, 48, 38, 0]\n",
       "1515     14861              [263, 180, 93, 51, 47, 0]\n",
       "1516     14864              [269, 158, 83, 43, 32, 0]\n",
       "1517     14865           [536, 280, 176, 108, 106, 0]\n",
       "1518     14867          [1060, 735, 407, 214, 200, 0]\n",
       "1519     14869              [272, 171, 89, 63, 45, 0]\n",
       "1520     14870        [1623, 869, 708, 457, 675, 244]\n",
       "1521     14871          [758, 454, 385, 276, 276, 48]\n",
       "1522     14872                [134, 75, 49, 43, 0, 0]\n",
       "1523     14873             [479, 288, 153, 84, 63, 0]\n",
       "1524     14874                   [55, 62, 0, 0, 0, 0]\n",
       "1525     14877                 [96, 37, 27, 34, 0, 0]\n",
       "1526     14878               [122, 67, 45, 20, 24, 0]\n",
       "1527     14879             [428, 242, 169, 87, 54, 0]\n",
       "1528     14880              [314, 169, 98, 76, 39, 0]\n",
       "1529     14881                   [56, 88, 0, 0, 0, 0]\n",
       "1530     14882          [651, 456, 300, 205, 258, 63]\n",
       "1531     14883           [698, 526, 284, 181, 144, 0]\n",
       "1532     14884                  [50, 49, 52, 0, 0, 0]\n",
       "1533     14885                [138, 88, 51, 31, 0, 0]\n",
       "1534     14886         [1222, 768, 510, 345, 401, 68]\n",
       "1535     14889              [294, 163, 98, 69, 36, 0]\n",
       "1536     14891           [947, 475, 297, 175, 174, 0]\n",
       "1537     14892         [1701, 903, 525, 264, 255, 36]\n",
       "\n",
       "[1538 rows x 2 columns]"
      ]
     },
     "execution_count": 30,
     "metadata": {},
     "output_type": "execute_result"
    }
   ],
   "source": [
    "df1 = column_appended_data.groupby('Zip code')['2011'].apply(list).reset_index(name='new')\n",
    "df1"
   ]
  },
  {
   "cell_type": "code",
   "execution_count": 36,
   "metadata": {},
   "outputs": [],
   "source": [
    "df2011 = pd.DataFrame(income_2011, columns=['Size of adjusted gross income', 'Number of returns'])\n",
    "df2011 = df2011.groupby('Size of adjusted gross income').sum()"
   ]
  },
  {
   "cell_type": "code",
   "execution_count": 37,
   "metadata": {},
   "outputs": [],
   "source": [
    "df2012 = pd.DataFrame(income_2012, columns=['Size of adjusted gross income', 'Number of returns'])\n",
    "df2012 = df2012.groupby('Size of adjusted gross income').sum()"
   ]
  },
  {
   "cell_type": "code",
   "execution_count": 38,
   "metadata": {},
   "outputs": [],
   "source": [
    "df2013 = pd.DataFrame(income_2013, columns=['Size of adjusted gross income', 'Number of returns'])\n",
    "df2013 = df2013.groupby('Size of adjusted gross income').sum()"
   ]
  },
  {
   "cell_type": "code",
   "execution_count": 39,
   "metadata": {},
   "outputs": [],
   "source": [
    "df2014 = pd.DataFrame(income_2014, columns=['Size of adjusted gross income', 'Number of returns'])\n",
    "df2014 = df2014.groupby('Size of adjusted gross income').sum()"
   ]
  },
  {
   "cell_type": "code",
   "execution_count": 40,
   "metadata": {},
   "outputs": [],
   "source": [
    "df2015 = pd.DataFrame(income_2015, columns=['Size of adjusted gross income', 'Number of returns'])\n",
    "df2015 = df2015.groupby('Size of adjusted gross income').sum()"
   ]
  },
  {
   "cell_type": "code",
   "execution_count": 41,
   "metadata": {},
   "outputs": [],
   "source": [
    "df2016 = pd.DataFrame(income_2016, columns=['Size of adjusted gross income', 'Number of returns'])\n",
    "df2016 = df2016.groupby('Size of adjusted gross income').sum()"
   ]
  },
  {
   "cell_type": "code",
   "execution_count": 53,
   "metadata": {},
   "outputs": [
    {
     "data": {
      "text/plain": [
       "<matplotlib.axes._subplots.AxesSubplot at 0x286ee6eac88>"
      ]
     },
     "execution_count": 53,
     "metadata": {},
     "output_type": "execute_result"
    },
    {
     "data": {
      "image/png": "[encoded data removed]",
      "text/plain": [
       "<Figure size 432x288 with 1 Axes>"
      ]
     },
     "metadata": {
      "needs_background": "light"
     },
     "output_type": "display_data"
    }
   ],
   "source": [
    "#df2011.plot.bar() * df2012.plot.bar() * df2013.plot.bar() * df2014.plot.bar() * df2015.plot.bar() * df2016.plot.bar()\n",
    "\n",
    "df2011.plot.bar()"
   ]
  },
  {
   "cell_type": "code",
   "execution_count": 54,
   "metadata": {},
   "outputs": [
    {
     "data": {
      "text/plain": [
       "<matplotlib.axes._subplots.AxesSubplot at 0x286ee9710b8>"
      ]
     },
     "execution_count": 54,
     "metadata": {},
     "output_type": "execute_result"
    },
    {
     "data": {
      "image/png": "[encoded data removed]",
      "text/plain": [
       "<Figure size 432x288 with 1 Axes>"
      ]
     },
     "metadata": {
      "needs_background": "light"
     },
     "output_type": "display_data"
    }
   ],
   "source": [
    "income_2011.plot()"
   ]
  },
  {
   "cell_type": "code",
   "execution_count": 34,
   "metadata": {},
   "outputs": [
    {
     "data": {
      "text/plain": [
       "array([<matplotlib.axes._subplots.AxesSubplot object at 0x00000286F61FAF98>],\n",
       "      dtype=object)"
      ]
     },
     "execution_count": 34,
     "metadata": {},
     "output_type": "execute_result"
    },
    {
     "data": {
      "image/png": "[encoded data removed]",
      "text/plain": [
       "<Figure size 1800x1080 with 1 Axes>"
      ]
     },
     "metadata": {},
     "output_type": "display_data"
    }
   ],
   "source": [
    "new_df2.plot.pie(subplots=True, figsize=(25, 15), autopct='%.2f')"
   ]
  },
  {
   "cell_type": "code",
   "execution_count": null,
   "metadata": {},
   "outputs": [],
   "source": [
    "#pivot_df = column_appended_data.transpose()"
   ]
  },
  {
   "cell_type": "code",
   "execution_count": null,
   "metadata": {},
   "outputs": [],
   "source": [
    "#pivot_df"
   ]
  },
  {
   "cell_type": "code",
   "execution_count": 29,
   "metadata": {},
   "outputs": [],
   "source": [
    "new_df3 = pd.pivot_table(income_2011, values='Number of returns', index=['Size of adjusted gross income'], columns=['Zip code'])"
   ]
  },
  {
   "cell_type": "code",
   "execution_count": 30,
   "metadata": {},
   "outputs": [],
   "source": [
    "new_df4 = new_df3.head(1)"
   ]
  },
  {
   "cell_type": "code",
   "execution_count": 31,
   "metadata": {},
   "outputs": [
    {
     "data": {
      "text/plain": [
       "<matplotlib.axes._subplots.AxesSubplot at 0x27a94bdd198>"
      ]
     },
     "execution_count": 31,
     "metadata": {},
     "output_type": "execute_result"
    }
   ],
   "source": [
    "new_df4.plot.bar()"
   ]
  },
  {
   "cell_type": "code",
   "execution_count": null,
   "metadata": {},
   "outputs": [],
   "source": []
  },
  {
   "cell_type": "code",
   "execution_count": null,
   "metadata": {},
   "outputs": [],
   "source": []
  },
  {
   "cell_type": "code",
   "execution_count": null,
   "metadata": {},
   "outputs": [],
   "source": []
  }
 ],
 "metadata": {
  "kernelspec": {
   "display_name": "Python 3",
   "language": "python",
   "name": "python3"
  },
  "language_info": {
   "codemirror_mode": {
    "name": "ipython",
    "version": 3
   },
   "file_extension": ".py",
   "mimetype": "text/x-python",
   "name": "python",
   "nbconvert_exporter": "python",
   "pygments_lexer": "ipython3",
   "version": "3.7.1"
  }
 },
 "nbformat": 4,
 "nbformat_minor": 2
}
